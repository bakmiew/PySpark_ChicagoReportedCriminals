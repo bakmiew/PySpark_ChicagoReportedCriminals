{
  "nbformat": 4,
  "nbformat_minor": 0,
  "metadata": {
    "colab": {
      "provenance": [],
      "collapsed_sections": [
        "XcBsyT5NUSi6",
        "bUX32wb6uWOA"
      ]
    },
    "kernelspec": {
      "name": "python3",
      "display_name": "Python 3"
    },
    "language_info": {
      "name": "python"
    }
  },
  "cells": [
    {
      "cell_type": "markdown",
      "source": [
        "# **Apache PySpark**"
      ],
      "metadata": {
        "id": "CFUd8XOiDpoF"
      }
    },
    {
      "cell_type": "markdown",
      "source": [
        "## Install Spark, Pyspark"
      ],
      "metadata": {
        "id": "3QQRJ9S2DzK-"
      }
    },
    {
      "cell_type": "code",
      "execution_count": null,
      "metadata": {
        "id": "fH2-NXSUC1vA"
      },
      "outputs": [],
      "source": [
        "# install java\n",
        "!apt-get install openjdk-8-jdk-headless -qq > /dev/null\n",
        "\n",
        "# install spark (change the version number if needed)\n",
        "!wget -q https://archive.apache.org/dist/spark/spark-3.0.0/spark-3.0.0-bin-hadoop3.2.tgz\n",
        "\n",
        "# unzip the spark file to the current folder\n",
        "!tar xf spark-3.0.0-bin-hadoop3.2.tgz\n",
        "\n",
        "# set your spark folder to your system path environment.\n",
        "import os\n",
        "os.environ[\"JAVA_HOME\"] = \"/usr/lib/jvm/java-8-openjdk-amd64\"\n",
        "os.environ[\"SPARK_HOME\"] = \"/content/spark-3.0.0-bin-hadoop3.2\"\n",
        "\n",
        "\n",
        "# install findspark using pip\n",
        "!pip install -q findspark\n"
      ]
    },
    {
      "cell_type": "code",
      "source": [
        "import findspark\n",
        "findspark.init()\n",
        "from pyspark.sql import SparkSession\n",
        "\n",
        "spark = SparkSession.builder.master(\"local[*]\").getOrCreate()\n",
        "spark"
      ],
      "metadata": {
        "colab": {
          "base_uri": "https://localhost:8080/",
          "height": 222
        },
        "id": "xNSn166WKOmZ",
        "outputId": "b71025b7-83cb-40a7-fc23-b7be58d03cf3"
      },
      "execution_count": null,
      "outputs": [
        {
          "output_type": "execute_result",
          "data": {
            "text/plain": [
              "<pyspark.sql.session.SparkSession at 0x7e186d9ec490>"
            ],
            "text/html": [
              "\n",
              "            <div>\n",
              "                <p><b>SparkSession - in-memory</b></p>\n",
              "                \n",
              "        <div>\n",
              "            <p><b>SparkContext</b></p>\n",
              "\n",
              "            <p><a href=\"http://3fd65b89820c:4040\">Spark UI</a></p>\n",
              "\n",
              "            <dl>\n",
              "              <dt>Version</dt>\n",
              "                <dd><code>v3.0.0</code></dd>\n",
              "              <dt>Master</dt>\n",
              "                <dd><code>local[*]</code></dd>\n",
              "              <dt>AppName</dt>\n",
              "                <dd><code>pyspark-shell</code></dd>\n",
              "            </dl>\n",
              "        </div>\n",
              "        \n",
              "            </div>\n",
              "        "
            ]
          },
          "metadata": {},
          "execution_count": 2
        }
      ]
    },
    {
      "cell_type": "code",
      "source": [
        "from pyspark import SparkContext\n",
        "\n",
        "sc = SparkContext.getOrCreate()\n",
        "sc"
      ],
      "metadata": {
        "colab": {
          "base_uri": "https://localhost:8080/",
          "height": 198
        },
        "id": "BB3BXQAmLQdn",
        "outputId": "6044f6ac-f564-44c1-a5ed-ceda68a64e39"
      },
      "execution_count": null,
      "outputs": [
        {
          "output_type": "execute_result",
          "data": {
            "text/plain": [
              "<SparkContext master=local[*] appName=pyspark-shell>"
            ],
            "text/html": [
              "\n",
              "        <div>\n",
              "            <p><b>SparkContext</b></p>\n",
              "\n",
              "            <p><a href=\"http://3fd65b89820c:4040\">Spark UI</a></p>\n",
              "\n",
              "            <dl>\n",
              "              <dt>Version</dt>\n",
              "                <dd><code>v3.0.0</code></dd>\n",
              "              <dt>Master</dt>\n",
              "                <dd><code>local[*]</code></dd>\n",
              "              <dt>AppName</dt>\n",
              "                <dd><code>pyspark-shell</code></dd>\n",
              "            </dl>\n",
              "        </div>\n",
              "        "
            ]
          },
          "metadata": {},
          "execution_count": 3
        }
      ]
    },
    {
      "cell_type": "code",
      "source": [
        "!pip install pyspark==3.4.0"
      ],
      "metadata": {
        "colab": {
          "base_uri": "https://localhost:8080/",
          "height": 355
        },
        "id": "FxIyhe_3KfgQ",
        "outputId": "6e422c8f-fd38-43e1-bd51-eb43956c03ab"
      },
      "execution_count": null,
      "outputs": [
        {
          "output_type": "stream",
          "name": "stdout",
          "text": [
            "Collecting pyspark==3.4.0\n",
            "  Downloading pyspark-3.4.0.tar.gz (310.8 MB)\n",
            "\u001b[2K     \u001b[90m━━━━━━━━━━━━━━━━━━━━━━━━━━━━━━━━━━━━━━━━\u001b[0m \u001b[32m310.8/310.8 MB\u001b[0m \u001b[31m3.4 MB/s\u001b[0m eta \u001b[36m0:00:00\u001b[0m\n",
            "\u001b[?25h  Preparing metadata (setup.py) ... \u001b[?25l\u001b[?25hdone\n",
            "Requirement already satisfied: py4j==0.10.9.7 in /usr/local/lib/python3.10/dist-packages (from pyspark==3.4.0) (0.10.9.7)\n",
            "Building wheels for collected packages: pyspark\n",
            "  Building wheel for pyspark (setup.py) ... \u001b[?25l\u001b[?25hdone\n",
            "  Created wheel for pyspark: filename=pyspark-3.4.0-py2.py3-none-any.whl size=311317123 sha256=edfd093b1c96d8455fa55728664403bdbe063e5a31a7dba0599f625b2e86e0ad\n",
            "  Stored in directory: /root/.cache/pip/wheels/7b/1b/4b/3363a1d04368e7ff0d408e57ff57966fcdf00583774e761327\n",
            "Successfully built pyspark\n",
            "Installing collected packages: pyspark\n",
            "Successfully installed pyspark-3.4.0\n"
          ]
        },
        {
          "output_type": "display_data",
          "data": {
            "application/vnd.colab-display-data+json": {
              "pip_warning": {
                "packages": [
                  "pyspark"
                ]
              }
            }
          },
          "metadata": {}
        }
      ]
    },
    {
      "cell_type": "markdown",
      "source": [
        "## Downloading and preprocessing"
      ],
      "metadata": {
        "id": "1p_5aTm_V2Mt"
      }
    },
    {
      "cell_type": "code",
      "source": [
        "!ls\n"
      ],
      "metadata": {
        "colab": {
          "base_uri": "https://localhost:8080/"
        },
        "id": "zMn0sQbqV-9M",
        "outputId": "674e6148-4ba5-4926-fd8f-59746db3155d"
      },
      "execution_count": null,
      "outputs": [
        {
          "output_type": "stream",
          "name": "stdout",
          "text": [
            "sample_data  spark-3.0.0-bin-hadoop3.2\tspark-3.0.0-bin-hadoop3.2.tgz\n"
          ]
        }
      ]
    },
    {
      "cell_type": "code",
      "source": [
        "!wget https://data.cityofchicago.org/api/views/ijzp-q8t2/rows.csv?accessType=DOWNLOAD"
      ],
      "metadata": {
        "colab": {
          "base_uri": "https://localhost:8080/"
        },
        "id": "V7up0RHFZvTz",
        "outputId": "f7bc2ea1-0d43-460d-a6a0-d96e93ad2cca"
      },
      "execution_count": null,
      "outputs": [
        {
          "output_type": "stream",
          "name": "stdout",
          "text": [
            "--2023-12-14 01:08:04--  https://data.cityofchicago.org/api/views/ijzp-q8t2/rows.csv?accessType=DOWNLOAD\n",
            "Resolving data.cityofchicago.org (data.cityofchicago.org)... 52.206.140.205, 52.206.68.26, 52.206.140.199\n",
            "Connecting to data.cityofchicago.org (data.cityofchicago.org)|52.206.140.205|:443... connected.\n",
            "HTTP request sent, awaiting response... 200 OK\n",
            "Length: unspecified [text/csv]\n",
            "Saving to: ‘rows.csv?accessType=DOWNLOAD’\n",
            "\n",
            "rows.csv?accessType     [       <=>          ]   1.75G  2.38MB/s    in 11m 24s \n",
            "\n",
            "2023-12-14 01:19:29 (2.62 MB/s) - ‘rows.csv?accessType=DOWNLOAD’ saved [1878534482]\n",
            "\n"
          ]
        }
      ]
    },
    {
      "cell_type": "code",
      "source": [
        "!ls\n"
      ],
      "metadata": {
        "colab": {
          "base_uri": "https://localhost:8080/"
        },
        "id": "l9VSQJvpZ9CA",
        "outputId": "3184ec9f-5048-4685-bd71-f3f1dabdf715"
      },
      "execution_count": null,
      "outputs": [
        {
          "output_type": "stream",
          "name": "stdout",
          "text": [
            "'rows.csv?accessType=DOWNLOAD'\t spark-3.0.0-bin-hadoop3.2\n",
            " sample_data\t\t\t spark-3.0.0-bin-hadoop3.2.tgz\n"
          ]
        }
      ]
    },
    {
      "cell_type": "code",
      "source": [
        "#change file name\n",
        "!mv rows.csv\\?accessType\\=DOWNLOAD reported-crimes.csv\n",
        "!ls -l"
      ],
      "metadata": {
        "colab": {
          "base_uri": "https://localhost:8080/"
        },
        "id": "0IiPMwryeQy0",
        "outputId": "748b973e-2d77-4890-c55c-40ae431408b9"
      },
      "execution_count": null,
      "outputs": [
        {
          "output_type": "stream",
          "name": "stdout",
          "text": [
            "mv: cannot stat 'rows.csv?accessType=DOWNLOAD': No such file or directory\n",
            "total 2053716\n",
            "-rw-r--r--  1 root root 1878534482 Dec 13 11:52 reported-crimes.csv\n",
            "drwxr-xr-x  1 root root       4096 Dec 12 14:21 sample_data\n",
            "drwxr-xr-x 13 1000 1000       4096 Jun  6  2020 spark-3.0.0-bin-hadoop3.2\n",
            "-rw-r--r--  1 root root  224453229 Jun  6  2020 spark-3.0.0-bin-hadoop3.2.tgz\n"
          ]
        }
      ]
    },
    {
      "cell_type": "code",
      "source": [
        "#read CSV file to DataFrame\n",
        "#change format column'Date' to Timestamp\n",
        "#filtering data by date\n",
        "from pyspark.sql.functions import to_timestamp,col,lit\n",
        "data = spark.read.csv('reported-crimes.csv',header=True).withColumn('Date',to_timestamp(col('Date'),'MM/dd/yyyy hh:mm:ss a')).filter(col('Date') <= lit('2018-11-11'))\n",
        "data.show(10)"
      ],
      "metadata": {
        "colab": {
          "base_uri": "https://localhost:8080/"
        },
        "id": "4WSRZ7x_fyqq",
        "outputId": "15483648-51e2-41f8-b8bd-b765dd5eafc7"
      },
      "execution_count": 68,
      "outputs": [
        {
          "output_type": "stream",
          "name": "stdout",
          "text": [
            "+--------+-----------+-------------------+--------------------+----+------------------+--------------------+--------------------+------+--------+----+--------+----+--------------+--------+------------+------------+----+--------------------+------------+-------------+--------------------+\n",
            "|      ID|Case Number|               Date|               Block|IUCR|      Primary Type|         Description|Location Description|Arrest|Domestic|Beat|District|Ward|Community Area|FBI Code|X Coordinate|Y Coordinate|Year|          Updated On|    Latitude|    Longitude|            Location|\n",
            "+--------+-----------+-------------------+--------------------+----+------------------+--------------------+--------------------+------+--------+----+--------+----+--------------+--------+------------+------------+----+--------------------+------------+-------------+--------------------+\n",
            "|11037294|   JA371270|2015-03-18 12:00:00|   0000X W WACKER DR|1153|DECEPTIVE PRACTICE|FINANCIAL IDENTIT...|                BANK| false|   false|0111|     001|  42|            32|      11|        null|        null|2015|08/01/2017 03:52:...|        null|         null|                null|\n",
            "|11645836|   JC212333|2016-05-01 00:25:00| 055XX S ROCKWELL ST|1153|DECEPTIVE PRACTICE|FINANCIAL IDENTIT...|                null| false|   false|0824|     008|  15|            63|      11|        null|        null|2016|04/06/2019 04:04:...|        null|         null|                null|\n",
            "|11645601|   JC212935|2014-06-01 00:01:00| 087XX S SANGAMON ST|1153|DECEPTIVE PRACTICE|FINANCIAL IDENTIT...|           RESIDENCE| false|   false|2222|     022|  21|            71|      11|        null|        null|2014|04/06/2019 04:04:...|        null|         null|                null|\n",
            "|11646166|   JC213529|2018-09-01 00:01:00|082XX S INGLESIDE...|0810|             THEFT|           OVER $500|           RESIDENCE| false|    true|0631|     006|   8|            44|      06|        null|        null|2018|04/06/2019 04:04:...|        null|         null|                null|\n",
            "|11645648|   JC212959|2018-01-01 08:00:00| 024XX N MONITOR AVE|1153|DECEPTIVE PRACTICE|FINANCIAL IDENTIT...|           RESIDENCE| false|   false|2515|     025|  30|            19|      11|        null|        null|2018|04/06/2019 04:04:...|        null|         null|                null|\n",
            "|11645557|   JC212685|2018-04-01 00:01:00|  080XX S VERNON AVE|1153|DECEPTIVE PRACTICE|FINANCIAL IDENTIT...|           RESIDENCE| false|   false|0631|     006|   6|            44|      11|        null|        null|2018|04/06/2019 04:04:...|        null|         null|                null|\n",
            "|11645527|   JC212744|2015-02-02 10:00:00|  069XX W ARCHER AVE|1153|DECEPTIVE PRACTICE|FINANCIAL IDENTIT...|               OTHER| false|   false|0811|     008|  23|            56|      11|        null|        null|2015|04/06/2019 04:04:...|        null|         null|                null|\n",
            "|11645833|   JC213044|2012-05-05 12:25:00|     057XX W OHIO ST|1153|DECEPTIVE PRACTICE|FINANCIAL IDENTIT...|                null| false|   false|1511|     015|  29|            25|      11|        null|        null|2012|04/06/2019 04:04:...|        null|         null|                null|\n",
            "| 4144897|   HL474854|2005-07-10 15:00:00| 062XX S ABERDEEN ST|0430|           BATTERY|AGGRAVATED: OTHER...|              STREET| false|   false|0712|     007|  16|            68|     04B|     1170050|     1863524|2005|02/28/2018 03:56:...|41.781002663|-87.652107119|(41.781002663, -8...|\n",
            "| 1744168|    G553545|2001-09-15 02:00:00|     013XX W POLK ST|0460|           BATTERY|              SIMPLE|              STREET| false|   false|1213|     012|null|          null|     08B|        null|        null|2001|08/17/2015 03:03:...|        null|         null|                null|\n",
            "+--------+-----------+-------------------+--------------------+----+------------------+--------------------+--------------------+------+--------+----+--------+----+--------------+--------+------------+------------+----+--------------------+------------+-------------+--------------------+\n",
            "only showing top 10 rows\n",
            "\n"
          ]
        }
      ]
    },
    {
      "cell_type": "markdown",
      "source": [
        "## Schemas"
      ],
      "metadata": {
        "id": "2PA5T2pLyQKW"
      }
    },
    {
      "cell_type": "code",
      "source": [
        "#DataFrames current schemas\n",
        "data.printSchema()"
      ],
      "metadata": {
        "colab": {
          "base_uri": "https://localhost:8080/"
        },
        "id": "kL4UXWxWyWdH",
        "outputId": "76523ea1-56ca-4208-e4f0-6e105a78a707"
      },
      "execution_count": 118,
      "outputs": [
        {
          "output_type": "stream",
          "name": "stdout",
          "text": [
            "root\n",
            " |-- ID: string (nullable = true)\n",
            " |-- Case Number: string (nullable = true)\n",
            " |-- Date: string (nullable = true)\n",
            " |-- Block: string (nullable = true)\n",
            " |-- IUCR: string (nullable = true)\n",
            " |-- Primary Type: string (nullable = true)\n",
            " |-- Description: string (nullable = true)\n",
            " |-- Location Description: string (nullable = true)\n",
            " |-- Arrest: string (nullable = true)\n",
            " |-- Domestic: string (nullable = true)\n",
            " |-- Beat: string (nullable = true)\n",
            " |-- District: string (nullable = true)\n",
            " |-- Ward: string (nullable = true)\n",
            " |-- Community Area: string (nullable = true)\n",
            " |-- FBI Code: string (nullable = true)\n",
            " |-- X Coordinate: string (nullable = true)\n",
            " |-- Y Coordinate: string (nullable = true)\n",
            " |-- Year: string (nullable = true)\n",
            " |-- Updated On: string (nullable = true)\n",
            " |-- Latitude: string (nullable = true)\n",
            " |-- Longitude: string (nullable = true)\n",
            " |-- Location: string (nullable = true)\n",
            "\n"
          ]
        }
      ]
    },
    {
      "cell_type": "code",
      "source": [
        "from pyspark.sql.types import StructType, StructField, StructType, TimestampType, StringType, BooleanType,DoubleType, IntegerType"
      ],
      "metadata": {
        "id": "_MSJUTZ9y7ej"
      },
      "execution_count": null,
      "outputs": []
    },
    {
      "cell_type": "code",
      "source": [
        "data.columns"
      ],
      "metadata": {
        "colab": {
          "base_uri": "https://localhost:8080/"
        },
        "id": "V-42cMQLL8Ry",
        "outputId": "c2f294af-d6d3-4bf6-cde0-c915ce71f94b"
      },
      "execution_count": 69,
      "outputs": [
        {
          "output_type": "execute_result",
          "data": {
            "text/plain": [
              "['ID',\n",
              " 'Case Number',\n",
              " 'Date',\n",
              " 'Block',\n",
              " 'IUCR',\n",
              " 'Primary Type',\n",
              " 'Description',\n",
              " 'Location Description',\n",
              " 'Arrest',\n",
              " 'Domestic',\n",
              " 'Beat',\n",
              " 'District',\n",
              " 'Ward',\n",
              " 'Community Area',\n",
              " 'FBI Code',\n",
              " 'X Coordinate',\n",
              " 'Y Coordinate',\n",
              " 'Year',\n",
              " 'Updated On',\n",
              " 'Latitude',\n",
              " 'Longitude',\n",
              " 'Location']"
            ]
          },
          "metadata": {},
          "execution_count": 69
        }
      ]
    },
    {
      "cell_type": "code",
      "source": [
        "#manual\n",
        "schema StructType ([\n",
        "    StructField('ID', StringType, True),\n",
        "    StructField('Case Number',StringType, True),\n",
        "    StructField( 'Date', TimestampType, True),\n",
        " 'Block',\n",
        " 'IUCR',\n",
        " 'Primary Type',\n",
        " 'Description',\n",
        " 'Location Description',\n",
        " 'Arrest',\n",
        " 'Domestic',\n",
        " 'Beat',\n",
        " 'District',\n",
        " 'Ward',\n",
        " 'Community Area',\n",
        " 'FBI Code',\n",
        " 'X Coordinate',\n",
        " 'Y Coordinate',\n",
        " 'Year',\n",
        " 'Updated On',\n",
        " 'Latitude',\n",
        " 'Longitude',\n",
        " 'Location'\n",
        "])"
      ],
      "metadata": {
        "colab": {
          "base_uri": "https://localhost:8080/",
          "height": 144
        },
        "id": "k0_USq9-NZ0P",
        "outputId": "0d466e60-88df-4a73-a031-98501fe8d403"
      },
      "execution_count": null,
      "outputs": [
        {
          "output_type": "error",
          "ename": "SyntaxError",
          "evalue": "ignored",
          "traceback": [
            "\u001b[0;36m  File \u001b[0;32m\"<ipython-input-14-a52610ab9f19>\"\u001b[0;36m, line \u001b[0;32m1\u001b[0m\n\u001b[0;31m    schema StructType ([\u001b[0m\n\u001b[0m           ^\u001b[0m\n\u001b[0;31mSyntaxError\u001b[0m\u001b[0;31m:\u001b[0m invalid syntax\n"
          ]
        }
      ]
    },
    {
      "cell_type": "code",
      "source": [
        "#pintasan\n",
        "labels = [\n",
        "    ('ID', StringType()),\n",
        "    ('Case Number', StringType()),\n",
        "    ('Date', TimestampType()),\n",
        "    ('Block', StringType()),\n",
        "    ('IUCR', StringType()),\n",
        "    ('Primary Type', StringType()),\n",
        "    ('Description', StringType()),\n",
        "    ('Location Description',StringType()),\n",
        "    ('Arrest',StringType()),\n",
        "    ('Domestic',BooleanType()),\n",
        "    ('Beat', StringType()),\n",
        "    ('District', StringType()),\n",
        "    ('Ward', StringType()),\n",
        "    ('Community Area', StringType()),\n",
        "    ('FBI Code', StringType()),\n",
        "    ('X Coordinate', StringType()),\n",
        "    ('Y Coordinate', StringType()),\n",
        "    ('Year', IntegerType()),\n",
        "    ('Updated On', StringType()),\n",
        "    ('Latitude', DoubleType()),\n",
        "    ('Longitude',DoubleType()),\n",
        "    ('Location', StringType())\n",
        "]"
      ],
      "metadata": {
        "id": "xc2g6HuiPZTn"
      },
      "execution_count": null,
      "outputs": []
    },
    {
      "cell_type": "code",
      "source": [
        "schema = StructType([StructField (x[0],x[1],True)for x in labels ])\n",
        "schema"
      ],
      "metadata": {
        "colab": {
          "base_uri": "https://localhost:8080/"
        },
        "id": "lM6MUVtvagp-",
        "outputId": "f26fb4a0-0522-4eb3-a65e-4144d66c321c"
      },
      "execution_count": null,
      "outputs": [
        {
          "output_type": "execute_result",
          "data": {
            "text/plain": [
              "StructType(List(StructField(ID,StringType,true),StructField(Case Number,StringType,true),StructField(Date,TimestampType,true),StructField(Block,StringType,true),StructField(IUCR,StringType,true),StructField(Primary Type,StringType,true),StructField(Description,StringType,true),StructField(Location Description,StringType,true),StructField(Arrest,StringType,true),StructField(Domestic,BooleanType,true),StructField(Beat,StringType,true),StructField(District,StringType,true),StructField(Ward,StringType,true),StructField(Community Area,StringType,true),StructField(FBI Code,StringType,true),StructField(X Coordinate,StringType,true),StructField(Y Coordinate,StringType,true),StructField(Year,IntegerType,true),StructField(Updated On,StringType,true),StructField(Latitude,DoubleType,true),StructField(Longitude,DoubleType,true),StructField(Location,StringType,true)))"
            ]
          },
          "metadata": {},
          "execution_count": 19
        }
      ]
    },
    {
      "cell_type": "code",
      "source": [
        "# data = spark.read.csv('reported-crimes.csv', schema=schema)\n",
        "# data.printSchema()"
      ],
      "metadata": {
        "id": "YgF0LCI4ci5O"
      },
      "execution_count": 74,
      "outputs": []
    },
    {
      "cell_type": "code",
      "source": [
        "data.show(10)"
      ],
      "metadata": {
        "colab": {
          "base_uri": "https://localhost:8080/"
        },
        "id": "B6a0SYyKeIJZ",
        "outputId": "86626365-c323-412d-871a-bc9c78e6aadd"
      },
      "execution_count": 76,
      "outputs": [
        {
          "output_type": "stream",
          "name": "stdout",
          "text": [
            "+--------+-----------+-------------------+--------------------+----+------------------+--------------------+--------------------+------+--------+----+--------+----+--------------+--------+------------+------------+----+--------------------+------------+-------------+--------------------+\n",
            "|      ID|Case Number|               Date|               Block|IUCR|      Primary Type|         Description|Location Description|Arrest|Domestic|Beat|District|Ward|Community Area|FBI Code|X Coordinate|Y Coordinate|Year|          Updated On|    Latitude|    Longitude|            Location|\n",
            "+--------+-----------+-------------------+--------------------+----+------------------+--------------------+--------------------+------+--------+----+--------+----+--------------+--------+------------+------------+----+--------------------+------------+-------------+--------------------+\n",
            "|11037294|   JA371270|2015-03-18 12:00:00|   0000X W WACKER DR|1153|DECEPTIVE PRACTICE|FINANCIAL IDENTIT...|                BANK| false|   false|0111|     001|  42|            32|      11|        null|        null|2015|08/01/2017 03:52:...|        null|         null|                null|\n",
            "|11645836|   JC212333|2016-05-01 00:25:00| 055XX S ROCKWELL ST|1153|DECEPTIVE PRACTICE|FINANCIAL IDENTIT...|                null| false|   false|0824|     008|  15|            63|      11|        null|        null|2016|04/06/2019 04:04:...|        null|         null|                null|\n",
            "|11645601|   JC212935|2014-06-01 00:01:00| 087XX S SANGAMON ST|1153|DECEPTIVE PRACTICE|FINANCIAL IDENTIT...|           RESIDENCE| false|   false|2222|     022|  21|            71|      11|        null|        null|2014|04/06/2019 04:04:...|        null|         null|                null|\n",
            "|11646166|   JC213529|2018-09-01 00:01:00|082XX S INGLESIDE...|0810|             THEFT|           OVER $500|           RESIDENCE| false|    true|0631|     006|   8|            44|      06|        null|        null|2018|04/06/2019 04:04:...|        null|         null|                null|\n",
            "|11645648|   JC212959|2018-01-01 08:00:00| 024XX N MONITOR AVE|1153|DECEPTIVE PRACTICE|FINANCIAL IDENTIT...|           RESIDENCE| false|   false|2515|     025|  30|            19|      11|        null|        null|2018|04/06/2019 04:04:...|        null|         null|                null|\n",
            "|11645557|   JC212685|2018-04-01 00:01:00|  080XX S VERNON AVE|1153|DECEPTIVE PRACTICE|FINANCIAL IDENTIT...|           RESIDENCE| false|   false|0631|     006|   6|            44|      11|        null|        null|2018|04/06/2019 04:04:...|        null|         null|                null|\n",
            "|11645527|   JC212744|2015-02-02 10:00:00|  069XX W ARCHER AVE|1153|DECEPTIVE PRACTICE|FINANCIAL IDENTIT...|               OTHER| false|   false|0811|     008|  23|            56|      11|        null|        null|2015|04/06/2019 04:04:...|        null|         null|                null|\n",
            "|11645833|   JC213044|2012-05-05 12:25:00|     057XX W OHIO ST|1153|DECEPTIVE PRACTICE|FINANCIAL IDENTIT...|                null| false|   false|1511|     015|  29|            25|      11|        null|        null|2012|04/06/2019 04:04:...|        null|         null|                null|\n",
            "| 4144897|   HL474854|2005-07-10 15:00:00| 062XX S ABERDEEN ST|0430|           BATTERY|AGGRAVATED: OTHER...|              STREET| false|   false|0712|     007|  16|            68|     04B|     1170050|     1863524|2005|02/28/2018 03:56:...|41.781002663|-87.652107119|(41.781002663, -8...|\n",
            "| 1744168|    G553545|2001-09-15 02:00:00|     013XX W POLK ST|0460|           BATTERY|              SIMPLE|              STREET| false|   false|1213|     012|null|          null|     08B|        null|        null|2001|08/17/2015 03:03:...|        null|         null|                null|\n",
            "+--------+-----------+-------------------+--------------------+----+------------------+--------------------+--------------------+------+--------+----+--------+----+--------------+--------+------------+------------+----+--------------------+------------+-------------+--------------------+\n",
            "only showing top 10 rows\n",
            "\n"
          ]
        }
      ]
    },
    {
      "cell_type": "markdown",
      "source": [
        "## Columns"
      ],
      "metadata": {
        "id": "Uh8L2mlRh9Gt"
      }
    },
    {
      "cell_type": "code",
      "source": [
        "#display 5 first rows of the columns casenumber\n",
        "data.select('Case Number').show(10)"
      ],
      "metadata": {
        "colab": {
          "base_uri": "https://localhost:8080/"
        },
        "id": "kHhGV02miCZh",
        "outputId": "28fca3d2-46a3-43e2-b79a-3916c968928a"
      },
      "execution_count": 77,
      "outputs": [
        {
          "output_type": "stream",
          "name": "stdout",
          "text": [
            "+-----------+\n",
            "|Case Number|\n",
            "+-----------+\n",
            "|   JA371270|\n",
            "|   JC212333|\n",
            "|   JC212935|\n",
            "|   JC213529|\n",
            "|   JC212959|\n",
            "|   JC212685|\n",
            "|   JC212744|\n",
            "|   JC213044|\n",
            "|   HL474854|\n",
            "|    G553545|\n",
            "+-----------+\n",
            "only showing top 10 rows\n",
            "\n"
          ]
        }
      ]
    },
    {
      "cell_type": "code",
      "source": [
        "from pyspark.sql import SparkSession\n",
        "\n",
        "# Create a SparkSession\n",
        "spark = SparkSession.builder.appName(\"SkippingHeader\").getOrCreate()\n",
        "\n",
        "# Read the CSV file and skip the header\n",
        "data = spark.read.csv('reported-crimes.csv', header=True)\n",
        "\n",
        "# Display the data\n",
        "data.show()\n"
      ],
      "metadata": {
        "colab": {
          "base_uri": "https://localhost:8080/"
        },
        "id": "A_9H3JUsixO9",
        "outputId": "93cb12b7-0d46-4ce8-d102-809838df4452"
      },
      "execution_count": 79,
      "outputs": [
        {
          "output_type": "stream",
          "name": "stdout",
          "text": [
            "+--------+-----------+--------------------+--------------------+----+------------------+--------------------+--------------------+------+--------+----+--------+----+--------------+--------+------------+------------+----+--------------------+------------+-------------+--------------------+\n",
            "|      ID|Case Number|                Date|               Block|IUCR|      Primary Type|         Description|Location Description|Arrest|Domestic|Beat|District|Ward|Community Area|FBI Code|X Coordinate|Y Coordinate|Year|          Updated On|    Latitude|    Longitude|            Location|\n",
            "+--------+-----------+--------------------+--------------------+----+------------------+--------------------+--------------------+------+--------+----+--------+----+--------------+--------+------------+------------+----+--------------------+------------+-------------+--------------------+\n",
            "|11037294|   JA371270|03/18/2015 12:00:...|   0000X W WACKER DR|1153|DECEPTIVE PRACTICE|FINANCIAL IDENTIT...|                BANK| false|   false|0111|     001|  42|            32|      11|        null|        null|2015|08/01/2017 03:52:...|        null|         null|                null|\n",
            "|11646293|   JC213749|12/20/2018 03:00:...|023XX N LOCKWOOD AVE|1154|DECEPTIVE PRACTICE|FINANCIAL IDENTIT...|           APARTMENT| false|   false|2515|     025|  36|            19|      11|        null|        null|2018|04/06/2019 04:04:...|        null|         null|                null|\n",
            "|11645836|   JC212333|05/01/2016 12:25:...| 055XX S ROCKWELL ST|1153|DECEPTIVE PRACTICE|FINANCIAL IDENTIT...|                null| false|   false|0824|     008|  15|            63|      11|        null|        null|2016|04/06/2019 04:04:...|        null|         null|                null|\n",
            "|11645959|   JC211511|12/20/2018 04:00:...|  045XX N ALBANY AVE|2820|     OTHER OFFENSE|    TELEPHONE THREAT|           RESIDENCE| false|   false|1724|     017|  33|            14|     08A|        null|        null|2018|04/06/2019 04:04:...|        null|         null|                null|\n",
            "|11645601|   JC212935|06/01/2014 12:01:...| 087XX S SANGAMON ST|1153|DECEPTIVE PRACTICE|FINANCIAL IDENTIT...|           RESIDENCE| false|   false|2222|     022|  21|            71|      11|        null|        null|2014|04/06/2019 04:04:...|        null|         null|                null|\n",
            "|11646166|   JC213529|09/01/2018 12:01:...|082XX S INGLESIDE...|0810|             THEFT|           OVER $500|           RESIDENCE| false|    true|0631|     006|   8|            44|      06|        null|        null|2018|04/06/2019 04:04:...|        null|         null|                null|\n",
            "|11645648|   JC212959|01/01/2018 08:00:...| 024XX N MONITOR AVE|1153|DECEPTIVE PRACTICE|FINANCIAL IDENTIT...|           RESIDENCE| false|   false|2515|     025|  30|            19|      11|        null|        null|2018|04/06/2019 04:04:...|        null|         null|                null|\n",
            "|11645557|   JC212685|04/01/2018 12:01:...|  080XX S VERNON AVE|1153|DECEPTIVE PRACTICE|FINANCIAL IDENTIT...|           RESIDENCE| false|   false|0631|     006|   6|            44|      11|        null|        null|2018|04/06/2019 04:04:...|        null|         null|                null|\n",
            "|11645527|   JC212744|02/02/2015 10:00:...|  069XX W ARCHER AVE|1153|DECEPTIVE PRACTICE|FINANCIAL IDENTIT...|               OTHER| false|   false|0811|     008|  23|            56|      11|        null|        null|2015|04/06/2019 04:04:...|        null|         null|                null|\n",
            "|11645833|   JC213044|05/05/2012 12:25:...|     057XX W OHIO ST|1153|DECEPTIVE PRACTICE|FINANCIAL IDENTIT...|                null| false|   false|1511|     015|  29|            25|      11|        null|        null|2012|04/06/2019 04:04:...|        null|         null|                null|\n",
            "|11645568|   JC212803|12/18/2018 11:00:...|  032XX N WILTON AVE|1153|DECEPTIVE PRACTICE|FINANCIAL IDENTIT...|           RESIDENCE| false|   false|1924|     019|  44|             6|      11|        null|        null|2018|04/06/2019 04:04:...|        null|         null|                null|\n",
            "|12045583|   JD226426|05/07/2020 10:24:...| 035XX S INDIANA AVE|0820|             THEFT|      $500 AND UNDER|           APARTMENT| false|   false|0212|     002|   3|            35|      06|     1178180|     1881621|2020|05/14/2020 08:47:...|41.830481843|-87.621751752|(41.830481843, -8...|\n",
            "|12031001|   JD209965|04/16/2020 05:00:...|     005XX W 32ND ST|0460|           BATTERY|              SIMPLE|           APARTMENT|  true|   false|0915|     009|  11|            60|     08B|     1173292|     1883705|2020|04/23/2020 03:45:...|41.836310224|-87.639624112|(41.836310224, -8...|\n",
            "|12093529|   JD282112|07/01/2020 10:16:...|   081XX S COLES AVE|051A|           ASSAULT|AGGRAVATED - HANDGUN|              STREET|  true|   false|0422|     004|   7|            46|     04A|     1198234|     1851595|2020|07/08/2020 03:41:...|41.747609555|-87.549179329|(41.747609555, -8...|\n",
            "|12178140|   JD381597|09/27/2020 11:29:...| 065XX S WOLCOTT AVE|0460|           BATTERY|              SIMPLE|RESIDENCE - PORCH...| false|   false|0726|     007|  15|            67|     08B|     1164812|     1861251|2020|10/04/2020 03:43:...| 41.77487752|-87.671374872|(41.77487752, -87...|\n",
            "| 4144897|   HL474854|07/10/2005 03:00:...| 062XX S ABERDEEN ST|0430|           BATTERY|AGGRAVATED: OTHER...|              STREET| false|   false|0712|     007|  16|            68|     04B|     1170050|     1863524|2005|02/28/2018 03:56:...|41.781002663|-87.652107119|(41.781002663, -8...|\n",
            "| 1744168|    G553545|09/15/2001 02:00:...|     013XX W POLK ST|0460|           BATTERY|              SIMPLE|              STREET| false|   false|1213|     012|null|          null|     08B|        null|        null|2001|08/17/2015 03:03:...|        null|         null|                null|\n",
            "|11641644|   JC207234|03/31/2019 09:30:...|   005XX N ogden ave|0890|             THEFT|       FROM BUILDING|          RESTAURANT| false|   false|1215|     012|   1|            24|      06|        null|        null|2019|04/07/2019 04:05:...|        null|         null|                null|\n",
            "|11615821|   JC176668|01/01/2016 12:00:...| 054XX N NATCHEZ AVE|1195|DECEPTIVE PRACTICE|FINAN EXPLOIT-ELD...|           RESIDENCE| false|    true|1613|     016|  45|            10|      11|        null|        null|2016|03/08/2019 04:36:...|        null|         null|                null|\n",
            "|12126129|   JD321064|08/04/2020 08:28:...| 081XX S LOOMIS BLVD|143A| WEAPONS VIOLATION|UNLAWFUL POSSESSI...|              STREET|  true|   false|0613|     006|  21|            71|      15|     1168412|     1850836|2020|08/11/2020 03:42:...|41.746220584|-87.658477307|(41.746220584, -8...|\n",
            "+--------+-----------+--------------------+--------------------+----+------------------+--------------------+--------------------+------+--------+----+--------+----+--------------+--------+------------+------------+----+--------------------+------------+-------------+--------------------+\n",
            "only showing top 20 rows\n",
            "\n"
          ]
        }
      ]
    },
    {
      "cell_type": "code",
      "source": [
        "#display 15 first rows of the columns casenumber\n",
        "spark = SparkSession.builder.appName(\"SkippingHeader\").getOrCreate()\n",
        "\n",
        "\n",
        "# Read the CSV file and skip the header\n",
        "data = spark.read.csv('reported-crimes.csv', header=True)\n",
        "data.select('Case Number').show(15)"
      ],
      "metadata": {
        "colab": {
          "base_uri": "https://localhost:8080/"
        },
        "id": "1Z-jmPmhi-Dk",
        "outputId": "bcb7891c-b1fc-4d3e-b6c1-0d8f3bff6b9c"
      },
      "execution_count": 119,
      "outputs": [
        {
          "output_type": "stream",
          "name": "stdout",
          "text": [
            "+-----------+\n",
            "|Case Number|\n",
            "+-----------+\n",
            "|   JA371270|\n",
            "|   JC213749|\n",
            "|   JC212333|\n",
            "|   JC211511|\n",
            "|   JC212935|\n",
            "|   JC213529|\n",
            "|   JC212959|\n",
            "|   JC212685|\n",
            "|   JC212744|\n",
            "|   JC213044|\n",
            "|   JC212803|\n",
            "|   JD226426|\n",
            "|   JD209965|\n",
            "|   JD282112|\n",
            "|   JD381597|\n",
            "+-----------+\n",
            "only showing top 15 rows\n",
            "\n"
          ]
        }
      ]
    },
    {
      "cell_type": "code",
      "source": [
        "data.select('Case Number').limit(15).show()\n"
      ],
      "metadata": {
        "colab": {
          "base_uri": "https://localhost:8080/"
        },
        "id": "hWqgad7_jEwE",
        "outputId": "07117477-f1cd-4732-e0d9-a2d458e78f4a"
      },
      "execution_count": null,
      "outputs": [
        {
          "output_type": "stream",
          "name": "stdout",
          "text": [
            "+-----------+\n",
            "|Case Number|\n",
            "+-----------+\n",
            "|   JA371270|\n",
            "|   JC213749|\n",
            "|   JC212333|\n",
            "|   JC211511|\n",
            "|   JC212935|\n",
            "|   JC213529|\n",
            "|   JC212959|\n",
            "|   JC212685|\n",
            "|   JC212744|\n",
            "|   JC213044|\n",
            "|   JC212803|\n",
            "|   JD226426|\n",
            "|   JD209965|\n",
            "|   JD282112|\n",
            "|   JD381597|\n",
            "+-----------+\n",
            "\n"
          ]
        }
      ]
    },
    {
      "cell_type": "code",
      "source": [
        "data.select('Case Number', 'Date').show(4)"
      ],
      "metadata": {
        "colab": {
          "base_uri": "https://localhost:8080/"
        },
        "id": "rw9B09SpkiIh",
        "outputId": "e4f5735f-2924-4f88-b0ea-98493d2ee0b6"
      },
      "execution_count": null,
      "outputs": [
        {
          "output_type": "stream",
          "name": "stdout",
          "text": [
            "+-----------+--------------------+\n",
            "|Case Number|                Date|\n",
            "+-----------+--------------------+\n",
            "|   JA371270|03/18/2015 12:00:...|\n",
            "|   JC213749|12/20/2018 03:00:...|\n",
            "|   JC212333|05/01/2016 12:25:...|\n",
            "|   JC211511|12/20/2018 04:00:...|\n",
            "+-----------+--------------------+\n",
            "only showing top 4 rows\n",
            "\n"
          ]
        }
      ]
    },
    {
      "cell_type": "code",
      "source": [
        "#add column with name one, with entries all 1 s\n",
        "\n",
        "from pyspark.sql.functions import lit\n",
        "\n",
        "data.withColumn('One', lit(1)).show(5)"
      ],
      "metadata": {
        "colab": {
          "base_uri": "https://localhost:8080/"
        },
        "id": "Eyt8fpu_mgSM",
        "outputId": "703f5c1a-8e9c-4eb0-a730-f5a5c8e19f6c"
      },
      "execution_count": null,
      "outputs": [
        {
          "output_type": "stream",
          "name": "stdout",
          "text": [
            "+--------+-----------+--------------------+--------------------+----+------------------+--------------------+--------------------+------+--------+----+--------+----+--------------+--------+------------+------------+----+--------------------+--------+---------+--------+---+\n",
            "|      ID|Case Number|                Date|               Block|IUCR|      Primary Type|         Description|Location Description|Arrest|Domestic|Beat|District|Ward|Community Area|FBI Code|X Coordinate|Y Coordinate|Year|          Updated On|Latitude|Longitude|Location|One|\n",
            "+--------+-----------+--------------------+--------------------+----+------------------+--------------------+--------------------+------+--------+----+--------+----+--------------+--------+------------+------------+----+--------------------+--------+---------+--------+---+\n",
            "|11037294|   JA371270|03/18/2015 12:00:...|   0000X W WACKER DR|1153|DECEPTIVE PRACTICE|FINANCIAL IDENTIT...|                BANK| false|   false|0111|     001|  42|            32|      11|        null|        null|2015|08/01/2017 03:52:...|    null|     null|    null|  1|\n",
            "|11646293|   JC213749|12/20/2018 03:00:...|023XX N LOCKWOOD AVE|1154|DECEPTIVE PRACTICE|FINANCIAL IDENTIT...|           APARTMENT| false|   false|2515|     025|  36|            19|      11|        null|        null|2018|04/06/2019 04:04:...|    null|     null|    null|  1|\n",
            "|11645836|   JC212333|05/01/2016 12:25:...| 055XX S ROCKWELL ST|1153|DECEPTIVE PRACTICE|FINANCIAL IDENTIT...|                null| false|   false|0824|     008|  15|            63|      11|        null|        null|2016|04/06/2019 04:04:...|    null|     null|    null|  1|\n",
            "|11645959|   JC211511|12/20/2018 04:00:...|  045XX N ALBANY AVE|2820|     OTHER OFFENSE|    TELEPHONE THREAT|           RESIDENCE| false|   false|1724|     017|  33|            14|     08A|        null|        null|2018|04/06/2019 04:04:...|    null|     null|    null|  1|\n",
            "|11645601|   JC212935|06/01/2014 12:01:...| 087XX S SANGAMON ST|1153|DECEPTIVE PRACTICE|FINANCIAL IDENTIT...|           RESIDENCE| false|   false|2222|     022|  21|            71|      11|        null|        null|2014|04/06/2019 04:04:...|    null|     null|    null|  1|\n",
            "+--------+-----------+--------------------+--------------------+----+------------------+--------------------+--------------------+------+--------+----+--------+----+--------------+--------+------------+------------+----+--------------------+--------+---------+--------+---+\n",
            "only showing top 5 rows\n",
            "\n"
          ]
        }
      ]
    },
    {
      "cell_type": "code",
      "source": [
        "#remove the column One\n",
        "\n",
        "data = data.drop('One')\n",
        "data.show(5)"
      ],
      "metadata": {
        "colab": {
          "base_uri": "https://localhost:8080/"
        },
        "id": "sOj7yAHNnSEN",
        "outputId": "3d0b448d-f11b-481f-e048-32559b01c40a"
      },
      "execution_count": null,
      "outputs": [
        {
          "output_type": "stream",
          "name": "stdout",
          "text": [
            "+--------+-----------+--------------------+--------------------+----+------------------+--------------------+--------------------+------+--------+----+--------+----+--------------+--------+------------+------------+----+--------------------+--------+---------+--------+\n",
            "|      ID|Case Number|                Date|               Block|IUCR|      Primary Type|         Description|Location Description|Arrest|Domestic|Beat|District|Ward|Community Area|FBI Code|X Coordinate|Y Coordinate|Year|          Updated On|Latitude|Longitude|Location|\n",
            "+--------+-----------+--------------------+--------------------+----+------------------+--------------------+--------------------+------+--------+----+--------+----+--------------+--------+------------+------------+----+--------------------+--------+---------+--------+\n",
            "|11037294|   JA371270|03/18/2015 12:00:...|   0000X W WACKER DR|1153|DECEPTIVE PRACTICE|FINANCIAL IDENTIT...|                BANK| false|   false|0111|     001|  42|            32|      11|        null|        null|2015|08/01/2017 03:52:...|    null|     null|    null|\n",
            "|11646293|   JC213749|12/20/2018 03:00:...|023XX N LOCKWOOD AVE|1154|DECEPTIVE PRACTICE|FINANCIAL IDENTIT...|           APARTMENT| false|   false|2515|     025|  36|            19|      11|        null|        null|2018|04/06/2019 04:04:...|    null|     null|    null|\n",
            "|11645836|   JC212333|05/01/2016 12:25:...| 055XX S ROCKWELL ST|1153|DECEPTIVE PRACTICE|FINANCIAL IDENTIT...|                null| false|   false|0824|     008|  15|            63|      11|        null|        null|2016|04/06/2019 04:04:...|    null|     null|    null|\n",
            "|11645959|   JC211511|12/20/2018 04:00:...|  045XX N ALBANY AVE|2820|     OTHER OFFENSE|    TELEPHONE THREAT|           RESIDENCE| false|   false|1724|     017|  33|            14|     08A|        null|        null|2018|04/06/2019 04:04:...|    null|     null|    null|\n",
            "|11645601|   JC212935|06/01/2014 12:01:...| 087XX S SANGAMON ST|1153|DECEPTIVE PRACTICE|FINANCIAL IDENTIT...|           RESIDENCE| false|   false|2222|     022|  21|            71|      11|        null|        null|2014|04/06/2019 04:04:...|    null|     null|    null|\n",
            "+--------+-----------+--------------------+--------------------+----+------------------+--------------------+--------------------+------+--------+----+--------+----+--------------+--------+------------+------------+----+--------------------+--------+---------+--------+\n",
            "only showing top 5 rows\n",
            "\n"
          ]
        }
      ]
    },
    {
      "cell_type": "markdown",
      "source": [
        "## Rows"
      ],
      "metadata": {
        "id": "hcKv-iLEoXAG"
      }
    },
    {
      "cell_type": "code",
      "source": [
        "#addreported crime for additional day, 12-Jun3-2019, to dataset\n",
        "\n",
        "one_day = spark.read.csv('reported-crimes.csv',header=True).withColumn('Date',to_timestamp(col('Date'),'MM/dd/yyyy hh:mm:ss a')).filter(col('Date') == lit('2018-11-12'))\n",
        "one_day.count()"
      ],
      "metadata": {
        "colab": {
          "base_uri": "https://localhost:8080/"
        },
        "id": "aUU_vNact7va",
        "outputId": "246aeb31-5082-4a4e-ba0c-c44a12cf2e69"
      },
      "execution_count": null,
      "outputs": [
        {
          "output_type": "execute_result",
          "data": {
            "text/plain": [
              "3"
            ]
          },
          "metadata": {},
          "execution_count": 45
        }
      ]
    },
    {
      "cell_type": "code",
      "source": [
        "data.union(one_day).orderBy('Date', ascending=False).show(5)"
      ],
      "metadata": {
        "colab": {
          "base_uri": "https://localhost:8080/"
        },
        "id": "nYDn3cv4vsrN",
        "outputId": "001e9bfb-36b4-472e-9f99-f800b0d5ce50"
      },
      "execution_count": null,
      "outputs": [
        {
          "output_type": "stream",
          "name": "stdout",
          "text": [
            "+--------+-----------+--------------------+-------------------+----+------------------+--------------------+--------------------+------+--------+----+--------+----+--------------+--------+------------+------------+----+--------------------+------------+-------------+--------------------+\n",
            "|      ID|Case Number|                Date|              Block|IUCR|      Primary Type|         Description|Location Description|Arrest|Domestic|Beat|District|Ward|Community Area|FBI Code|X Coordinate|Y Coordinate|Year|          Updated On|    Latitude|    Longitude|            Location|\n",
            "+--------+-----------+--------------------+-------------------+----+------------------+--------------------+--------------------+------+--------+----+--------+----+--------------+--------+------------+------------+----+--------------------+------------+-------------+--------------------+\n",
            "|11540042|   JB559262| 2018-11-12 00:00:00|010XX N DEARBORN ST|1140|DECEPTIVE PRACTICE|        EMBEZZLEMENT|   CONVENIENCE STORE|  true|   false|1824|     018|   2|             8|      12|     1175747|     1907348|2018|03/16/2019 04:01:...|41.901133376|-87.629904979|(41.901133376, -8...|\n",
            "|11516594|   JB528186| 2018-11-12 00:00:00|049XX S PRAIRIE AVE|2826|     OTHER OFFENSE|HARASSMENT BY ELE...|               OTHER| false|   false|0224|     002|   3|            38|      26|     1178879|     1872259|2018|11/28/2018 04:14:...|41.804775828|-87.619472488|(41.804775828, -8...|\n",
            "|11505149|   JB513151| 2018-11-12 00:00:00| 003XX S WHIPPLE ST|0810|             THEFT|           OVER $500|              STREET| false|   false|1124|     011|  28|            27|      06|     1156099|     1898319|2018|11/19/2018 04:22:...|41.876776356|-87.702317641|(41.876776356, -8...|\n",
            "|12939906|   JG101710|12/31/2022 12:59:...|011XX N MONITOR AVE|1154|DECEPTIVE PRACTICE|FINANCIAL IDENTIT...|           RESIDENCE| false|   false|1511|     015|  29|            25|      11|     1137151|     1906948|2022|11/15/2023 03:41:...|41.900816648|-87.771682367|(41.900816648, -8...|\n",
            "|12938420|   JF528704|12/31/2022 12:52:...| 027XX N ELSTON AVE|0560|           ASSAULT|              SIMPLE|COMMERCIAL / BUSI...| false|   false|1432|     014|  32|            22|     08A|     1160488|     1918000|2022|01/07/2023 03:41:...|41.930692897|-87.685656977|(41.930692897, -8...|\n",
            "+--------+-----------+--------------------+-------------------+----+------------------+--------------------+--------------------+------+--------+----+--------+----+--------------+--------+------------+------------+----+--------------------+------------+-------------+--------------------+\n",
            "only showing top 5 rows\n",
            "\n"
          ]
        }
      ]
    },
    {
      "cell_type": "code",
      "source": [
        "#top number of reported crimes by primary type, in descending order of occurence\n",
        "\n",
        "data.groupBy('Primary Type').count().show()"
      ],
      "metadata": {
        "colab": {
          "base_uri": "https://localhost:8080/"
        },
        "id": "TDJPi80Jywr2",
        "outputId": "dadd06c2-937e-46c5-b8e6-ed0c1fd6f27e"
      },
      "execution_count": null,
      "outputs": [
        {
          "output_type": "stream",
          "name": "stdout",
          "text": [
            "+--------------------+-------+\n",
            "|        Primary Type|  count|\n",
            "+--------------------+-------+\n",
            "|OFFENSE INVOLVING...|  56978|\n",
            "|CRIMINAL SEXUAL A...|   7889|\n",
            "|            STALKING|   5136|\n",
            "|PUBLIC PEACE VIOL...|  52895|\n",
            "|           OBSCENITY|    841|\n",
            "|NON-CRIMINAL (SUB...|      9|\n",
            "|               ARSON|  13588|\n",
            "|   DOMESTIC VIOLENCE|      1|\n",
            "|            GAMBLING|  14630|\n",
            "|   CRIMINAL TRESPASS| 217232|\n",
            "|             ASSAULT| 522078|\n",
            "|      NON - CRIMINAL|     38|\n",
            "|LIQUOR LAW VIOLATION|  15014|\n",
            "| MOTOR VEHICLE THEFT| 393821|\n",
            "|               THEFT|1679602|\n",
            "|             BATTERY|1451958|\n",
            "|             ROBBERY| 299902|\n",
            "|            HOMICIDE|  12984|\n",
            "|           RITUALISM|     24|\n",
            "|    PUBLIC INDECENCY|    197|\n",
            "+--------------------+-------+\n",
            "only showing top 20 rows\n",
            "\n"
          ]
        }
      ]
    },
    {
      "cell_type": "code",
      "source": [
        "data.groupBy('Primary Type').count().orderBy('count',ascending=False).show(10)"
      ],
      "metadata": {
        "colab": {
          "base_uri": "https://localhost:8080/"
        },
        "id": "ri01gHJ6zaUh",
        "outputId": "4f50fd24-79a0-4c92-938e-692f7a0d6413"
      },
      "execution_count": null,
      "outputs": [
        {
          "output_type": "stream",
          "name": "stdout",
          "text": [
            "+-------------------+-------+\n",
            "|       Primary Type|  count|\n",
            "+-------------------+-------+\n",
            "|              THEFT|1679602|\n",
            "|            BATTERY|1451958|\n",
            "|    CRIMINAL DAMAGE| 906808|\n",
            "|          NARCOTICS| 750889|\n",
            "|            ASSAULT| 522078|\n",
            "|      OTHER OFFENSE| 493565|\n",
            "|           BURGLARY| 429139|\n",
            "|MOTOR VEHICLE THEFT| 393821|\n",
            "| DECEPTIVE PRACTICE| 356224|\n",
            "|            ROBBERY| 299902|\n",
            "+-------------------+-------+\n",
            "only showing top 10 rows\n",
            "\n"
          ]
        }
      ]
    },
    {
      "cell_type": "code",
      "source": [
        "#what percentage of reported crimes result in an arrest?\n",
        "\n",
        "data.select('Arrest').distinct().show()"
      ],
      "metadata": {
        "colab": {
          "base_uri": "https://localhost:8080/"
        },
        "id": "gqcCc9Crz88g",
        "outputId": "8417615f-f031-4292-b251-e33c32f25942"
      },
      "execution_count": null,
      "outputs": [
        {
          "output_type": "stream",
          "name": "stdout",
          "text": [
            "+------+\n",
            "|Arrest|\n",
            "+------+\n",
            "| false|\n",
            "|  true|\n",
            "+------+\n",
            "\n"
          ]
        }
      ]
    },
    {
      "cell_type": "code",
      "source": [
        "#arrest is stringtype\n",
        "\n",
        "data.filter(col('Arrest') == 'true').count() / data.select('Arrest').count()"
      ],
      "metadata": {
        "colab": {
          "base_uri": "https://localhost:8080/"
        },
        "id": "kN4-udDL0nhC",
        "outputId": "166f4fd3-285c-4645-cab4-66212ee22817"
      },
      "execution_count": null,
      "outputs": [
        {
          "output_type": "execute_result",
          "data": {
            "text/plain": [
              "0.25832687950859"
            ]
          },
          "metadata": {},
          "execution_count": 52
        }
      ]
    },
    {
      "cell_type": "markdown",
      "source": [],
      "metadata": {
        "id": "Qhq24rIUztdr"
      }
    },
    {
      "cell_type": "code",
      "source": [
        "#top 3 location for reported crimes\n",
        "\n",
        "data.groupBy('Location Description').count().show()"
      ],
      "metadata": {
        "colab": {
          "base_uri": "https://localhost:8080/"
        },
        "id": "oCg2kFpa09z3",
        "outputId": "0eb316b8-c00c-4525-8f1b-823fb845db18"
      },
      "execution_count": null,
      "outputs": [
        {
          "output_type": "stream",
          "name": "stdout",
          "text": [
            "+--------------------+------+\n",
            "|Location Description| count|\n",
            "+--------------------+------+\n",
            "|   RAILROAD PROPERTY|    15|\n",
            "|SCHOOL - PRIVATE ...|   934|\n",
            "|AIRPORT TERMINAL ...|  2434|\n",
            "|VEHICLE - COMMERCIAL|   771|\n",
            "|EXPRESSWAY EMBANK...|     1|\n",
            "|POLICE FACILITY/V...| 18566|\n",
            "|RESIDENCE - YARD ...| 10892|\n",
            "|               MOTEL|     7|\n",
            "|CHA PARKING LOT /...|  1674|\n",
            "|            SIDEWALK|738063|\n",
            "|AIRPORT TERMINAL ...|   126|\n",
            "|PUBLIC GRAMMAR SC...|     2|\n",
            "|OTHER RAILROAD PR...|   426|\n",
            "|CTA GARAGE / OTHE...| 10277|\n",
            "|            CAR WASH|  3424|\n",
            "|   TRUCKING TERMINAL|     1|\n",
            "|    AIRPORT/AIRCRAFT| 16280|\n",
            "|            HOSPITAL|    13|\n",
            "|MEDICAL/DENTAL OF...|  7430|\n",
            "|    FEDERAL BUILDING|   987|\n",
            "+--------------------+------+\n",
            "only showing top 20 rows\n",
            "\n"
          ]
        }
      ]
    },
    {
      "cell_type": "code",
      "source": [
        "data.groupBy('Location Description').count().orderBy('count', ascending=False).show(3)"
      ],
      "metadata": {
        "colab": {
          "base_uri": "https://localhost:8080/"
        },
        "id": "wz7yd0rS1CRu",
        "outputId": "1c1daad4-5398-461d-8fd6-6deca03d4edf"
      },
      "execution_count": null,
      "outputs": [
        {
          "output_type": "stream",
          "name": "stdout",
          "text": [
            "+--------------------+-------+\n",
            "|Location Description|  count|\n",
            "+--------------------+-------+\n",
            "|              STREET|2077489|\n",
            "|           RESIDENCE|1326332|\n",
            "|           APARTMENT| 910237|\n",
            "+--------------------+-------+\n",
            "only showing top 3 rows\n",
            "\n"
          ]
        }
      ]
    },
    {
      "cell_type": "markdown",
      "source": [
        "## Functions"
      ],
      "metadata": {
        "id": "RIU5zLGu1rcY"
      }
    },
    {
      "cell_type": "code",
      "source": [
        "from pyspark.sql import functions"
      ],
      "metadata": {
        "id": "SQR-AJOB1lyd"
      },
      "execution_count": null,
      "outputs": []
    },
    {
      "cell_type": "code",
      "source": [
        "print(dir(functions))"
      ],
      "metadata": {
        "colab": {
          "base_uri": "https://localhost:8080/"
        },
        "id": "rC5vp6_w11vR",
        "outputId": "cf6a98a8-c8ff-4322-d1aa-38e29388619e"
      },
      "execution_count": null,
      "outputs": [
        {
          "output_type": "stream",
          "name": "stdout",
          "text": [
            "['Column', 'DataFrame', 'DataType', 'PandasUDFType', 'PythonEvalType', 'SparkContext', 'StringType', 'UserDefinedFunction', '__all__', '__builtins__', '__cached__', '__doc__', '__file__', '__loader__', '__name__', '__package__', '__spec__', '_binary_mathfunctions', '_collect_list_doc', '_collect_set_doc', '_create_binary_mathfunction', '_create_column_from_literal', '_create_column_from_name', '_create_function', '_create_function_over_column', '_create_udf', '_create_window_function', '_functions', '_functions_1_4_over_column', '_functions_1_6_over_column', '_functions_2_1_over_column', '_functions_2_4', '_functions_deprecated', '_functions_over_column', '_lit_doc', '_message', '_options_to_str', '_string_functions', '_test', '_to_java_column', '_to_seq', '_window_functions', '_wrap_deprecated_function', 'abs', 'acos', 'add_months', 'approxCountDistinct', 'approx_count_distinct', 'array', 'array_contains', 'array_distinct', 'array_except', 'array_intersect', 'array_join', 'array_max', 'array_min', 'array_position', 'array_remove', 'array_repeat', 'array_sort', 'array_union', 'arrays_overlap', 'arrays_zip', 'asc', 'asc_nulls_first', 'asc_nulls_last', 'ascii', 'asin', 'atan', 'atan2', 'avg', 'base64', 'basestring', 'bin', 'bitwiseNOT', 'blacklist', 'broadcast', 'bround', 'cbrt', 'ceil', 'coalesce', 'col', 'collect_list', 'collect_set', 'column', 'concat', 'concat_ws', 'conv', 'corr', 'cos', 'cosh', 'count', 'countDistinct', 'covar_pop', 'covar_samp', 'crc32', 'create_map', 'cume_dist', 'current_date', 'current_timestamp', 'date_add', 'date_format', 'date_sub', 'date_trunc', 'datediff', 'dayofmonth', 'dayofweek', 'dayofyear', 'decode', 'degrees', 'dense_rank', 'desc', 'desc_nulls_first', 'desc_nulls_last', 'element_at', 'encode', 'exp', 'explode', 'explode_outer', 'expm1', 'expr', 'factorial', 'first', 'flatten', 'floor', 'format_number', 'format_string', 'from_csv', 'from_json', 'from_unixtime', 'from_utc_timestamp', 'functools', 'get_json_object', 'greatest', 'grouping', 'grouping_id', 'hash', 'hex', 'hour', 'hypot', 'ignore_unicode_prefix', 'initcap', 'input_file_name', 'instr', 'isnan', 'isnull', 'json_tuple', 'kurtosis', 'lag', 'last', 'last_day', 'lead', 'least', 'length', 'levenshtein', 'lit', 'locate', 'log', 'log10', 'log1p', 'log2', 'lower', 'lpad', 'ltrim', 'map_concat', 'map_entries', 'map_from_arrays', 'map_from_entries', 'map_keys', 'map_values', 'max', 'md5', 'mean', 'min', 'minute', 'monotonically_increasing_id', 'month', 'months_between', 'nanvl', 'next_day', 'ntile', 'overlay', 'pandas_udf', 'percent_rank', 'posexplode', 'posexplode_outer', 'pow', 'quarter', 'radians', 'rand', 'randn', 'rank', 'regexp_extract', 'regexp_replace', 'repeat', 'reverse', 'rint', 'round', 'row_number', 'rpad', 'rtrim', 'schema_of_csv', 'schema_of_json', 'second', 'sequence', 'sha1', 'sha2', 'shiftLeft', 'shiftRight', 'shiftRightUnsigned', 'shuffle', 'signum', 'sin', 'since', 'sinh', 'size', 'skewness', 'slice', 'sort_array', 'soundex', 'spark_partition_id', 'split', 'sqrt', 'stddev', 'stddev_pop', 'stddev_samp', 'struct', 'substring', 'substring_index', 'sum', 'sumDistinct', 'sys', 'tan', 'tanh', 'toDegrees', 'toRadians', 'to_csv', 'to_date', 'to_json', 'to_str', 'to_timestamp', 'to_utc_timestamp', 'translate', 'trim', 'trunc', 'udf', 'unbase64', 'unhex', 'unix_timestamp', 'upper', 'var_pop', 'var_samp', 'variance', 'warnings', 'weekofyear', 'when', 'window', 'xxhash64', 'year']\n"
          ]
        }
      ]
    },
    {
      "cell_type": "code",
      "source": [
        "from pyspark.sql.functions import lower, upper, substring"
      ],
      "metadata": {
        "id": "jQbjctNT160h"
      },
      "execution_count": null,
      "outputs": []
    },
    {
      "cell_type": "code",
      "source": [
        "help(substring)"
      ],
      "metadata": {
        "colab": {
          "base_uri": "https://localhost:8080/"
        },
        "id": "ITEUj3EL2LtA",
        "outputId": "a6176a0a-c190-427e-d663-a4340b4e3846"
      },
      "execution_count": null,
      "outputs": [
        {
          "output_type": "stream",
          "name": "stdout",
          "text": [
            "Help on function substring in module pyspark.sql.functions:\n",
            "\n",
            "substring(str, pos, len)\n",
            "    Substring starts at `pos` and is of length `len` when str is String type or\n",
            "    returns the slice of byte array that starts at `pos` in byte and is of length `len`\n",
            "    when str is Binary type.\n",
            "    \n",
            "    .. note:: The position is not zero based, but 1 based index.\n",
            "    \n",
            "    >>> df = spark.createDataFrame([('abcd',)], ['s',])\n",
            "    >>> df.select(substring(df.s, 1, 2).alias('s')).collect()\n",
            "    [Row(s='ab')]\n",
            "    \n",
            "    .. versionadded:: 1.5\n",
            "\n"
          ]
        }
      ]
    },
    {
      "cell_type": "code",
      "source": [
        "data.select(lower(col('Primary Type')), upper(col('Primary Type')), substring(col('Primary Type'),1,4)).show(5)"
      ],
      "metadata": {
        "colab": {
          "base_uri": "https://localhost:8080/"
        },
        "id": "LwatqjqB2veL",
        "outputId": "2e211cb4-424c-4833-e752-d03d56ac72c7"
      },
      "execution_count": null,
      "outputs": [
        {
          "output_type": "stream",
          "name": "stdout",
          "text": [
            "+-------------------+-------------------+-----------------------------+\n",
            "|lower(Primary Type)|upper(Primary Type)|substring(Primary Type, 1, 4)|\n",
            "+-------------------+-------------------+-----------------------------+\n",
            "| deceptive practice| DECEPTIVE PRACTICE|                         DECE|\n",
            "| deceptive practice| DECEPTIVE PRACTICE|                         DECE|\n",
            "| deceptive practice| DECEPTIVE PRACTICE|                         DECE|\n",
            "|      other offense|      OTHER OFFENSE|                         OTHE|\n",
            "| deceptive practice| DECEPTIVE PRACTICE|                         DECE|\n",
            "+-------------------+-------------------+-----------------------------+\n",
            "only showing top 5 rows\n",
            "\n"
          ]
        }
      ]
    },
    {
      "cell_type": "code",
      "source": [
        "#showing the oldest date and the most recend date\n",
        "\n",
        "from pyspark.sql.functions import min,max"
      ],
      "metadata": {
        "id": "D-AX1lXP2SUN"
      },
      "execution_count": null,
      "outputs": []
    },
    {
      "cell_type": "code",
      "source": [
        "data.select(min(col('Date')), max(col('Date'))).show(1)"
      ],
      "metadata": {
        "colab": {
          "base_uri": "https://localhost:8080/"
        },
        "id": "7dE5OO0h352J",
        "outputId": "96ca590b-db75-4ea7-ba96-0d75c24690f7"
      },
      "execution_count": null,
      "outputs": [
        {
          "output_type": "stream",
          "name": "stdout",
          "text": [
            "+--------------------+--------------------+\n",
            "|           min(Date)|           max(Date)|\n",
            "+--------------------+--------------------+\n",
            "|01/01/2001 01:00:...|12/31/2022 12:59:...|\n",
            "+--------------------+--------------------+\n",
            "\n"
          ]
        }
      ]
    },
    {
      "cell_type": "code",
      "source": [
        "from pyspark.sql.functions import col, date_add, date_sub"
      ],
      "metadata": {
        "id": "LBZe1GvAD5s4"
      },
      "execution_count": null,
      "outputs": []
    },
    {
      "cell_type": "code",
      "source": [
        "help(date_add)\n"
      ],
      "metadata": {
        "colab": {
          "base_uri": "https://localhost:8080/"
        },
        "id": "u-CQfZxtD8No",
        "outputId": "85c17f77-32c5-4203-95ee-abc54d904de6"
      },
      "execution_count": null,
      "outputs": [
        {
          "output_type": "stream",
          "name": "stdout",
          "text": [
            "Help on function date_add in module pyspark.sql.functions:\n",
            "\n",
            "date_add(start, days)\n",
            "    Returns the date that is `days` days after `start`\n",
            "    \n",
            "    >>> df = spark.createDataFrame([('2015-04-08',)], ['dt'])\n",
            "    >>> df.select(date_add(df.dt, 1).alias('next_date')).collect()\n",
            "    [Row(next_date=datetime.date(2015, 4, 9))]\n",
            "    \n",
            "    .. versionadded:: 1.5\n",
            "\n"
          ]
        }
      ]
    },
    {
      "cell_type": "code",
      "source": [
        "#what is 3 days earlier than the oldesr date and 3 days later than the most recent date\n",
        "\n",
        "data.select(date_sub(min(col('Date')),3), date_add(max(col('Date')),3)).show(1)"
      ],
      "metadata": {
        "id": "EAstQ79L4Uy-",
        "colab": {
          "base_uri": "https://localhost:8080/"
        },
        "outputId": "5512c9fc-a8c4-4c45-8b2a-0a8439561356"
      },
      "execution_count": null,
      "outputs": [
        {
          "output_type": "stream",
          "name": "stdout",
          "text": [
            "+----------------------+----------------------+\n",
            "|date_sub(min(Date), 3)|date_add(max(Date), 3)|\n",
            "+----------------------+----------------------+\n",
            "|                  null|                  null|\n",
            "+----------------------+----------------------+\n",
            "\n"
          ]
        }
      ]
    },
    {
      "cell_type": "markdown",
      "source": [],
      "metadata": {
        "id": "yzNfVZlY2R6r"
      }
    },
    {
      "cell_type": "markdown",
      "source": [
        "## Date"
      ],
      "metadata": {
        "id": "9JbhaOJ8EWKD"
      }
    },
    {
      "cell_type": "code",
      "source": [
        "from pyspark.sql.functions import to_date, to_timestamp, lit"
      ],
      "metadata": {
        "id": "6tlR7WdfFb1U"
      },
      "execution_count": null,
      "outputs": []
    },
    {
      "cell_type": "code",
      "source": [
        "data.select(to_date(lit('2019-12-25')),to_date(lit('2019-25-15'))).show(1)"
      ],
      "metadata": {
        "colab": {
          "base_uri": "https://localhost:8080/"
        },
        "id": "MnSii_pgEUv9",
        "outputId": "301faf56-cdc1-4a01-a2c1-b41fad5d984b"
      },
      "execution_count": null,
      "outputs": [
        {
          "output_type": "stream",
          "name": "stdout",
          "text": [
            "+---------------------+---------------------+\n",
            "|to_date('2019-12-25')|to_date('2019-25-15')|\n",
            "+---------------------+---------------------+\n",
            "|           2019-12-25|                 null|\n",
            "+---------------------+---------------------+\n",
            "only showing top 1 row\n",
            "\n"
          ]
        }
      ]
    },
    {
      "cell_type": "markdown",
      "source": [
        "![image.png](data:image/png;base64,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)"
      ],
      "metadata": {
        "id": "tNBdB_01HBeM"
      }
    },
    {
      "cell_type": "markdown",
      "source": [
        "2019-12-25 13:30:00"
      ],
      "metadata": {
        "id": "sa_DcqKkGEvU"
      }
    },
    {
      "cell_type": "code",
      "source": [
        "data = spark.createDataFrame([('2019-12-25 13:30:00',)],['Christmas'])\n",
        "data.show(1)"
      ],
      "metadata": {
        "colab": {
          "base_uri": "https://localhost:8080/"
        },
        "id": "x0MfCXj6F2d2",
        "outputId": "6fec3773-8c39-4ad5-c60f-305162138190"
      },
      "execution_count": null,
      "outputs": [
        {
          "output_type": "stream",
          "name": "stdout",
          "text": [
            "+-------------------+\n",
            "|          Christmas|\n",
            "+-------------------+\n",
            "|2019-12-25 13:30:00|\n",
            "+-------------------+\n",
            "\n"
          ]
        }
      ]
    },
    {
      "cell_type": "code",
      "source": [
        "data.select(to_date(col('Christmas'),'yyyy-MM-dd HH:mm:ss'), to_timestamp(col('Christmas'),'yyyy-MM-dd HH:mm:ss')).show(1)"
      ],
      "metadata": {
        "colab": {
          "base_uri": "https://localhost:8080/"
        },
        "id": "L9pNQ1rzGpR2",
        "outputId": "92d8166c-df22-48fc-db6f-06ad5aa6d11d"
      },
      "execution_count": null,
      "outputs": [
        {
          "output_type": "stream",
          "name": "stdout",
          "text": [
            "+-------------------------------------------+------------------------------------------------+\n",
            "|to_date(`Christmas`, 'yyyy-MM-dd HH:mm:ss')|to_timestamp(`Christmas`, 'yyyy-MM-dd HH:mm:ss')|\n",
            "+-------------------------------------------+------------------------------------------------+\n",
            "|                                 2019-12-25|                             2019-12-25 13:30:00|\n",
            "+-------------------------------------------+------------------------------------------------+\n",
            "\n"
          ]
        }
      ]
    },
    {
      "cell_type": "markdown",
      "source": [
        "25/Dec/2019 13:30:00"
      ],
      "metadata": {
        "id": "ig-i02NRH6M-"
      }
    },
    {
      "cell_type": "code",
      "source": [
        "data = spark.createDataFrame([('25/Dec/2019 13:30:00',)],['Christmas'])\n",
        "data.show(1)"
      ],
      "metadata": {
        "colab": {
          "base_uri": "https://localhost:8080/"
        },
        "id": "8-M-AGVLH2od",
        "outputId": "4d2a3dd5-8a7d-4287-9f30-15af81377714"
      },
      "execution_count": null,
      "outputs": [
        {
          "output_type": "stream",
          "name": "stdout",
          "text": [
            "+--------------------+\n",
            "|           Christmas|\n",
            "+--------------------+\n",
            "|25/Dec/2019 13:30:00|\n",
            "+--------------------+\n",
            "\n"
          ]
        }
      ]
    },
    {
      "cell_type": "code",
      "source": [
        "data.select(to_date(col('Christmas'),'dd/MMM/yyyy HH:mm:ss'), to_timestamp(col('Christmas'),'dd/MMM/yyyy HH:mm:ss')).show(1)"
      ],
      "metadata": {
        "colab": {
          "base_uri": "https://localhost:8080/"
        },
        "id": "H551eqvPKWZn",
        "outputId": "2d8c0e46-69ba-4182-901a-c7b26cc16ce8"
      },
      "execution_count": null,
      "outputs": [
        {
          "output_type": "stream",
          "name": "stdout",
          "text": [
            "+--------------------------------------------+-------------------------------------------------+\n",
            "|to_date(`Christmas`, 'dd/MMM/yyyy HH:mm:ss')|to_timestamp(`Christmas`, 'dd/MMM/yyyy HH:mm:ss')|\n",
            "+--------------------------------------------+-------------------------------------------------+\n",
            "|                                  2019-12-25|                              2019-12-25 13:30:00|\n",
            "+--------------------------------------------+-------------------------------------------------+\n",
            "\n"
          ]
        }
      ]
    },
    {
      "cell_type": "markdown",
      "source": [
        "12/25/2019 01:30:00 PM"
      ],
      "metadata": {
        "id": "jCJ9SbpvM1m4"
      }
    },
    {
      "cell_type": "code",
      "source": [
        "data = spark.createDataFrame([('12/25/2019 01:30:00 PM',)],['Christmas'])\n",
        "# data.show(1) kepotong\n",
        "data.show(1, truncate=False)"
      ],
      "metadata": {
        "colab": {
          "base_uri": "https://localhost:8080/"
        },
        "id": "UShwPixJMzq4",
        "outputId": "baf45190-a8c8-4769-d3a9-d5dcbcc8f192"
      },
      "execution_count": 60,
      "outputs": [
        {
          "output_type": "stream",
          "name": "stdout",
          "text": [
            "+----------------------+\n",
            "|Christmas             |\n",
            "+----------------------+\n",
            "|12/25/2019 01:30:00 PM|\n",
            "+----------------------+\n",
            "\n"
          ]
        }
      ]
    },
    {
      "cell_type": "code",
      "source": [
        "# data.select(to_date(col('Christmas'),'MM/dd/yyyy hh:mm:ss aa'), to_timestamp(col('Christmas'), 'MM/dd/yyyy hh:mm:ss aa')).show(1)"
      ],
      "metadata": {
        "id": "kMVN1kPePJOq"
      },
      "execution_count": null,
      "outputs": []
    },
    {
      "cell_type": "code",
      "source": [
        "\n",
        "spark.sql(\"set spark.sql.legacy.timeParserPolicy=LEGACY\")\n",
        "df = spark.createDataFrame([('Fri May 24 00:00:00 BST 2019',)], ['mydate'])\n",
        "df = df.select('mydate',\n",
        "                to_timestamp(df.mydate.substr(5, 28), 'MMM dd HH:mm:ss zzz yyyy').alias('datetime'),\n",
        "                to_timestamp(df.mydate, 'EEE MMM dd HH:mm:ss zzz yyyy').alias('LEGACYdatetime')\n",
        "               ).show(1, False)\n",
        "\n",
        "df = spark.createDataFrame([('Fri May 24 00:00:00 GMT 2019',)], ['mydate'])\n",
        "df = df.select('mydate',\n",
        "                to_timestamp(df.mydate.substr(5, 28), 'MMM dd HH:mm:ss zzz yyyy').alias('datetime'),\n",
        "                to_timestamp(df.mydate, 'EEE MMM dd HH:mm:ss zzz yyyy').alias('LEGACYdatetime')\n",
        "               ).show(1, False)\n",
        "\n",
        "spark.sql(\"set spark.sql.legacy.timeParserPolicy=CORRECTED\")\n",
        "df = spark.createDataFrame([('Fri May 24 00:00:00 BST 2019',)], ['mydate'])\n",
        "df = df.select('mydate',\n",
        "                to_timestamp(df.mydate.substr(5, 28), 'MMM dd HH:mm:ss zzz yyyy').alias('datetime')\n",
        "               ).show(1, False)\n",
        "\n",
        "df = spark.createDataFrame([('Fri May 24 00:00:00 GMT 2019',)], ['mydate'])\n",
        "df = df.select('mydate',\n",
        "                to_timestamp(df.mydate.substr(5, 28), 'MMM dd HH:mm:ss zzz yyyy').alias('datetime')\n",
        "               ).show(1, False)"
      ],
      "metadata": {
        "colab": {
          "base_uri": "https://localhost:8080/"
        },
        "id": "pu9lcvGiQWoz",
        "outputId": "d8208eaa-58a4-44dc-ee6b-e207d7beddce"
      },
      "execution_count": null,
      "outputs": [
        {
          "output_type": "stream",
          "name": "stdout",
          "text": [
            "+----------------------------+-------------------+-------------------+\n",
            "|mydate                      |datetime           |LEGACYdatetime     |\n",
            "+----------------------------+-------------------+-------------------+\n",
            "|Fri May 24 00:00:00 BST 2019|2019-05-23 23:00:00|2019-05-23 23:00:00|\n",
            "+----------------------------+-------------------+-------------------+\n",
            "\n",
            "+----------------------------+-------------------+-------------------+\n",
            "|mydate                      |datetime           |LEGACYdatetime     |\n",
            "+----------------------------+-------------------+-------------------+\n",
            "|Fri May 24 00:00:00 GMT 2019|2019-05-24 00:00:00|2019-05-24 00:00:00|\n",
            "+----------------------------+-------------------+-------------------+\n",
            "\n",
            "+----------------------------+-------------------+\n",
            "|mydate                      |datetime           |\n",
            "+----------------------------+-------------------+\n",
            "|Fri May 24 00:00:00 BST 2019|2019-05-23 13:00:00|\n",
            "+----------------------------+-------------------+\n",
            "\n",
            "+----------------------------+-------------------+\n",
            "|mydate                      |datetime           |\n",
            "+----------------------------+-------------------+\n",
            "|Fri May 24 00:00:00 GMT 2019|2019-05-24 00:00:00|\n",
            "+----------------------------+-------------------+\n",
            "\n"
          ]
        }
      ]
    },
    {
      "cell_type": "code",
      "source": [
        "nrc = spark.read.csv('reported-crimes.csv', header=True)\n",
        "nrc.show(5,truncate=False)"
      ],
      "metadata": {
        "colab": {
          "base_uri": "https://localhost:8080/"
        },
        "id": "9ddBmpt1RXsW",
        "outputId": "f41f0bd5-adea-45cd-d6da-3511b0661340"
      },
      "execution_count": null,
      "outputs": [
        {
          "output_type": "stream",
          "name": "stdout",
          "text": [
            "+--------+-----------+----------------------+--------------------+----+------------------+---------------------------------------+--------------------+------+--------+----+--------+----+--------------+--------+------------+------------+----+----------------------+--------+---------+--------+\n",
            "|ID      |Case Number|Date                  |Block               |IUCR|Primary Type      |Description                            |Location Description|Arrest|Domestic|Beat|District|Ward|Community Area|FBI Code|X Coordinate|Y Coordinate|Year|Updated On            |Latitude|Longitude|Location|\n",
            "+--------+-----------+----------------------+--------------------+----+------------------+---------------------------------------+--------------------+------+--------+----+--------+----+--------------+--------+------------+------------+----+----------------------+--------+---------+--------+\n",
            "|11037294|JA371270   |03/18/2015 12:00:00 PM|0000X W WACKER DR   |1153|DECEPTIVE PRACTICE|FINANCIAL IDENTITY THEFT OVER $ 300    |BANK                |false |false   |0111|001     |42  |32            |11      |null        |null        |2015|08/01/2017 03:52:26 PM|null    |null     |null    |\n",
            "|11646293|JC213749   |12/20/2018 03:00:00 PM|023XX N LOCKWOOD AVE|1154|DECEPTIVE PRACTICE|FINANCIAL IDENTITY THEFT $300 AND UNDER|APARTMENT           |false |false   |2515|025     |36  |19            |11      |null        |null        |2018|04/06/2019 04:04:43 PM|null    |null     |null    |\n",
            "|11645836|JC212333   |05/01/2016 12:25:00 AM|055XX S ROCKWELL ST |1153|DECEPTIVE PRACTICE|FINANCIAL IDENTITY THEFT OVER $ 300    |null                |false |false   |0824|008     |15  |63            |11      |null        |null        |2016|04/06/2019 04:04:43 PM|null    |null     |null    |\n",
            "|11645959|JC211511   |12/20/2018 04:00:00 PM|045XX N ALBANY AVE  |2820|OTHER OFFENSE     |TELEPHONE THREAT                       |RESIDENCE           |false |false   |1724|017     |33  |14            |08A     |null        |null        |2018|04/06/2019 04:04:43 PM|null    |null     |null    |\n",
            "|11645601|JC212935   |06/01/2014 12:01:00 AM|087XX S SANGAMON ST |1153|DECEPTIVE PRACTICE|FINANCIAL IDENTITY THEFT OVER $ 300    |RESIDENCE           |false |false   |2222|022     |21  |71            |11      |null        |null        |2014|04/06/2019 04:04:43 PM|null    |null     |null    |\n",
            "+--------+-----------+----------------------+--------------------+----+------------------+---------------------------------------+--------------------+------+--------+----+--------+----+--------------+--------+------------+------------+----+----------------------+--------+---------+--------+\n",
            "only showing top 5 rows\n",
            "\n"
          ]
        }
      ]
    },
    {
      "cell_type": "markdown",
      "source": [
        "## Joins"
      ],
      "metadata": {
        "id": "XcBsyT5NUSi6"
      }
    },
    {
      "cell_type": "markdown",
      "source": [
        "In the 'Reported Crimes' dataset, the 'District' column contains only numbers without district names. I will download the 'Police Stations' dataset and perform a join operation between these two dataframes"
      ],
      "metadata": {
        "id": "4jU2z8RiZJmT"
      }
    },
    {
      "cell_type": "code",
      "source": [
        "!wget -O police-station.csv https://data.cityofchicago.org/api/views/z8bn-74gv/rows.csv?accessType=DOWNLOAD\n",
        "!ls -1"
      ],
      "metadata": {
        "id": "2qtvmmqrYI1e",
        "colab": {
          "base_uri": "https://localhost:8080/"
        },
        "outputId": "3b8be12e-6c2c-4ff7-e343-488c20fb397e"
      },
      "execution_count": 58,
      "outputs": [
        {
          "output_type": "stream",
          "name": "stdout",
          "text": [
            "--2023-12-14 03:46:42--  https://data.cityofchicago.org/api/views/z8bn-74gv/rows.csv?accessType=DOWNLOAD\n",
            "Resolving data.cityofchicago.org (data.cityofchicago.org)... 52.206.68.26, 52.206.140.199, 52.206.140.205\n",
            "Connecting to data.cityofchicago.org (data.cityofchicago.org)|52.206.68.26|:443... connected.\n",
            "HTTP request sent, awaiting response... 200 OK\n",
            "Length: unspecified [text/csv]\n",
            "Saving to: ‘police-station.csv’\n",
            "\n",
            "police-station.csv      [ <=>                ]   5.57K  --.-KB/s    in 0s      \n",
            "\n",
            "2023-12-14 03:46:42 (1.40 GB/s) - ‘police-station.csv’ saved [5699]\n",
            "\n",
            "police-station.csv\n",
            "reported-crimes.csv\n",
            "sample_data\n",
            "spark-3.0.0-bin-hadoop3.2\n",
            "spark-3.0.0-bin-hadoop3.2.tgz\n"
          ]
        }
      ]
    },
    {
      "cell_type": "code",
      "source": [
        "data2 = spark.read.csv('police-station.csv', header=True)\n",
        "data2.show(5)"
      ],
      "metadata": {
        "colab": {
          "base_uri": "https://localhost:8080/"
        },
        "id": "pchBWXjVcIfo",
        "outputId": "d5c32f49-2daa-4c3a-de29-3d5cbabb2e1c"
      },
      "execution_count": 62,
      "outputs": [
        {
          "output_type": "stream",
          "name": "stdout",
          "text": [
            "+------------+-------------+-------------------+-------+-----+-----+--------------------+------------+------------+------------+------------+------------+-----------+------------+--------------------+\n",
            "|    DISTRICT|DISTRICT NAME|            ADDRESS|   CITY|STATE|  ZIP|             WEBSITE|       PHONE|         FAX|         TTY|X COORDINATE|Y COORDINATE|   LATITUDE|   LONGITUDE|            LOCATION|\n",
            "+------------+-------------+-------------------+-------+-----+-----+--------------------+------------+------------+------------+------------+------------+-----------+------------+--------------------+\n",
            "|Headquarters| Headquarters|3510 S Michigan Ave|Chicago|   IL|60653|http://home.chica...|        null|        null|        null| 1177731.401| 1881697.404|41.83070169|-87.62339535|(41.8307016873, -...|\n",
            "|          18|   Near North| 1160 N Larrabee St|Chicago|   IL|60610|http://home.chica...|312-742-5870|312-742-5771|312-742-5773| 1172080.029| 1908086.527|41.90324165|-87.64335214|(41.9032416531, -...|\n",
            "|          19|    Town Hall|   850 W Addison St|Chicago|   IL|60613|http://home.chica...|312-744-8320|312-744-4481|312-744-8011| 1169730.744| 1924160.317|41.94740046|-87.65151202|(41.9474004564, -...|\n",
            "|          20|      Lincoln| 5400 N Lincoln Ave|Chicago|   IL|60625|http://home.chica...|312-742-8714|312-742-8803|312-742-8841| 1158399.146| 1935788.826|41.97954951|-87.69284451|(41.9795495131, -...|\n",
            "|          22|  Morgan Park|1900 W Monterey Ave|Chicago|   IL|60643|http://home.chica...|312-745-0710|312-745-0814|312-745-0569| 1165825.476| 1830851.333|41.69143478|-87.66852039|(41.6914347795, -...|\n",
            "+------------+-------------+-------------------+-------+-----+-----+--------------------+------------+------------+------------+------------+------------+-----------+------------+--------------------+\n",
            "only showing top 5 rows\n",
            "\n"
          ]
        }
      ]
    },
    {
      "cell_type": "markdown",
      "source": [
        "data(reported crimes csv) only has district number. add the district name by joining with police dataset(data2)"
      ],
      "metadata": {
        "id": "hhEmcWWpeXwA"
      }
    },
    {
      "cell_type": "code",
      "source": [
        "data.cache()\n",
        "data.count()"
      ],
      "metadata": {
        "colab": {
          "base_uri": "https://localhost:8080/"
        },
        "id": "yPQ_B2QRelXl",
        "outputId": "c6eb21b4-8b86-4bb4-cdff-ecde308e0e74"
      },
      "execution_count": 81,
      "outputs": [
        {
          "output_type": "execute_result",
          "data": {
            "text/plain": [
              "7955231"
            ]
          },
          "metadata": {},
          "execution_count": 81
        }
      ]
    },
    {
      "cell_type": "code",
      "source": [
        "data2.select(col('DISTRICT')).distinct().show(20)"
      ],
      "metadata": {
        "colab": {
          "base_uri": "https://localhost:8080/"
        },
        "id": "N9k42Dd7e5S9",
        "outputId": "1d9adc65-3bf3-42e7-8edd-4a7e707794c7"
      },
      "execution_count": 82,
      "outputs": [
        {
          "output_type": "stream",
          "name": "stdout",
          "text": [
            "+------------+\n",
            "|    DISTRICT|\n",
            "+------------+\n",
            "|           7|\n",
            "|          15|\n",
            "|          11|\n",
            "|           3|\n",
            "|           8|\n",
            "|          22|\n",
            "|          16|\n",
            "|           5|\n",
            "|          18|\n",
            "|          17|\n",
            "|           6|\n",
            "|          19|\n",
            "|          25|\n",
            "|Headquarters|\n",
            "|          24|\n",
            "|           9|\n",
            "|           1|\n",
            "|          20|\n",
            "|          10|\n",
            "|           4|\n",
            "+------------+\n",
            "only showing top 20 rows\n",
            "\n"
          ]
        }
      ]
    },
    {
      "cell_type": "code",
      "source": [
        "data.select('District').distinct().show(30)"
      ],
      "metadata": {
        "colab": {
          "base_uri": "https://localhost:8080/"
        },
        "id": "jRZ-EiEsjiFs",
        "outputId": "9b4c9104-82c4-4a1a-e6b5-76d7ba18a295"
      },
      "execution_count": 83,
      "outputs": [
        {
          "output_type": "stream",
          "name": "stdout",
          "text": [
            "+--------+\n",
            "|District|\n",
            "+--------+\n",
            "|     009|\n",
            "|     012|\n",
            "|      16|\n",
            "|     024|\n",
            "|    null|\n",
            "|     031|\n",
            "|     015|\n",
            "|     006|\n",
            "|     019|\n",
            "|     020|\n",
            "|     011|\n",
            "|     025|\n",
            "|     003|\n",
            "|     005|\n",
            "|     016|\n",
            "|     018|\n",
            "|     008|\n",
            "|     022|\n",
            "|     001|\n",
            "|     014|\n",
            "|     010|\n",
            "|     004|\n",
            "|     017|\n",
            "|     007|\n",
            "|     021|\n",
            "|     002|\n",
            "+--------+\n",
            "\n"
          ]
        }
      ]
    },
    {
      "cell_type": "markdown",
      "source": [
        "Okay, the problem has been detected. Two datasets reference the same district numbers, but there is a difference: Data 1 contains the zero, whereas Data 2 does not"
      ],
      "metadata": {
        "id": "djPNeH-gjzGA"
      }
    },
    {
      "cell_type": "code",
      "source": [
        "from pyspark.sql.functions import lpad"
      ],
      "metadata": {
        "id": "IIWwNpIjjybP"
      },
      "execution_count": 84,
      "outputs": []
    },
    {
      "cell_type": "code",
      "source": [
        "help(lpad)"
      ],
      "metadata": {
        "colab": {
          "base_uri": "https://localhost:8080/"
        },
        "id": "nsFHUx-Spvn4",
        "outputId": "6aee3c1e-c2ec-4df4-c830-e6d99a53aafc"
      },
      "execution_count": 85,
      "outputs": [
        {
          "output_type": "stream",
          "name": "stdout",
          "text": [
            "Help on function lpad in module pyspark.sql.functions:\n",
            "\n",
            "lpad(col, len, pad)\n",
            "    Left-pad the string column to width `len` with `pad`.\n",
            "    \n",
            "    >>> df = spark.createDataFrame([('abcd',)], ['s',])\n",
            "    >>> df.select(lpad(df.s, 6, '#').alias('s')).collect()\n",
            "    [Row(s='##abcd')]\n",
            "    \n",
            "    .. versionadded:: 1.5\n",
            "\n"
          ]
        }
      ]
    },
    {
      "cell_type": "code",
      "source": [
        "data2.select(lpad(col('DISTRICT'),3,'0')).show()"
      ],
      "metadata": {
        "colab": {
          "base_uri": "https://localhost:8080/"
        },
        "id": "NuvGTMKsp2X5",
        "outputId": "1a95dc5e-5e9a-4340-cbe2-7d91ef6e9592"
      },
      "execution_count": 86,
      "outputs": [
        {
          "output_type": "stream",
          "name": "stdout",
          "text": [
            "+--------------------+\n",
            "|lpad(DISTRICT, 3, 0)|\n",
            "+--------------------+\n",
            "|                 Hea|\n",
            "|                 018|\n",
            "|                 019|\n",
            "|                 020|\n",
            "|                 022|\n",
            "|                 024|\n",
            "|                 025|\n",
            "|                 001|\n",
            "|                 002|\n",
            "|                 003|\n",
            "|                 004|\n",
            "|                 005|\n",
            "|                 006|\n",
            "|                 007|\n",
            "|                 008|\n",
            "|                 009|\n",
            "|                 010|\n",
            "|                 011|\n",
            "|                 012|\n",
            "|                 \",C|\n",
            "+--------------------+\n",
            "only showing top 20 rows\n",
            "\n"
          ]
        }
      ]
    },
    {
      "cell_type": "code",
      "source": [
        "data2 = data2.withColumn('Format_district', lpad(col('DISTRICT'),3,'0'))\n",
        "data2.show(5)"
      ],
      "metadata": {
        "colab": {
          "base_uri": "https://localhost:8080/"
        },
        "id": "EpM5OzgHqfb0",
        "outputId": "9fc2e0ea-91c3-4e39-b39a-fea35bc401cb"
      },
      "execution_count": 87,
      "outputs": [
        {
          "output_type": "stream",
          "name": "stdout",
          "text": [
            "+------------+-------------+-------------------+-------+-----+-----+--------------------+------------+------------+------------+------------+------------+-----------+------------+--------------------+---------------+\n",
            "|    DISTRICT|DISTRICT NAME|            ADDRESS|   CITY|STATE|  ZIP|             WEBSITE|       PHONE|         FAX|         TTY|X COORDINATE|Y COORDINATE|   LATITUDE|   LONGITUDE|            LOCATION|Format_district|\n",
            "+------------+-------------+-------------------+-------+-----+-----+--------------------+------------+------------+------------+------------+------------+-----------+------------+--------------------+---------------+\n",
            "|Headquarters| Headquarters|3510 S Michigan Ave|Chicago|   IL|60653|http://home.chica...|        null|        null|        null| 1177731.401| 1881697.404|41.83070169|-87.62339535|(41.8307016873, -...|            Hea|\n",
            "|          18|   Near North| 1160 N Larrabee St|Chicago|   IL|60610|http://home.chica...|312-742-5870|312-742-5771|312-742-5773| 1172080.029| 1908086.527|41.90324165|-87.64335214|(41.9032416531, -...|            018|\n",
            "|          19|    Town Hall|   850 W Addison St|Chicago|   IL|60613|http://home.chica...|312-744-8320|312-744-4481|312-744-8011| 1169730.744| 1924160.317|41.94740046|-87.65151202|(41.9474004564, -...|            019|\n",
            "|          20|      Lincoln| 5400 N Lincoln Ave|Chicago|   IL|60625|http://home.chica...|312-742-8714|312-742-8803|312-742-8841| 1158399.146| 1935788.826|41.97954951|-87.69284451|(41.9795495131, -...|            020|\n",
            "|          22|  Morgan Park|1900 W Monterey Ave|Chicago|   IL|60643|http://home.chica...|312-745-0710|312-745-0814|312-745-0569| 1165825.476| 1830851.333|41.69143478|-87.66852039|(41.6914347795, -...|            022|\n",
            "+------------+-------------+-------------------+-------+-----+-----+--------------------+------------+------------+------------+------------+------------+-----------+------------+--------------------+---------------+\n",
            "only showing top 5 rows\n",
            "\n"
          ]
        }
      ]
    },
    {
      "cell_type": "code",
      "source": [
        "data.join(data2, data.District == data2.Format_district, 'left_outer').show()"
      ],
      "metadata": {
        "colab": {
          "base_uri": "https://localhost:8080/"
        },
        "id": "8Us0tdLlq-lL",
        "outputId": "0389da7d-0f77-49d3-87ae-17ba4f472ab1"
      },
      "execution_count": 88,
      "outputs": [
        {
          "output_type": "stream",
          "name": "stdout",
          "text": [
            "+--------+-----------+--------------------+--------------------+----+------------------+--------------------+--------------------+------+--------+----+--------+----+--------------+--------+------------+------------+----+--------------------+------------+-------------+--------------------+--------+--------------+--------------------+-------+-----+-----+--------------------+------------+------------+------------+------------+------------+-----------+------------+--------------------+---------------+\n",
            "|      ID|Case Number|                Date|               Block|IUCR|      Primary Type|         Description|Location Description|Arrest|Domestic|Beat|District|Ward|Community Area|FBI Code|X Coordinate|Y Coordinate|Year|          Updated On|    Latitude|    Longitude|            Location|DISTRICT| DISTRICT NAME|             ADDRESS|   CITY|STATE|  ZIP|             WEBSITE|       PHONE|         FAX|         TTY|X COORDINATE|Y COORDINATE|   LATITUDE|   LONGITUDE|            LOCATION|Format_district|\n",
            "+--------+-----------+--------------------+--------------------+----+------------------+--------------------+--------------------+------+--------+----+--------+----+--------------+--------+------------+------------+----+--------------------+------------+-------------+--------------------+--------+--------------+--------------------+-------+-----+-----+--------------------+------------+------------+------------+------------+------------+-----------+------------+--------------------+---------------+\n",
            "|11037294|   JA371270|03/18/2015 12:00:...|   0000X W WACKER DR|1153|DECEPTIVE PRACTICE|FINANCIAL IDENTIT...|                BANK| false|   false|0111|     001|  42|            32|      11|        null|        null|2015|08/01/2017 03:52:...|        null|         null|                null|       1|       Central|     1718 S State St|Chicago|   IL|60616|http://home.chica...|312-745-4290|312-745-3694|312-745-3693| 1176569.052| 1891771.704|41.85837259|-87.62735617|(41.8583725929, -...|            001|\n",
            "|11646293|   JC213749|12/20/2018 03:00:...|023XX N LOCKWOOD AVE|1154|DECEPTIVE PRACTICE|FINANCIAL IDENTIT...|           APARTMENT| false|   false|2515|     025|  36|            19|      11|        null|        null|2018|04/06/2019 04:04:...|        null|         null|                null|      25| Grand Central|    5555 W Grand Ave|Chicago|   IL|60639|http://home.chica...|312-746-8605|312-746-4353|312-746-8383| 1138770.871| 1913442.439|41.91860889|-87.76557448|(41.9186088912, -...|            025|\n",
            "|11645836|   JC212333|05/01/2016 12:25:...| 055XX S ROCKWELL ST|1153|DECEPTIVE PRACTICE|FINANCIAL IDENTIT...|                null| false|   false|0824|     008|  15|            63|      11|        null|        null|2016|04/06/2019 04:04:...|        null|         null|                null|       8|  Chicago Lawn|      3420 W 63rd St|Chicago|   IL|60629|http://home.chica...|312-747-8730|312-747-8545|312-747-8116| 1154575.242| 1862672.049|41.77898719|-87.70886382|(41.778987189, -8...|            008|\n",
            "|11645959|   JC211511|12/20/2018 04:00:...|  045XX N ALBANY AVE|2820|     OTHER OFFENSE|    TELEPHONE THREAT|           RESIDENCE| false|   false|1724|     017|  33|            14|     08A|        null|        null|2018|04/06/2019 04:04:...|        null|         null|                null|      17|   Albany Park|   4650 N Pulaski Rd|Chicago|   IL|60630|http://home.chica...|312-742-4410|312-742-5411|312-742-5451|  1148843.91| 1930801.058|41.96605342|-87.72811456|(41.9660534171, -...|            017|\n",
            "|11645601|   JC212935|06/01/2014 12:01:...| 087XX S SANGAMON ST|1153|DECEPTIVE PRACTICE|FINANCIAL IDENTIT...|           RESIDENCE| false|   false|2222|     022|  21|            71|      11|        null|        null|2014|04/06/2019 04:04:...|        null|         null|                null|      22|   Morgan Park| 1900 W Monterey Ave|Chicago|   IL|60643|http://home.chica...|312-745-0710|312-745-0814|312-745-0569| 1165825.476| 1830851.333|41.69143478|-87.66852039|(41.6914347795, -...|            022|\n",
            "|11646166|   JC213529|09/01/2018 12:01:...|082XX S INGLESIDE...|0810|             THEFT|           OVER $500|           RESIDENCE| false|    true|0631|     006|   8|            44|      06|        null|        null|2018|04/06/2019 04:04:...|        null|         null|                null|       6|       Gresham|   7808 S Halsted St|Chicago|   IL|60620|http://home.chica...|312-745-3617|312-745-3649|312-745-3639| 1172283.013| 1853022.646|41.75213684|-87.64422891|(41.7521368378, -...|            006|\n",
            "|11645648|   JC212959|01/01/2018 08:00:...| 024XX N MONITOR AVE|1153|DECEPTIVE PRACTICE|FINANCIAL IDENTIT...|           RESIDENCE| false|   false|2515|     025|  30|            19|      11|        null|        null|2018|04/06/2019 04:04:...|        null|         null|                null|      25| Grand Central|    5555 W Grand Ave|Chicago|   IL|60639|http://home.chica...|312-746-8605|312-746-4353|312-746-8383| 1138770.871| 1913442.439|41.91860889|-87.76557448|(41.9186088912, -...|            025|\n",
            "|11645557|   JC212685|04/01/2018 12:01:...|  080XX S VERNON AVE|1153|DECEPTIVE PRACTICE|FINANCIAL IDENTIT...|           RESIDENCE| false|   false|0631|     006|   6|            44|      11|        null|        null|2018|04/06/2019 04:04:...|        null|         null|                null|       6|       Gresham|   7808 S Halsted St|Chicago|   IL|60620|http://home.chica...|312-745-3617|312-745-3649|312-745-3639| 1172283.013| 1853022.646|41.75213684|-87.64422891|(41.7521368378, -...|            006|\n",
            "|11645527|   JC212744|02/02/2015 10:00:...|  069XX W ARCHER AVE|1153|DECEPTIVE PRACTICE|FINANCIAL IDENTIT...|               OTHER| false|   false|0811|     008|  23|            56|      11|        null|        null|2015|04/06/2019 04:04:...|        null|         null|                null|       8|  Chicago Lawn|      3420 W 63rd St|Chicago|   IL|60629|http://home.chica...|312-747-8730|312-747-8545|312-747-8116| 1154575.242| 1862672.049|41.77898719|-87.70886382|(41.778987189, -8...|            008|\n",
            "|11645833|   JC213044|05/05/2012 12:25:...|     057XX W OHIO ST|1153|DECEPTIVE PRACTICE|FINANCIAL IDENTIT...|                null| false|   false|1511|     015|  29|            25|      11|        null|        null|2012|04/06/2019 04:04:...|        null|         null|                null|      15|        Austin|   5701 W Madison St|Chicago|   IL|60644|http://home.chica...|312-743-1440|312-743-1366|312-743-1485| 1138148.815| 1899399.078|41.88008346|-87.76819989|(41.8800834614, -...|            015|\n",
            "|11645568|   JC212803|12/18/2018 11:00:...|  032XX N WILTON AVE|1153|DECEPTIVE PRACTICE|FINANCIAL IDENTIT...|           RESIDENCE| false|   false|1924|     019|  44|             6|      11|        null|        null|2018|04/06/2019 04:04:...|        null|         null|                null|      19|     Town Hall|    850 W Addison St|Chicago|   IL|60613|http://home.chica...|312-744-8320|312-744-4481|312-744-8011| 1169730.744| 1924160.317|41.94740046|-87.65151202|(41.9474004564, -...|            019|\n",
            "|12045583|   JD226426|05/07/2020 10:24:...| 035XX S INDIANA AVE|0820|             THEFT|      $500 AND UNDER|           APARTMENT| false|   false|0212|     002|   3|            35|      06|     1178180|     1881621|2020|05/14/2020 08:47:...|41.830481843|-87.621751752|(41.830481843, -8...|       2|     Wentworth|5101 S Wentworth Ave|Chicago|   IL|60609|http://home.chica...|312-747-8366|312-747-5396|312-747-6656| 1175864.837| 1871153.753|41.80181109|-87.63056018|(41.8018110912, -...|            002|\n",
            "|12031001|   JD209965|04/16/2020 05:00:...|     005XX W 32ND ST|0460|           BATTERY|              SIMPLE|           APARTMENT|  true|   false|0915|     009|  11|            60|     08B|     1173292|     1883705|2020|04/23/2020 03:45:...|41.836310224|-87.639624112|(41.836310224, -8...|       9|       Deering|   3120 S Halsted St|Chicago|   IL|60608|http://home.chica...|312-747-8227|312-747-5329|312-747-9172|  1171440.24| 1884085.224|41.83739443|-87.64640771|(41.8373944311, -...|            009|\n",
            "|12093529|   JD282112|07/01/2020 10:16:...|   081XX S COLES AVE|051A|           ASSAULT|AGGRAVATED - HANDGUN|              STREET|  true|   false|0422|     004|   7|            46|     04A|     1198234|     1851595|2020|07/08/2020 03:41:...|41.747609555|-87.549179329|(41.747609555, -8...|       4| South Chicago|     2255 E 103rd St|Chicago|   IL|60617|http://home.chica...|312-747-7581|312-747-5276|312-747-9169| 1193131.299| 1837090.265|41.70793329|-87.56834912|(41.7079332906, -...|            004|\n",
            "|12178140|   JD381597|09/27/2020 11:29:...| 065XX S WOLCOTT AVE|0460|           BATTERY|              SIMPLE|RESIDENCE - PORCH...| false|   false|0726|     007|  15|            67|     08B|     1164812|     1861251|2020|10/04/2020 03:43:...| 41.77487752|-87.671374872|(41.77487752, -87...|       7|     Englewood|      1438 W 63rd St|Chicago|   IL|60636|http://home.chica...|312-747-8223|312-747-6558|312-747-6652| 1167659.235| 1863005.522|41.77963154|-87.66088702|(41.7796315359, -...|            007|\n",
            "| 4144897|   HL474854|07/10/2005 03:00:...| 062XX S ABERDEEN ST|0430|           BATTERY|AGGRAVATED: OTHER...|              STREET| false|   false|0712|     007|  16|            68|     04B|     1170050|     1863524|2005|02/28/2018 03:56:...|41.781002663|-87.652107119|(41.781002663, -8...|       7|     Englewood|      1438 W 63rd St|Chicago|   IL|60636|http://home.chica...|312-747-8223|312-747-6558|312-747-6652| 1167659.235| 1863005.522|41.77963154|-87.66088702|(41.7796315359, -...|            007|\n",
            "| 1744168|    G553545|09/15/2001 02:00:...|     013XX W POLK ST|0460|           BATTERY|              SIMPLE|              STREET| false|   false|1213|     012|null|          null|     08B|        null|        null|2001|08/17/2015 03:03:...|        null|         null|                null|      12|     Near West|1412 S Blue Islan...|   null| null| null|                null|        null|        null|        null|        null|        null|       null|        null|                null|            012|\n",
            "|11641644|   JC207234|03/31/2019 09:30:...|   005XX N ogden ave|0890|             THEFT|       FROM BUILDING|          RESTAURANT| false|   false|1215|     012|   1|            24|      06|        null|        null|2019|04/07/2019 04:05:...|        null|         null|                null|      12|     Near West|1412 S Blue Islan...|   null| null| null|                null|        null|        null|        null|        null|        null|       null|        null|                null|            012|\n",
            "|11615821|   JC176668|01/01/2016 12:00:...| 054XX N NATCHEZ AVE|1195|DECEPTIVE PRACTICE|FINAN EXPLOIT-ELD...|           RESIDENCE| false|    true|1613|     016|  45|            10|      11|        null|        null|2016|03/08/2019 04:36:...|        null|         null|                null|      16|Jefferson Park|5151 N Milwaukee Ave|Chicago|   IL|60630|http://home.chica...|312-742-4480|312-742-4421|312-742-4423| 1138480.758| 1933660.473|41.97409445|-87.76614884|(41.9740944511, -...|            016|\n",
            "|12126129|   JD321064|08/04/2020 08:28:...| 081XX S LOOMIS BLVD|143A| WEAPONS VIOLATION|UNLAWFUL POSSESSI...|              STREET|  true|   false|0613|     006|  21|            71|      15|     1168412|     1850836|2020|08/11/2020 03:42:...|41.746220584|-87.658477307|(41.746220584, -8...|       6|       Gresham|   7808 S Halsted St|Chicago|   IL|60620|http://home.chica...|312-745-3617|312-745-3649|312-745-3639| 1172283.013| 1853022.646|41.75213684|-87.64422891|(41.7521368378, -...|            006|\n",
            "+--------+-----------+--------------------+--------------------+----+------------------+--------------------+--------------------+------+--------+----+--------+----+--------------+--------+------------+------------+----+--------------------+------------+-------------+--------------------+--------+--------------+--------------------+-------+-----+-----+--------------------+------------+------------+------------+------------+------------+-----------+------------+--------------------+---------------+\n",
            "only showing top 20 rows\n",
            "\n"
          ]
        }
      ]
    },
    {
      "cell_type": "code",
      "source": [
        "data2.columns"
      ],
      "metadata": {
        "colab": {
          "base_uri": "https://localhost:8080/"
        },
        "id": "mBhTcatqr_O1",
        "outputId": "60211673-d95a-471f-f446-792ca402a76d"
      },
      "execution_count": 89,
      "outputs": [
        {
          "output_type": "execute_result",
          "data": {
            "text/plain": [
              "['DISTRICT',\n",
              " 'DISTRICT NAME',\n",
              " 'ADDRESS',\n",
              " 'CITY',\n",
              " 'STATE',\n",
              " 'ZIP',\n",
              " 'WEBSITE',\n",
              " 'PHONE',\n",
              " 'FAX',\n",
              " 'TTY',\n",
              " 'X COORDINATE',\n",
              " 'Y COORDINATE',\n",
              " 'LATITUDE',\n",
              " 'LONGITUDE',\n",
              " 'LOCATION',\n",
              " 'Format_district']"
            ]
          },
          "metadata": {},
          "execution_count": 89
        }
      ]
    },
    {
      "cell_type": "code",
      "source": [
        "data.join(data2, data.District == data2.Format_district, 'left_outer').drop(\n",
        " 'ADDRESS',\n",
        " 'CITY',\n",
        " 'STATE',\n",
        " 'ZIP',\n",
        " 'WEBSITE',\n",
        " 'PHONE',\n",
        " 'FAX',\n",
        " 'TTY',\n",
        " 'X COORDINATE',\n",
        " 'Y COORDINATE',\n",
        " 'LATITUDE',\n",
        " 'LONGITUDE',\n",
        " 'LOCATION',\n",
        " 'Format_district').show()"
      ],
      "metadata": {
        "colab": {
          "base_uri": "https://localhost:8080/"
        },
        "id": "F230r7NvsDsN",
        "outputId": "c56cd9f3-1aea-468f-e217-44289cfdea1c"
      },
      "execution_count": 92,
      "outputs": [
        {
          "output_type": "stream",
          "name": "stdout",
          "text": [
            "+--------+-----------+--------------------+--------------------+----+------------------+--------------------+--------------------+------+--------+----+--------+----+--------------+--------+----+--------------------+--------+--------------+\n",
            "|      ID|Case Number|                Date|               Block|IUCR|      Primary Type|         Description|Location Description|Arrest|Domestic|Beat|District|Ward|Community Area|FBI Code|Year|          Updated On|DISTRICT| DISTRICT NAME|\n",
            "+--------+-----------+--------------------+--------------------+----+------------------+--------------------+--------------------+------+--------+----+--------+----+--------------+--------+----+--------------------+--------+--------------+\n",
            "|11037294|   JA371270|03/18/2015 12:00:...|   0000X W WACKER DR|1153|DECEPTIVE PRACTICE|FINANCIAL IDENTIT...|                BANK| false|   false|0111|     001|  42|            32|      11|2015|08/01/2017 03:52:...|       1|       Central|\n",
            "|11646293|   JC213749|12/20/2018 03:00:...|023XX N LOCKWOOD AVE|1154|DECEPTIVE PRACTICE|FINANCIAL IDENTIT...|           APARTMENT| false|   false|2515|     025|  36|            19|      11|2018|04/06/2019 04:04:...|      25| Grand Central|\n",
            "|11645836|   JC212333|05/01/2016 12:25:...| 055XX S ROCKWELL ST|1153|DECEPTIVE PRACTICE|FINANCIAL IDENTIT...|                null| false|   false|0824|     008|  15|            63|      11|2016|04/06/2019 04:04:...|       8|  Chicago Lawn|\n",
            "|11645959|   JC211511|12/20/2018 04:00:...|  045XX N ALBANY AVE|2820|     OTHER OFFENSE|    TELEPHONE THREAT|           RESIDENCE| false|   false|1724|     017|  33|            14|     08A|2018|04/06/2019 04:04:...|      17|   Albany Park|\n",
            "|11645601|   JC212935|06/01/2014 12:01:...| 087XX S SANGAMON ST|1153|DECEPTIVE PRACTICE|FINANCIAL IDENTIT...|           RESIDENCE| false|   false|2222|     022|  21|            71|      11|2014|04/06/2019 04:04:...|      22|   Morgan Park|\n",
            "|11646166|   JC213529|09/01/2018 12:01:...|082XX S INGLESIDE...|0810|             THEFT|           OVER $500|           RESIDENCE| false|    true|0631|     006|   8|            44|      06|2018|04/06/2019 04:04:...|       6|       Gresham|\n",
            "|11645648|   JC212959|01/01/2018 08:00:...| 024XX N MONITOR AVE|1153|DECEPTIVE PRACTICE|FINANCIAL IDENTIT...|           RESIDENCE| false|   false|2515|     025|  30|            19|      11|2018|04/06/2019 04:04:...|      25| Grand Central|\n",
            "|11645557|   JC212685|04/01/2018 12:01:...|  080XX S VERNON AVE|1153|DECEPTIVE PRACTICE|FINANCIAL IDENTIT...|           RESIDENCE| false|   false|0631|     006|   6|            44|      11|2018|04/06/2019 04:04:...|       6|       Gresham|\n",
            "|11645527|   JC212744|02/02/2015 10:00:...|  069XX W ARCHER AVE|1153|DECEPTIVE PRACTICE|FINANCIAL IDENTIT...|               OTHER| false|   false|0811|     008|  23|            56|      11|2015|04/06/2019 04:04:...|       8|  Chicago Lawn|\n",
            "|11645833|   JC213044|05/05/2012 12:25:...|     057XX W OHIO ST|1153|DECEPTIVE PRACTICE|FINANCIAL IDENTIT...|                null| false|   false|1511|     015|  29|            25|      11|2012|04/06/2019 04:04:...|      15|        Austin|\n",
            "|11645568|   JC212803|12/18/2018 11:00:...|  032XX N WILTON AVE|1153|DECEPTIVE PRACTICE|FINANCIAL IDENTIT...|           RESIDENCE| false|   false|1924|     019|  44|             6|      11|2018|04/06/2019 04:04:...|      19|     Town Hall|\n",
            "|12045583|   JD226426|05/07/2020 10:24:...| 035XX S INDIANA AVE|0820|             THEFT|      $500 AND UNDER|           APARTMENT| false|   false|0212|     002|   3|            35|      06|2020|05/14/2020 08:47:...|       2|     Wentworth|\n",
            "|12031001|   JD209965|04/16/2020 05:00:...|     005XX W 32ND ST|0460|           BATTERY|              SIMPLE|           APARTMENT|  true|   false|0915|     009|  11|            60|     08B|2020|04/23/2020 03:45:...|       9|       Deering|\n",
            "|12093529|   JD282112|07/01/2020 10:16:...|   081XX S COLES AVE|051A|           ASSAULT|AGGRAVATED - HANDGUN|              STREET|  true|   false|0422|     004|   7|            46|     04A|2020|07/08/2020 03:41:...|       4| South Chicago|\n",
            "|12178140|   JD381597|09/27/2020 11:29:...| 065XX S WOLCOTT AVE|0460|           BATTERY|              SIMPLE|RESIDENCE - PORCH...| false|   false|0726|     007|  15|            67|     08B|2020|10/04/2020 03:43:...|       7|     Englewood|\n",
            "| 4144897|   HL474854|07/10/2005 03:00:...| 062XX S ABERDEEN ST|0430|           BATTERY|AGGRAVATED: OTHER...|              STREET| false|   false|0712|     007|  16|            68|     04B|2005|02/28/2018 03:56:...|       7|     Englewood|\n",
            "| 1744168|    G553545|09/15/2001 02:00:...|     013XX W POLK ST|0460|           BATTERY|              SIMPLE|              STREET| false|   false|1213|     012|null|          null|     08B|2001|08/17/2015 03:03:...|      12|     Near West|\n",
            "|11641644|   JC207234|03/31/2019 09:30:...|   005XX N ogden ave|0890|             THEFT|       FROM BUILDING|          RESTAURANT| false|   false|1215|     012|   1|            24|      06|2019|04/07/2019 04:05:...|      12|     Near West|\n",
            "|11615821|   JC176668|01/01/2016 12:00:...| 054XX N NATCHEZ AVE|1195|DECEPTIVE PRACTICE|FINAN EXPLOIT-ELD...|           RESIDENCE| false|    true|1613|     016|  45|            10|      11|2016|03/08/2019 04:36:...|      16|Jefferson Park|\n",
            "|12126129|   JD321064|08/04/2020 08:28:...| 081XX S LOOMIS BLVD|143A| WEAPONS VIOLATION|UNLAWFUL POSSESSI...|              STREET|  true|   false|0613|     006|  21|            71|      15|2020|08/11/2020 03:42:...|       6|       Gresham|\n",
            "+--------+-----------+--------------------+--------------------+----+------------------+--------------------+--------------------+------+--------+----+--------+----+--------------+--------+----+--------------------+--------+--------------+\n",
            "only showing top 20 rows\n",
            "\n"
          ]
        }
      ]
    },
    {
      "cell_type": "code",
      "source": [],
      "metadata": {
        "id": "SFtGmTj4tF8P"
      },
      "execution_count": null,
      "outputs": []
    },
    {
      "cell_type": "markdown",
      "source": [
        "## Find the :\n",
        "1. most frequently reported noncriminal activity\n",
        "2. find the day of the week with the most reported crime"
      ],
      "metadata": {
        "id": "bUX32wb6uWOA"
      }
    },
    {
      "cell_type": "code",
      "source": [
        "data.cache()\n",
        "data.count()"
      ],
      "metadata": {
        "colab": {
          "base_uri": "https://localhost:8080/"
        },
        "id": "arK-iZSLuZkW",
        "outputId": "52405678-db53-4ccc-c004-31f85a04cc0e"
      },
      "execution_count": 93,
      "outputs": [
        {
          "output_type": "execute_result",
          "data": {
            "text/plain": [
              "7955231"
            ]
          },
          "metadata": {},
          "execution_count": 93
        }
      ]
    },
    {
      "cell_type": "code",
      "source": [
        "data.show(10)"
      ],
      "metadata": {
        "colab": {
          "base_uri": "https://localhost:8080/"
        },
        "id": "X9wGBQy8u_am",
        "outputId": "2e8a1968-68c6-45fe-ed9f-2941e017a8f7"
      },
      "execution_count": 94,
      "outputs": [
        {
          "output_type": "stream",
          "name": "stdout",
          "text": [
            "+--------+-----------+--------------------+--------------------+----+------------------+--------------------+--------------------+------+--------+----+--------+----+--------------+--------+------------+------------+----+--------------------+--------+---------+--------+\n",
            "|      ID|Case Number|                Date|               Block|IUCR|      Primary Type|         Description|Location Description|Arrest|Domestic|Beat|District|Ward|Community Area|FBI Code|X Coordinate|Y Coordinate|Year|          Updated On|Latitude|Longitude|Location|\n",
            "+--------+-----------+--------------------+--------------------+----+------------------+--------------------+--------------------+------+--------+----+--------+----+--------------+--------+------------+------------+----+--------------------+--------+---------+--------+\n",
            "|11037294|   JA371270|03/18/2015 12:00:...|   0000X W WACKER DR|1153|DECEPTIVE PRACTICE|FINANCIAL IDENTIT...|                BANK| false|   false|0111|     001|  42|            32|      11|        null|        null|2015|08/01/2017 03:52:...|    null|     null|    null|\n",
            "|11646293|   JC213749|12/20/2018 03:00:...|023XX N LOCKWOOD AVE|1154|DECEPTIVE PRACTICE|FINANCIAL IDENTIT...|           APARTMENT| false|   false|2515|     025|  36|            19|      11|        null|        null|2018|04/06/2019 04:04:...|    null|     null|    null|\n",
            "|11645836|   JC212333|05/01/2016 12:25:...| 055XX S ROCKWELL ST|1153|DECEPTIVE PRACTICE|FINANCIAL IDENTIT...|                null| false|   false|0824|     008|  15|            63|      11|        null|        null|2016|04/06/2019 04:04:...|    null|     null|    null|\n",
            "|11645959|   JC211511|12/20/2018 04:00:...|  045XX N ALBANY AVE|2820|     OTHER OFFENSE|    TELEPHONE THREAT|           RESIDENCE| false|   false|1724|     017|  33|            14|     08A|        null|        null|2018|04/06/2019 04:04:...|    null|     null|    null|\n",
            "|11645601|   JC212935|06/01/2014 12:01:...| 087XX S SANGAMON ST|1153|DECEPTIVE PRACTICE|FINANCIAL IDENTIT...|           RESIDENCE| false|   false|2222|     022|  21|            71|      11|        null|        null|2014|04/06/2019 04:04:...|    null|     null|    null|\n",
            "|11646166|   JC213529|09/01/2018 12:01:...|082XX S INGLESIDE...|0810|             THEFT|           OVER $500|           RESIDENCE| false|    true|0631|     006|   8|            44|      06|        null|        null|2018|04/06/2019 04:04:...|    null|     null|    null|\n",
            "|11645648|   JC212959|01/01/2018 08:00:...| 024XX N MONITOR AVE|1153|DECEPTIVE PRACTICE|FINANCIAL IDENTIT...|           RESIDENCE| false|   false|2515|     025|  30|            19|      11|        null|        null|2018|04/06/2019 04:04:...|    null|     null|    null|\n",
            "|11645557|   JC212685|04/01/2018 12:01:...|  080XX S VERNON AVE|1153|DECEPTIVE PRACTICE|FINANCIAL IDENTIT...|           RESIDENCE| false|   false|0631|     006|   6|            44|      11|        null|        null|2018|04/06/2019 04:04:...|    null|     null|    null|\n",
            "|11645527|   JC212744|02/02/2015 10:00:...|  069XX W ARCHER AVE|1153|DECEPTIVE PRACTICE|FINANCIAL IDENTIT...|               OTHER| false|   false|0811|     008|  23|            56|      11|        null|        null|2015|04/06/2019 04:04:...|    null|     null|    null|\n",
            "|11645833|   JC213044|05/05/2012 12:25:...|     057XX W OHIO ST|1153|DECEPTIVE PRACTICE|FINANCIAL IDENTIT...|                null| false|   false|1511|     015|  29|            25|      11|        null|        null|2012|04/06/2019 04:04:...|    null|     null|    null|\n",
            "+--------+-----------+--------------------+--------------------+----+------------------+--------------------+--------------------+------+--------+----+--------+----+--------------+--------+------------+------------+----+--------------------+--------+---------+--------+\n",
            "only showing top 10 rows\n",
            "\n"
          ]
        }
      ]
    },
    {
      "cell_type": "code",
      "source": [
        "#1\n",
        "data.select(col('Primary Type')).distinct().count()"
      ],
      "metadata": {
        "colab": {
          "base_uri": "https://localhost:8080/"
        },
        "id": "zRC0UMKovB7s",
        "outputId": "8dfe0991-2795-401c-c8f1-53b4badec6b4"
      },
      "execution_count": 95,
      "outputs": [
        {
          "output_type": "execute_result",
          "data": {
            "text/plain": [
              "36"
            ]
          },
          "metadata": {},
          "execution_count": 95
        }
      ]
    },
    {
      "cell_type": "code",
      "source": [
        "data.select(col('Primary Type')).distinct().show()"
      ],
      "metadata": {
        "colab": {
          "base_uri": "https://localhost:8080/"
        },
        "id": "huoSe6Oqva_b",
        "outputId": "de549dad-6ea8-4e39-ce32-36400b0a26c2"
      },
      "execution_count": 96,
      "outputs": [
        {
          "output_type": "stream",
          "name": "stdout",
          "text": [
            "+--------------------+\n",
            "|        Primary Type|\n",
            "+--------------------+\n",
            "|OFFENSE INVOLVING...|\n",
            "|CRIMINAL SEXUAL A...|\n",
            "|            STALKING|\n",
            "|PUBLIC PEACE VIOL...|\n",
            "|           OBSCENITY|\n",
            "|NON-CRIMINAL (SUB...|\n",
            "|               ARSON|\n",
            "|   DOMESTIC VIOLENCE|\n",
            "|            GAMBLING|\n",
            "|   CRIMINAL TRESPASS|\n",
            "|             ASSAULT|\n",
            "|      NON - CRIMINAL|\n",
            "|LIQUOR LAW VIOLATION|\n",
            "| MOTOR VEHICLE THEFT|\n",
            "|               THEFT|\n",
            "|             BATTERY|\n",
            "|             ROBBERY|\n",
            "|            HOMICIDE|\n",
            "|           RITUALISM|\n",
            "|    PUBLIC INDECENCY|\n",
            "+--------------------+\n",
            "only showing top 20 rows\n",
            "\n"
          ]
        }
      ]
    },
    {
      "cell_type": "code",
      "source": [
        "data.select(col('Primary Type')).distinct().orderBy(col('Primary Type')).show(36,truncate=False)"
      ],
      "metadata": {
        "colab": {
          "base_uri": "https://localhost:8080/"
        },
        "id": "ksKfXFpEvpgA",
        "outputId": "98b54624-b512-4839-8466-212f0ca8904d"
      },
      "execution_count": 99,
      "outputs": [
        {
          "output_type": "stream",
          "name": "stdout",
          "text": [
            "+---------------------------------+\n",
            "|Primary Type                     |\n",
            "+---------------------------------+\n",
            "|ARSON                            |\n",
            "|ASSAULT                          |\n",
            "|BATTERY                          |\n",
            "|BURGLARY                         |\n",
            "|CONCEALED CARRY LICENSE VIOLATION|\n",
            "|CRIM SEXUAL ASSAULT              |\n",
            "|CRIMINAL DAMAGE                  |\n",
            "|CRIMINAL SEXUAL ASSAULT          |\n",
            "|CRIMINAL TRESPASS                |\n",
            "|DECEPTIVE PRACTICE               |\n",
            "|DOMESTIC VIOLENCE                |\n",
            "|GAMBLING                         |\n",
            "|HOMICIDE                         |\n",
            "|HUMAN TRAFFICKING                |\n",
            "|INTERFERENCE WITH PUBLIC OFFICER |\n",
            "|INTIMIDATION                     |\n",
            "|KIDNAPPING                       |\n",
            "|LIQUOR LAW VIOLATION             |\n",
            "|MOTOR VEHICLE THEFT              |\n",
            "|NARCOTICS                        |\n",
            "|NON - CRIMINAL                   |\n",
            "|NON-CRIMINAL                     |\n",
            "|NON-CRIMINAL (SUBJECT SPECIFIED) |\n",
            "|OBSCENITY                        |\n",
            "|OFFENSE INVOLVING CHILDREN       |\n",
            "|OTHER NARCOTIC VIOLATION         |\n",
            "|OTHER OFFENSE                    |\n",
            "|PROSTITUTION                     |\n",
            "|PUBLIC INDECENCY                 |\n",
            "|PUBLIC PEACE VIOLATION           |\n",
            "|RITUALISM                        |\n",
            "|ROBBERY                          |\n",
            "|SEX OFFENSE                      |\n",
            "|STALKING                         |\n",
            "|THEFT                            |\n",
            "|WEAPONS VIOLATION                |\n",
            "+---------------------------------+\n",
            "\n"
          ]
        }
      ]
    },
    {
      "cell_type": "markdown",
      "source": [
        "take a look about;\n",
        "\n",
        "NON - CRIMINAL                   \n",
        "NON-CRIMINAL                     \n",
        "NON-CRIMINAL (SUBJECT SPECIFIED)"
      ],
      "metadata": {
        "id": "wymryJ3iv6sC"
      }
    },
    {
      "cell_type": "code",
      "source": [
        "#new dataFrame -> non criminal : nc\n",
        "nc = data.filter((col('Primary Type') == 'NON - CRIMINAL') | (col('Primary Type') == 'NON-CRIMINAL') | (col('Primary Type') == 'NON-CRIMINAL (SUBJECT SPECIFIED)'))\n",
        "nc.show(30,truncate=False)"
      ],
      "metadata": {
        "colab": {
          "base_uri": "https://localhost:8080/"
        },
        "id": "ONWtw227v6TF",
        "outputId": "9353f84a-b93b-4d74-e7e3-bacdb4a055f8"
      },
      "execution_count": 101,
      "outputs": [
        {
          "output_type": "stream",
          "name": "stdout",
          "text": [
            "+--------+-----------+----------------------+------------------------+----+--------------------------------+--------------------------------------+----------------------------------------------+------+--------+----+--------+----+--------------+--------+------------+------------+----+----------------------+------------+-------------+-----------------------------+\n",
            "|ID      |Case Number|Date                  |Block                   |IUCR|Primary Type                    |Description                           |Location Description                          |Arrest|Domestic|Beat|District|Ward|Community Area|FBI Code|X Coordinate|Y Coordinate|Year|Updated On            |Latitude    |Longitude    |Location                     |\n",
            "+--------+-----------+----------------------+------------------------+----+--------------------------------+--------------------------------------+----------------------------------------------+------+--------+----+--------+----+--------------+--------+------------+------------+----+----------------------+------------+-------------+-----------------------------+\n",
            "|12127615|JD322967   |08/06/2020 04:15:00 PM|057XX W MADISON ST      |1481|NON-CRIMINAL                    |CONCEALED CARRY LICENSE REVOCATION    |POLICE FACILITY / VEHICLE PARKING LOT         |false |false   |1513|015     |29  |25            |15      |1138058     |1899436     |2020|08/13/2020 03:45:26 PM|41.880186421|-87.768532463|(41.880186421, -87.768532463)|\n",
            "|12348764|JE209644   |04/25/2021 12:30:00 PM|019XX S CENTRAL PARK AVE|1481|NON-CRIMINAL                    |CONCEALED CARRY LICENSE REVOCATION    |RESIDENCE                                     |false |false   |1024|010     |24  |29            |15      |1152688     |1889928     |2021|05/02/2021 03:41:47 PM|41.853818639|-87.715063733|(41.853818639, -87.715063733)|\n",
            "|13280353|JG507932   |11/17/2023 01:17:00 PM|014XX S BLUE ISLAND AVE |1481|NON-CRIMINAL                    |CONCEALED CARRY LICENSE REVOCATION    |POLICE FACILITY / VEHICLE PARKING LOT         |false |false   |1233|012     |28  |28            |15      |1168519     |1893359     |2023|11/25/2023 03:41:40 PM|41.862906101|-87.656858884|(41.862906101, -87.656858884)|\n",
            "|12291891|JE139898   |02/12/2021 03:30:00 PM|033XX W OGDEN AVE       |1481|NON-CRIMINAL                    |CONCEALED CARRY LICENSE REVOCATION    |POLICE FACILITY / VEHICLE PARKING LOT         |false |false   |1024|010     |24  |29            |15      |1154489     |1891024     |2021|02/19/2021 03:40:39 PM|41.856790413|-87.708424071|(41.856790413, -87.708424071)|\n",
            "|12378897|JE246595   |05/29/2021 09:20:00 AM|019XX W MONTEREY AVE    |1481|NON-CRIMINAL                    |CONCEALED CARRY LICENSE REVOCATION    |POLICE FACILITY / VEHICLE PARKING LOT         |false |false   |2212|022     |19  |75            |15      |1165742     |1830843     |2021|06/05/2021 03:40:05 PM|41.691413679|-87.668826246|(41.691413679, -87.668826246)|\n",
            "|12559810|JE467972   |12/06/2021 12:00:00 PM|014XX S BLUE ISLAND AVE |1481|NON-CRIMINAL                    |CONCEALED CARRY LICENSE REVOCATION    |POLICE FACILITY / VEHICLE PARKING LOT         |true  |true    |1233|012     |25  |28            |15      |1168519     |1893359     |2021|12/13/2021 03:40:12 PM|41.862906101|-87.656858884|(41.862906101, -87.656858884)|\n",
            "|12669127|JF206171   |04/12/2022 10:27:00 PM|011XX N LARRABEE ST     |1481|NON-CRIMINAL                    |CONCEALED CARRY LICENSE REVOCATION    |POLICE FACILITY / VEHICLE PARKING LOT         |true  |false   |1822|018     |27  |8             |15      |1172122     |1908040     |2022|01/03/2023 03:40:27 PM|41.903113054|-87.643199348|(41.903113054, -87.643199348)|\n",
            "|12669128|JF206174   |04/12/2022 08:15:00 PM|004XX N STATE ST        |1481|NON-CRIMINAL                    |CONCEALED CARRY LICENSE REVOCATION    |STREET                                        |true  |false   |1831|018     |42  |8             |15      |1176293     |1903400     |2022|01/03/2023 03:40:27 PM|41.890287564|-87.628018708|(41.890287564, -87.628018708)|\n",
            "|12855184|JF429461   |10/10/2022 06:30:00 PM|007XX E 111TH ST        |1481|NON-CRIMINAL                    |CONCEALED CARRY LICENSE REVOCATION    |POLICE FACILITY / VEHICLE PARKING LOT         |false |false   |0531|005     |9   |50            |15      |1183356     |1831503     |2022|01/03/2023 03:40:27 PM|41.692833841|-87.60431945 |(41.692833841, -87.60431945) |\n",
            "|12924982|JF513216   |12/16/2022 06:45:00 PM|0000X E 100TH ST        |1481|NON-CRIMINAL                    |CONCEALED CARRY LICENSE REVOCATION    |RESIDENCE                                     |false |false   |0511|005     |9   |49            |15      |1178449     |1838683     |2022|01/03/2023 03:40:27 PM|41.712649319|-87.622067661|(41.712649319, -87.622067661)|\n",
            "|12882502|JF462132   |10/29/2022 06:00:00 PM|090XX S LUELLA AVE      |1481|NON-CRIMINAL                    |CONCEALED CARRY LICENSE REVOCATION    |RESIDENCE                                     |false |false   |0413|004     |7   |48            |15      |1192746     |1845529     |2022|01/03/2023 03:40:27 PM|41.731099396|-87.569485895|(41.731099396, -87.569485895)|\n",
            "|13092063|JG283118   |06/01/2023 01:38:00 AM|028XX E 81ST ST         |1481|NON-CRIMINAL                    |CONCEALED CARRY LICENSE REVOCATION    |STREET                                        |false |false   |0422|004     |7   |46            |15      |1196491     |1851808     |2023|08/19/2023 03:40:26 PM|41.748237454|-87.555559006|(41.748237454, -87.555559006)|\n",
            "|13060479|JG245454   |05/02/2023 03:27:00 PM|092XX S WESTERN AVE     |1481|NON-CRIMINAL                    |CONCEALED CARRY LICENSE REVOCATION    |SIDEWALK                                      |false |false   |2221|022     |19  |72            |15      |1161988     |1843421     |2023|08/19/2023 03:40:26 PM|41.726008504|-87.682221922|(41.726008504, -87.682221922)|\n",
            "|8773145 |HV447848   |08/25/2012 03:00:00 PM|100XX W OHARE ST        |5093|NON-CRIMINAL                    |LOST PASSPORT                         |AIRPORT TERMINAL LOWER LEVEL - NON-SECURE AREA|true  |false   |1651|016     |41  |76            |26      |1100658     |1934241     |2012|02/10/2018 03:50:01 PM|41.976290414|-87.905227221|(41.976290414, -87.905227221)|\n",
            "|8602092 |HV276324   |05/07/2012 10:30:00 PM|001XX W ADAMS ST        |5093|NON-CRIMINAL                    |LOST PASSPORT                         |TAXICAB                                       |false |false   |0122|001     |42  |32            |26      |1175062     |1899421     |2012|02/04/2016 06:33:39 AM|41.879396635|-87.632658775|(41.879396635, -87.632658775)|\n",
            "|8701089 |HV377321   |07/06/2012 10:00:00 PM|009XX W ROSCOE ST       |5093|NON-CRIMINAL                    |LOST PASSPORT                         |SIDEWALK                                      |false |false   |1924|019     |44  |6             |26      |1169358     |1922759     |2012|02/04/2016 06:33:39 AM|41.943563314|-87.652923006|(41.943563314, -87.652923006)|\n",
            "|8613948 |HV287619   |05/05/2012 03:00:00 PM|004XX N MICHIGAN AVE    |5093|NON-CRIMINAL                    |LOST PASSPORT                         |STREET                                        |false |false   |1834|018     |42  |8             |26      |1177329     |1903108     |2012|02/04/2016 06:33:39 AM|41.88946287 |-87.624222942|(41.88946287, -87.624222942) |\n",
            "|8714358 |HV390850   |07/19/2012 04:00:00 PM|008XX N MICHIGAN AVE    |5093|NON-CRIMINAL                    |LOST PASSPORT                         |COMMERCIAL / BUSINESS OFFICE                  |false |false   |1833|018     |42  |8             |26      |1177338     |1906181     |2012|02/10/2018 03:50:01 PM|41.897895128|-87.624096605|(41.897895128, -87.624096605)|\n",
            "|8720297 |HV397127   |07/21/2012 02:00:00 AM|0000X W HUBBARD ST      |5093|NON-CRIMINAL                    |LOST PASSPORT                         |STREET                                        |false |false   |1831|018     |42  |8             |26      |1176050     |1903312     |2012|02/04/2016 06:33:39 AM|41.890051565|-87.62891376 |(41.890051565, -87.62891376) |\n",
            "|8920098 |HV592222   |12/06/2012 11:30:00 PM|020XX W 51ST ST         |5073|NON-CRIMINAL (SUBJECT SPECIFIED)|NOTIFICATION OF CIVIL NO CONTACT ORDER|APARTMENT                                     |false |true    |0931|009     |16  |61            |26      |1163437     |1870837     |2012|02/10/2018 03:50:01 PM|41.801211675|-87.676146832|(41.801211675, -87.676146832)|\n",
            "|8819689 |HV492871   |09/26/2012 05:20:00 PM|059XX N ROCKWELL ST     |5073|NON-CRIMINAL (SUBJECT SPECIFIED)|NOTIFICATION OF CIVIL NO CONTACT ORDER|SIDEWALK                                      |true  |false   |2011|020     |40  |2             |26      |1157923     |1939345     |2012|02/10/2018 03:50:01 PM|41.98931757 |-87.694498035|(41.98931757, -87.694498035) |\n",
            "|9062806 |HW207631   |03/26/2013 04:00:00 PM|067XX S JEFFERY BLVD    |5094|NON-CRIMINAL                    |FOUND PASSPORT                        |CTA BUS                                       |false |false   |0332|003     |5   |43            |26      |1190703     |1860780     |2013|02/10/2018 03:50:01 PM|41.772998982|-87.576478539|(41.772998982, -87.576478539)|\n",
            "|9148621 |HW294531   |05/01/2013 09:00:00 AM|034XX N LAKE SHORE DR   |5093|NON-CRIMINAL                    |LOST PASSPORT                         |APARTMENT                                     |true  |false   |1925|019     |44  |6             |26      |1172449     |1923411     |2013|02/10/2018 03:50:01 PM|41.945284535|-87.641542722|(41.945284535, -87.641542722)|\n",
            "|9436491 |HW580783   |12/17/2013 10:00:00 PM|057XX S CICERO AVE      |5093|NON-CRIMINAL                    |LOST PASSPORT                         |AIRCRAFT                                      |false |false   |0813|008     |23  |56            |26      |1145654     |1866253     |2013|02/10/2018 03:50:01 PM|41.788987036|-87.74147999 |(41.788987036, -87.74147999) |\n",
            "|9284607 |HW428723   |08/29/2013 09:30:00 AM|007XX E 111TH ST        |5114|NON - CRIMINAL                  |FOID - REVOCATION                     |POLICE FACILITY/VEH PARKING LOT               |false |false   |0531|005     |9   |50            |26      |1183356     |1831503     |2013|02/10/2018 03:50:01 PM|41.692833841|-87.60431945 |(41.692833841, -87.60431945) |\n",
            "|9406560 |HW549849   |11/27/2013 10:20:00 AM|022XX E 103RD ST        |5114|NON - CRIMINAL                  |FOID - REVOCATION                     |POLICE FACILITY/VEH PARKING LOT               |false |false   |0434|004     |10  |51            |26      |1192874     |1837123     |2013|02/10/2018 03:50:01 PM|41.708029389|-87.569290282|(41.708029389, -87.569290282)|\n",
            "|9402173 |HW545106   |11/22/2013 02:00:00 AM|002XX W ONTARIO ST      |5093|NON-CRIMINAL                    |LOST PASSPORT                         |BAR OR TAVERN                                 |false |false   |1831|018     |42  |8             |26      |1174469     |1904439     |2013|02/10/2018 03:50:01 PM|41.893179585|-87.634686145|(41.893179585, -87.634686145)|\n",
            "|9366682 |HW510040   |10/28/2013 07:15:00 AM|019XX W OHIO ST         |5114|NON - CRIMINAL                  |FOID - REVOCATION                     |RESIDENCE                                     |false |false   |1221|012     |1   |24            |26      |1163389     |1904029     |2013|02/10/2018 03:50:01 PM|41.892294874|-87.675390277|(41.892294874, -87.675390277)|\n",
            "|9640214 |HX290853   |06/05/2014 10:00:00 AM|026XX S CALIFORNIA AVE  |5114|NON - CRIMINAL                  |FOID - REVOCATION                     |GOVERNMENT BUILDING/PROPERTY                  |false |false   |1033|010     |12  |30            |26      |1158136     |1886128     |2014|02/10/2018 03:50:01 PM|41.843281635|-87.695171094|(41.843281635, -87.695171094)|\n",
            "|9684549 |HX334987   |06/30/2014 10:00:00 AM|062XX W EASTWOOD AVE    |5114|NON - CRIMINAL                  |FOID - REVOCATION                     |STREET                                        |false |false   |1622|016     |38  |15            |26      |1133693     |1930201     |2014|02/10/2018 03:50:01 PM|41.964686958|-87.783836648|(41.964686958, -87.783836648)|\n",
            "+--------+-----------+----------------------+------------------------+----+--------------------------------+--------------------------------------+----------------------------------------------+------+--------+----+--------+----+--------------+--------+------------+------------+----+----------------------+------------+-------------+-----------------------------+\n",
            "only showing top 30 rows\n",
            "\n"
          ]
        }
      ]
    },
    {
      "cell_type": "code",
      "source": [
        "nc.groupBy(col('Description')).count().orderBy('count', ascending=False).show(truncate=False)"
      ],
      "metadata": {
        "colab": {
          "base_uri": "https://localhost:8080/"
        },
        "id": "N-4IdZ-XzRIi",
        "outputId": "642e3499-05ed-4971-b5e6-979a14434e3c"
      },
      "execution_count": 103,
      "outputs": [
        {
          "output_type": "stream",
          "name": "stdout",
          "text": [
            "+-------------------------------------------+-----+\n",
            "|Description                                |count|\n",
            "+-------------------------------------------+-----+\n",
            "|LOST PASSPORT                              |111  |\n",
            "|FOID - REVOCATION                          |76   |\n",
            "|CONCEALED CARRY LICENSE REVOCATION         |20   |\n",
            "|NOTIFICATION OF CIVIL NO CONTACT ORDER     |9    |\n",
            "|NOTIFICATION OF STALKING - NO CONTACT ORDER|8    |\n",
            "|FOUND PASSPORT                             |4    |\n",
            "|GUN OFFENDER NOTIFICATION-NO CONTACT       |3    |\n",
            "+-------------------------------------------+-----+\n",
            "\n"
          ]
        }
      ]
    },
    {
      "cell_type": "code",
      "source": [
        "#2 find the day of the week with the most reported crime\n",
        "\n",
        "from pyspark.sql.functions import dayofweek"
      ],
      "metadata": {
        "id": "EEwzSyCu0Dwj"
      },
      "execution_count": 104,
      "outputs": []
    },
    {
      "cell_type": "code",
      "source": [
        "help(dayofweek)"
      ],
      "metadata": {
        "colab": {
          "base_uri": "https://localhost:8080/"
        },
        "id": "jl-lNAN30RsQ",
        "outputId": "1505e3d3-3649-485d-8347-c7a9d4379856"
      },
      "execution_count": 106,
      "outputs": [
        {
          "output_type": "stream",
          "name": "stdout",
          "text": [
            "Help on function dayofweek in module pyspark.sql.functions:\n",
            "\n",
            "dayofweek(col)\n",
            "    Extract the day of the week of a given date as integer.\n",
            "    \n",
            "    >>> df = spark.createDataFrame([('2015-04-08',)], ['dt'])\n",
            "    >>> df.select(dayofweek('dt').alias('day')).collect()\n",
            "    [Row(day=4)]\n",
            "    \n",
            "    .. versionadded:: 2.3\n",
            "\n"
          ]
        }
      ]
    },
    {
      "cell_type": "code",
      "source": [
        "data.show(10)"
      ],
      "metadata": {
        "colab": {
          "base_uri": "https://localhost:8080/"
        },
        "id": "UR0O4KOM0VxR",
        "outputId": "416a384b-de2a-4cb5-aa7d-f11a0240df6d"
      },
      "execution_count": 120,
      "outputs": [
        {
          "output_type": "stream",
          "name": "stdout",
          "text": [
            "+--------+-----------+--------------------+--------------------+----+------------------+--------------------+--------------------+------+--------+----+--------+----+--------------+--------+------------+------------+----+--------------------+--------+---------+--------+\n",
            "|      ID|Case Number|                Date|               Block|IUCR|      Primary Type|         Description|Location Description|Arrest|Domestic|Beat|District|Ward|Community Area|FBI Code|X Coordinate|Y Coordinate|Year|          Updated On|Latitude|Longitude|Location|\n",
            "+--------+-----------+--------------------+--------------------+----+------------------+--------------------+--------------------+------+--------+----+--------+----+--------------+--------+------------+------------+----+--------------------+--------+---------+--------+\n",
            "|11037294|   JA371270|03/18/2015 12:00:...|   0000X W WACKER DR|1153|DECEPTIVE PRACTICE|FINANCIAL IDENTIT...|                BANK| false|   false|0111|     001|  42|            32|      11|        null|        null|2015|08/01/2017 03:52:...|    null|     null|    null|\n",
            "|11646293|   JC213749|12/20/2018 03:00:...|023XX N LOCKWOOD AVE|1154|DECEPTIVE PRACTICE|FINANCIAL IDENTIT...|           APARTMENT| false|   false|2515|     025|  36|            19|      11|        null|        null|2018|04/06/2019 04:04:...|    null|     null|    null|\n",
            "|11645836|   JC212333|05/01/2016 12:25:...| 055XX S ROCKWELL ST|1153|DECEPTIVE PRACTICE|FINANCIAL IDENTIT...|                null| false|   false|0824|     008|  15|            63|      11|        null|        null|2016|04/06/2019 04:04:...|    null|     null|    null|\n",
            "|11645959|   JC211511|12/20/2018 04:00:...|  045XX N ALBANY AVE|2820|     OTHER OFFENSE|    TELEPHONE THREAT|           RESIDENCE| false|   false|1724|     017|  33|            14|     08A|        null|        null|2018|04/06/2019 04:04:...|    null|     null|    null|\n",
            "|11645601|   JC212935|06/01/2014 12:01:...| 087XX S SANGAMON ST|1153|DECEPTIVE PRACTICE|FINANCIAL IDENTIT...|           RESIDENCE| false|   false|2222|     022|  21|            71|      11|        null|        null|2014|04/06/2019 04:04:...|    null|     null|    null|\n",
            "|11646166|   JC213529|09/01/2018 12:01:...|082XX S INGLESIDE...|0810|             THEFT|           OVER $500|           RESIDENCE| false|    true|0631|     006|   8|            44|      06|        null|        null|2018|04/06/2019 04:04:...|    null|     null|    null|\n",
            "|11645648|   JC212959|01/01/2018 08:00:...| 024XX N MONITOR AVE|1153|DECEPTIVE PRACTICE|FINANCIAL IDENTIT...|           RESIDENCE| false|   false|2515|     025|  30|            19|      11|        null|        null|2018|04/06/2019 04:04:...|    null|     null|    null|\n",
            "|11645557|   JC212685|04/01/2018 12:01:...|  080XX S VERNON AVE|1153|DECEPTIVE PRACTICE|FINANCIAL IDENTIT...|           RESIDENCE| false|   false|0631|     006|   6|            44|      11|        null|        null|2018|04/06/2019 04:04:...|    null|     null|    null|\n",
            "|11645527|   JC212744|02/02/2015 10:00:...|  069XX W ARCHER AVE|1153|DECEPTIVE PRACTICE|FINANCIAL IDENTIT...|               OTHER| false|   false|0811|     008|  23|            56|      11|        null|        null|2015|04/06/2019 04:04:...|    null|     null|    null|\n",
            "|11645833|   JC213044|05/05/2012 12:25:...|     057XX W OHIO ST|1153|DECEPTIVE PRACTICE|FINANCIAL IDENTIT...|                null| false|   false|1511|     015|  29|            25|      11|        null|        null|2012|04/06/2019 04:04:...|    null|     null|    null|\n",
            "+--------+-----------+--------------------+--------------------+----+------------------+--------------------+--------------------+------+--------+----+--------+----+--------------+--------+------------+------------+----+--------------------+--------+---------+--------+\n",
            "only showing top 10 rows\n",
            "\n"
          ]
        }
      ]
    },
    {
      "cell_type": "code",
      "source": [
        "rc.select(col('Date'),dayofweek(col('Date'))).show(5)"
      ],
      "metadata": {
        "colab": {
          "base_uri": "https://localhost:8080/"
        },
        "id": "Y1Jnctcb0arv",
        "outputId": "6dcbb96c-63cd-4335-eb3e-e5a84dc1c7bc"
      },
      "execution_count": 122,
      "outputs": [
        {
          "output_type": "stream",
          "name": "stdout",
          "text": [
            "+-------------------+---------------+\n",
            "|               Date|dayofweek(Date)|\n",
            "+-------------------+---------------+\n",
            "|2015-03-18 12:00:00|              4|\n",
            "|2016-05-01 00:25:00|              1|\n",
            "|2014-06-01 00:01:00|              1|\n",
            "|2018-09-01 00:01:00|              7|\n",
            "|2018-01-01 08:00:00|              2|\n",
            "+-------------------+---------------+\n",
            "only showing top 5 rows\n",
            "\n"
          ]
        }
      ]
    },
    {
      "cell_type": "code",
      "source": [
        "from pyspark.sql.functions import date_format"
      ],
      "metadata": {
        "id": "HBb2LYDD1BNP"
      },
      "execution_count": 123,
      "outputs": []
    },
    {
      "cell_type": "code",
      "source": [
        "help(date_format)"
      ],
      "metadata": {
        "colab": {
          "base_uri": "https://localhost:8080/"
        },
        "id": "HhfZbKbs1HP7",
        "outputId": "51c933d4-a33d-4fdd-d06b-6cf51262ee45"
      },
      "execution_count": 124,
      "outputs": [
        {
          "output_type": "stream",
          "name": "stdout",
          "text": [
            "Help on function date_format in module pyspark.sql.functions:\n",
            "\n",
            "date_format(date, format)\n",
            "    Converts a date/timestamp/string to a value of string in the format specified by the date\n",
            "    format given by the second argument.\n",
            "    \n",
            "    A pattern could be for instance `dd.MM.yyyy` and could return a string like '18.03.1993'. All\n",
            "    pattern letters of `datetime pattern`_. can be used.\n",
            "    \n",
            "    .. _datetime pattern: https://spark.apache.org/docs/latest/sql-ref-datetime-pattern.html\n",
            "    .. note:: Use when ever possible specialized functions like `year`. These benefit from a\n",
            "        specialized implementation.\n",
            "    \n",
            "    >>> df = spark.createDataFrame([('2015-04-08',)], ['dt'])\n",
            "    >>> df.select(date_format('dt', 'MM/dd/yyy').alias('date')).collect()\n",
            "    [Row(date='04/08/2015')]\n",
            "    \n",
            "    .. versionadded:: 1.5\n",
            "\n"
          ]
        }
      ]
    },
    {
      "cell_type": "code",
      "source": [
        "rc.select(col('Date'),dayofweek(col('Date')), date_format(col('Date'), 'E')).show(5)"
      ],
      "metadata": {
        "colab": {
          "base_uri": "https://localhost:8080/"
        },
        "id": "LykONgzB1LDG",
        "outputId": "e9664671-0b91-4d0e-a7f0-86dd1a44cc5d"
      },
      "execution_count": 125,
      "outputs": [
        {
          "output_type": "stream",
          "name": "stdout",
          "text": [
            "+-------------------+---------------+--------------------+\n",
            "|               Date|dayofweek(Date)|date_format(Date, E)|\n",
            "+-------------------+---------------+--------------------+\n",
            "|2015-03-18 12:00:00|              4|                 Wed|\n",
            "|2016-05-01 00:25:00|              1|                 Sun|\n",
            "|2014-06-01 00:01:00|              1|                 Sun|\n",
            "|2018-09-01 00:01:00|              7|                 Sat|\n",
            "|2018-01-01 08:00:00|              2|                 Mon|\n",
            "+-------------------+---------------+--------------------+\n",
            "only showing top 5 rows\n",
            "\n"
          ]
        }
      ]
    },
    {
      "cell_type": "code",
      "source": [
        "rc.groupBy(date_format(col('Date'), 'E')).count().orderBy('count', ascending=False).show()"
      ],
      "metadata": {
        "colab": {
          "base_uri": "https://localhost:8080/"
        },
        "id": "oR0gPwe_2MqN",
        "outputId": "5a014fa7-45a2-4db6-ee54-ecce51918e09"
      },
      "execution_count": 131,
      "outputs": [
        {
          "output_type": "stream",
          "name": "stdout",
          "text": [
            "+--------------------+-------+\n",
            "|date_format(Date, E)|  count|\n",
            "+--------------------+-------+\n",
            "|                 Fri|1017474|\n",
            "|                 Wed| 974381|\n",
            "|                 Tue| 968541|\n",
            "|                 Sat| 965591|\n",
            "|                 Thu| 965109|\n",
            "|                 Mon| 953243|\n",
            "|                 Sun| 912450|\n",
            "+--------------------+-------+\n",
            "\n"
          ]
        }
      ]
    },
    {
      "cell_type": "code",
      "source": [
        "rc.groupBy(date_format(col('Date'), 'E')).count().collect()"
      ],
      "metadata": {
        "colab": {
          "base_uri": "https://localhost:8080/"
        },
        "id": "tHcE4rAF5NKt",
        "outputId": "5cb773a1-8df2-436b-bff9-ced9d75f78fb"
      },
      "execution_count": 132,
      "outputs": [
        {
          "output_type": "execute_result",
          "data": {
            "text/plain": [
              "[Row(date_format(Date, E)='Sun', count=912450),\n",
              " Row(date_format(Date, E)='Mon', count=953243),\n",
              " Row(date_format(Date, E)='Thu', count=965109),\n",
              " Row(date_format(Date, E)='Sat', count=965591),\n",
              " Row(date_format(Date, E)='Wed', count=974381),\n",
              " Row(date_format(Date, E)='Fri', count=1017474),\n",
              " Row(date_format(Date, E)='Tue', count=968541)]"
            ]
          },
          "metadata": {},
          "execution_count": 132
        }
      ]
    },
    {
      "cell_type": "code",
      "source": [
        "dow = [x[0] for x in rc.groupBy(date_format(col('Date'), 'E')).count().collect()]\n",
        "dow"
      ],
      "metadata": {
        "colab": {
          "base_uri": "https://localhost:8080/"
        },
        "id": "88F-aftw5dz8",
        "outputId": "bb8fb8b0-7b88-4759-dfb9-d4427331f736"
      },
      "execution_count": 134,
      "outputs": [
        {
          "output_type": "execute_result",
          "data": {
            "text/plain": [
              "['Sun', 'Mon', 'Thu', 'Sat', 'Wed', 'Fri', 'Tue']"
            ]
          },
          "metadata": {},
          "execution_count": 134
        }
      ]
    },
    {
      "cell_type": "code",
      "source": [
        "cnt = [x[1] for x in rc.groupBy(date_format(col('Date'), 'E')).count().collect()]\n",
        "cnt"
      ],
      "metadata": {
        "colab": {
          "base_uri": "https://localhost:8080/"
        },
        "id": "A_quFV4n5scI",
        "outputId": "bb20ba0a-a199-4177-bf48-0896c43d414d"
      },
      "execution_count": 136,
      "outputs": [
        {
          "output_type": "execute_result",
          "data": {
            "text/plain": [
              "[912450, 953243, 965109, 965591, 974381, 1017474, 968541]"
            ]
          },
          "metadata": {},
          "execution_count": 136
        }
      ]
    },
    {
      "cell_type": "code",
      "source": [
        "import pandas as pd\n",
        "import matplotlib.pyplot as plt"
      ],
      "metadata": {
        "id": "5BQxbKgV52_V"
      },
      "execution_count": 138,
      "outputs": []
    },
    {
      "cell_type": "code",
      "source": [
        "cp = pd.DataFrame({'Day_of_Week' : dow, 'Count' :  cnt})\n",
        "cp.head(7)"
      ],
      "metadata": {
        "colab": {
          "base_uri": "https://localhost:8080/",
          "height": 894
        },
        "id": "xMvWBzcH6E6G",
        "outputId": "048f4df7-367a-4d11-ac10-7ca19e455e00"
      },
      "execution_count": 140,
      "outputs": [
        {
          "output_type": "execute_result",
          "data": {
            "text/plain": [
              "  Day_of_Week    Count\n",
              "0         Sun   912450\n",
              "1         Mon   953243\n",
              "2         Thu   965109\n",
              "3         Sat   965591\n",
              "4         Wed   974381\n",
              "5         Fri  1017474\n",
              "6         Tue   968541"
            ],
            "text/html": [
              "\n",
              "  <div id=\"df-8a5a7349-3127-4e96-bb56-39e098ffd6e5\" class=\"colab-df-container\">\n",
              "    <div>\n",
              "<style scoped>\n",
              "    .dataframe tbody tr th:only-of-type {\n",
              "        vertical-align: middle;\n",
              "    }\n",
              "\n",
              "    .dataframe tbody tr th {\n",
              "        vertical-align: top;\n",
              "    }\n",
              "\n",
              "    .dataframe thead th {\n",
              "        text-align: right;\n",
              "    }\n",
              "</style>\n",
              "<table border=\"1\" class=\"dataframe\">\n",
              "  <thead>\n",
              "    <tr style=\"text-align: right;\">\n",
              "      <th></th>\n",
              "      <th>Day_of_Week</th>\n",
              "      <th>Count</th>\n",
              "    </tr>\n",
              "  </thead>\n",
              "  <tbody>\n",
              "    <tr>\n",
              "      <th>0</th>\n",
              "      <td>Sun</td>\n",
              "      <td>912450</td>\n",
              "    </tr>\n",
              "    <tr>\n",
              "      <th>1</th>\n",
              "      <td>Mon</td>\n",
              "      <td>953243</td>\n",
              "    </tr>\n",
              "    <tr>\n",
              "      <th>2</th>\n",
              "      <td>Thu</td>\n",
              "      <td>965109</td>\n",
              "    </tr>\n",
              "    <tr>\n",
              "      <th>3</th>\n",
              "      <td>Sat</td>\n",
              "      <td>965591</td>\n",
              "    </tr>\n",
              "    <tr>\n",
              "      <th>4</th>\n",
              "      <td>Wed</td>\n",
              "      <td>974381</td>\n",
              "    </tr>\n",
              "    <tr>\n",
              "      <th>5</th>\n",
              "      <td>Fri</td>\n",
              "      <td>1017474</td>\n",
              "    </tr>\n",
              "    <tr>\n",
              "      <th>6</th>\n",
              "      <td>Tue</td>\n",
              "      <td>968541</td>\n",
              "    </tr>\n",
              "  </tbody>\n",
              "</table>\n",
              "</div>\n",
              "    <div class=\"colab-df-buttons\">\n",
              "\n",
              "  <div class=\"colab-df-container\">\n",
              "    <button class=\"colab-df-convert\" onclick=\"convertToInteractive('df-8a5a7349-3127-4e96-bb56-39e098ffd6e5')\"\n",
              "            title=\"Convert this dataframe to an interactive table.\"\n",
              "            style=\"display:none;\">\n",
              "\n",
              "  <svg xmlns=\"http://www.w3.org/2000/svg\" height=\"24px\" viewBox=\"0 -960 960 960\">\n",
              "    <path d=\"M120-120v-720h720v720H120Zm60-500h600v-160H180v160Zm220 220h160v-160H400v160Zm0 220h160v-160H400v160ZM180-400h160v-160H180v160Zm440 0h160v-160H620v160ZM180-180h160v-160H180v160Zm440 0h160v-160H620v160Z\"/>\n",
              "  </svg>\n",
              "    </button>\n",
              "\n",
              "  <style>\n",
              "    .colab-df-container {\n",
              "      display:flex;\n",
              "      gap: 12px;\n",
              "    }\n",
              "\n",
              "    .colab-df-convert {\n",
              "      background-color: #E8F0FE;\n",
              "      border: none;\n",
              "      border-radius: 50%;\n",
              "      cursor: pointer;\n",
              "      display: none;\n",
              "      fill: #1967D2;\n",
              "      height: 32px;\n",
              "      padding: 0 0 0 0;\n",
              "      width: 32px;\n",
              "    }\n",
              "\n",
              "    .colab-df-convert:hover {\n",
              "      background-color: #E2EBFA;\n",
              "      box-shadow: 0px 1px 2px rgba(60, 64, 67, 0.3), 0px 1px 3px 1px rgba(60, 64, 67, 0.15);\n",
              "      fill: #174EA6;\n",
              "    }\n",
              "\n",
              "    .colab-df-buttons div {\n",
              "      margin-bottom: 4px;\n",
              "    }\n",
              "\n",
              "    [theme=dark] .colab-df-convert {\n",
              "      background-color: #3B4455;\n",
              "      fill: #D2E3FC;\n",
              "    }\n",
              "\n",
              "    [theme=dark] .colab-df-convert:hover {\n",
              "      background-color: #434B5C;\n",
              "      box-shadow: 0px 1px 3px 1px rgba(0, 0, 0, 0.15);\n",
              "      filter: drop-shadow(0px 1px 2px rgba(0, 0, 0, 0.3));\n",
              "      fill: #FFFFFF;\n",
              "    }\n",
              "  </style>\n",
              "\n",
              "    <script>\n",
              "      const buttonEl =\n",
              "        document.querySelector('#df-8a5a7349-3127-4e96-bb56-39e098ffd6e5 button.colab-df-convert');\n",
              "      buttonEl.style.display =\n",
              "        google.colab.kernel.accessAllowed ? 'block' : 'none';\n",
              "\n",
              "      async function convertToInteractive(key) {\n",
              "        const element = document.querySelector('#df-8a5a7349-3127-4e96-bb56-39e098ffd6e5');\n",
              "        const dataTable =\n",
              "          await google.colab.kernel.invokeFunction('convertToInteractive',\n",
              "                                                    [key], {});\n",
              "        if (!dataTable) return;\n",
              "\n",
              "        const docLinkHtml = 'Like what you see? Visit the ' +\n",
              "          '<a target=\"_blank\" href=https://colab.research.google.com/notebooks/data_table.ipynb>data table notebook</a>'\n",
              "          + ' to learn more about interactive tables.';\n",
              "        element.innerHTML = '';\n",
              "        dataTable['output_type'] = 'display_data';\n",
              "        await google.colab.output.renderOutput(dataTable, element);\n",
              "        const docLink = document.createElement('div');\n",
              "        docLink.innerHTML = docLinkHtml;\n",
              "        element.appendChild(docLink);\n",
              "      }\n",
              "    </script>\n",
              "  </div>\n",
              "\n",
              "\n",
              "<div id=\"df-7f4552f1-5660-4683-8b9e-abcee0f6dfdf\">\n",
              "  <button class=\"colab-df-quickchart\" onclick=\"quickchart('df-7f4552f1-5660-4683-8b9e-abcee0f6dfdf')\"\n",
              "            title=\"Suggest charts\"\n",
              "            style=\"display:none;\">\n",
              "\n",
              "<svg xmlns=\"http://www.w3.org/2000/svg\" height=\"24px\"viewBox=\"0 0 24 24\"\n",
              "     width=\"24px\">\n",
              "    <g>\n",
              "        <path d=\"M19 3H5c-1.1 0-2 .9-2 2v14c0 1.1.9 2 2 2h14c1.1 0 2-.9 2-2V5c0-1.1-.9-2-2-2zM9 17H7v-7h2v7zm4 0h-2V7h2v10zm4 0h-2v-4h2v4z\"/>\n",
              "    </g>\n",
              "</svg>\n",
              "  </button>\n",
              "\n",
              "<style>\n",
              "  .colab-df-quickchart {\n",
              "      --bg-color: #E8F0FE;\n",
              "      --fill-color: #1967D2;\n",
              "      --hover-bg-color: #E2EBFA;\n",
              "      --hover-fill-color: #174EA6;\n",
              "      --disabled-fill-color: #AAA;\n",
              "      --disabled-bg-color: #DDD;\n",
              "  }\n",
              "\n",
              "  [theme=dark] .colab-df-quickchart {\n",
              "      --bg-color: #3B4455;\n",
              "      --fill-color: #D2E3FC;\n",
              "      --hover-bg-color: #434B5C;\n",
              "      --hover-fill-color: #FFFFFF;\n",
              "      --disabled-bg-color: #3B4455;\n",
              "      --disabled-fill-color: #666;\n",
              "  }\n",
              "\n",
              "  .colab-df-quickchart {\n",
              "    background-color: var(--bg-color);\n",
              "    border: none;\n",
              "    border-radius: 50%;\n",
              "    cursor: pointer;\n",
              "    display: none;\n",
              "    fill: var(--fill-color);\n",
              "    height: 32px;\n",
              "    padding: 0;\n",
              "    width: 32px;\n",
              "  }\n",
              "\n",
              "  .colab-df-quickchart:hover {\n",
              "    background-color: var(--hover-bg-color);\n",
              "    box-shadow: 0 1px 2px rgba(60, 64, 67, 0.3), 0 1px 3px 1px rgba(60, 64, 67, 0.15);\n",
              "    fill: var(--button-hover-fill-color);\n",
              "  }\n",
              "\n",
              "  .colab-df-quickchart-complete:disabled,\n",
              "  .colab-df-quickchart-complete:disabled:hover {\n",
              "    background-color: var(--disabled-bg-color);\n",
              "    fill: var(--disabled-fill-color);\n",
              "    box-shadow: none;\n",
              "  }\n",
              "\n",
              "  .colab-df-spinner {\n",
              "    border: 2px solid var(--fill-color);\n",
              "    border-color: transparent;\n",
              "    border-bottom-color: var(--fill-color);\n",
              "    animation:\n",
              "      spin 1s steps(1) infinite;\n",
              "  }\n",
              "\n",
              "  @keyframes spin {\n",
              "    0% {\n",
              "      border-color: transparent;\n",
              "      border-bottom-color: var(--fill-color);\n",
              "      border-left-color: var(--fill-color);\n",
              "    }\n",
              "    20% {\n",
              "      border-color: transparent;\n",
              "      border-left-color: var(--fill-color);\n",
              "      border-top-color: var(--fill-color);\n",
              "    }\n",
              "    30% {\n",
              "      border-color: transparent;\n",
              "      border-left-color: var(--fill-color);\n",
              "      border-top-color: var(--fill-color);\n",
              "      border-right-color: var(--fill-color);\n",
              "    }\n",
              "    40% {\n",
              "      border-color: transparent;\n",
              "      border-right-color: var(--fill-color);\n",
              "      border-top-color: var(--fill-color);\n",
              "    }\n",
              "    60% {\n",
              "      border-color: transparent;\n",
              "      border-right-color: var(--fill-color);\n",
              "    }\n",
              "    80% {\n",
              "      border-color: transparent;\n",
              "      border-right-color: var(--fill-color);\n",
              "      border-bottom-color: var(--fill-color);\n",
              "    }\n",
              "    90% {\n",
              "      border-color: transparent;\n",
              "      border-bottom-color: var(--fill-color);\n",
              "    }\n",
              "  }\n",
              "</style>\n",
              "\n",
              "  <script>\n",
              "    async function quickchart(key) {\n",
              "      const quickchartButtonEl =\n",
              "        document.querySelector('#' + key + ' button');\n",
              "      quickchartButtonEl.disabled = true;  // To prevent multiple clicks.\n",
              "      quickchartButtonEl.classList.add('colab-df-spinner');\n",
              "      try {\n",
              "        const charts = await google.colab.kernel.invokeFunction(\n",
              "            'suggestCharts', [key], {});\n",
              "      } catch (error) {\n",
              "        console.error('Error during call to suggestCharts:', error);\n",
              "      }\n",
              "      quickchartButtonEl.classList.remove('colab-df-spinner');\n",
              "      quickchartButtonEl.classList.add('colab-df-quickchart-complete');\n",
              "    }\n",
              "    (() => {\n",
              "      let quickchartButtonEl =\n",
              "        document.querySelector('#df-7f4552f1-5660-4683-8b9e-abcee0f6dfdf button');\n",
              "      quickchartButtonEl.style.display =\n",
              "        google.colab.kernel.accessAllowed ? 'block' : 'none';\n",
              "    })();\n",
              "  </script>\n",
              "</div>\n",
              "    </div>\n",
              "  </div>\n"
            ]
          },
          "metadata": {},
          "execution_count": 140
        },
        {
          "output_type": "display_data",
          "data": {
            "text/plain": [
              "<google.colab._quickchart_helpers.SectionTitle at 0x7e1821c3dea0>"
            ],
            "text/html": [
              "<h4 class=\"colab-quickchart-section-title\">Distributions</h4>\n",
              "<style>\n",
              "  .colab-quickchart-section-title {\n",
              "      clear: both;\n",
              "  }\n",
              "</style>"
            ]
          },
          "metadata": {}
        },
        {
          "output_type": "display_data",
          "data": {
            "text/plain": [
              "from matplotlib import pyplot as plt\n",
              "_df_0['Count'].plot(kind='hist', bins=20, title='Count')\n",
              "plt.gca().spines[['top', 'right',]].set_visible(False)"
            ],
            "text/html": [
              "      <div class=\"colab-quickchart-chart-with-code\" id=\"chart-0c821963-1b36-4146-9837-623b22adf446\">\n",
              "        <img style=\"width: 180px;\" src=\"data:image/png;base64,iVBORw0KGgoAAAANSUhEUgAAAisAAAG5CAYAAABP6HT9AAAAOXRFWHRTb2Z0d2FyZQBNYXRwbG90\n",
              "bGliIHZlcnNpb24zLjcuMSwgaHR0cHM6Ly9tYXRwbG90bGliLm9yZy/bCgiHAAAACXBIWXMAAA9h\n",
              "AAAPYQGoP6dpAAAi1UlEQVR4nO3de3CU5d2H8e8SNKASUiJIMCwRcqAcckLSCCpiRcVXAwbU0FpF\n",
              "yAGRUkUHZRxUkBJ1lJrq0CRCPcAMlrMZFBxR6KBYA4YghRFIIIQoB6tAIm8IOdzvH4z7uk2CbNgn\n",
              "uQPXZ2Zn2N2bZ397G/Wa3Se7LmOMEQAAgKXatfYAAAAAZ0OsAAAAqxErAADAasQKAACwGrECAACs\n",
              "RqwAAACrESsAAMBqxAoAALAasQIAAKxGrAAAAKsRKwAcs2PHDqWmpio0NFRXXHGFwsPDNW7cOBUW\n",
              "FrbI45eWlsrlcqm4uLhFHg+AM4gVAI7YuHGjEhMTddVVV+nzzz9XZWWlioqKNGLECC1btqy1xwPQ\n",
              "hhArAByRmZmpsWPHKjs7W+Hh4XK5XAoODtaECROUlZUlSXrrrbc0YMAABQUFacCAAXr77bc9f3/j\n",
              "xo1yuVyqra313PbWW28pLCzMc338+PFKTU3VlClTFBISoquuukozZ8703N+/f39JUmxsrK644gpN\n",
              "mjTJ6acNwAHECgC/27t3r/bs2aMHHnigyTUrVqzQ1KlTlZ2drWPHjunVV1/VI488otWrV/v0WKtW\n",
              "rdL111+vo0ePavXq1XrhhRe0YcMGSdLOnTslSdu3b9ePP/6onJycZj8nAK2HWAHgd0ePHpUkr1dB\n",
              "/lteXp4mTpyo3/72twoICNAtt9yiiRMn+hwUQ4cOVWpqqgICAnTdddcpLi5OBQUF5zU/ALsQKwD8\n",
              "rlu3bpKk8vLyJtccPHhQffr08botIiJCZWVlPj1Wjx49vK5ffvnlqqys9OkYAOxGrADwu8jISEVF\n",
              "RWnRokVNrunZs6dKSkq8bispKZHb7ZYkderUSZJ08uRJz/3ffvutT3O0a8d/4oALAf8mA3BEbm6u\n",
              "li1bpmnTpunAgQMyxqiiokLvvPOOnn76aaWlpenvf/+7Nm7cqLq6On3yySdauHChMjIyJElRUVHq\n",
              "1KmTcnNzVV9fr6KiIuXl5fk0Q9euXdWuXTvt3r3biacIoIUQKwAccdNNN+mLL77QN998o8TERHXq\n",
              "1EkxMTFat26dxo4dq3vuuUevvPKKJk+erODgYP3xj39Udna2UlJSJJ15ZeXtt99WXl6egoKCNGPG\n",
              "DE/InKuOHTtq7ty5SktLU3BwsCZPnuzEUwXgMJcxxrT2EAAAAE3hlRUAAGA1YgUAAFiNWAEAAFYj\n",
              "VgAAgNWIFQAAYDViBQAAWI1YAQAAVrsgYiU7O7u1RwAAAA65IGLlwIEDrT0CAABwyAURKwAA4MJF\n",
              "rAAAAKsRKwAAwGrECgAAsBqxAgAArEasAAAAqxErAADAasQKAACwGrECAACsRqwAAACrESsAAMBq\n",
              "xAoAALCao7Fy6623KiYmRnFxcbrhhhu0bdu2RtctXLhQkZGR6tOnj9LT01VTU+PkWAAAoA1xNFaW\n",
              "Ll2qr776SkVFRZo2bZrGjx/fYM3+/fs1c+ZMbdq0ScXFxTpy5Ijy8vKcHAsAALQhjsZKcHCw588n\n",
              "TpyQy+VqsGb58uVKTk5W9+7d5XK5NGnSJC1ZsqTJY1ZXV6uiosLrUldX58T4AADAAu2dfoAHHnhA\n",
              "GzZskCR98MEHDe4vKytTr169PNfDw8NVVlbW5PGysrI0a9Ysr9uSkpL8NC0A24Q/9b4jxy194X8c\n",
              "OS4A/3P8BNt33nlHBw8e1Jw5c/Tkk0+e9/FmzJihEydOeF0SExP9MCkAALBRi/020IMPPqgNGzbo\n",
              "+++/97rd7XbrwIEDnuulpaVyu91NHicwMFBBQUFel4CAAMfmBgAArcuxWDl+/Li+/fZbz/XVq1cr\n",
              "JCREXbp08Vo3ZswY5efn6/DhwzLGKCcnR6mpqU6NBQAA2hjHzlk5ceKE7rnnHlVVValdu3bq2rWr\n",
              "1qxZI5fLpbS0NCUnJys5OVm9e/fWrFmzNHToUEnSTTfdpMzMTKfGAgAAbYzLGGNae4jzNW3aNM2b\n",
              "N6+1xwDgAE6wBcAn2AIAAKsRKwAAwGrECgAAsBqxAgAArEasAAAAqxErAADAasQKAACwGrECAACs\n",
              "RqwAAACrESsAAMBqxAoAALAasQIAAKxGrAAAAKsRKwAAwGrECgAAsBqxAgAArEasAAAAqxErAADA\n",
              "asQKAACwGrECAACsRqwAAACrESsAAMBqxAoAALAasQIAAKxGrAAAAKsRKwAAwGrECgAAsBqxAgAA\n",
              "rEasAAAAqxErAADAasQKAACwGrECAACsRqwAAACrESsAAMBqxAoAALAasQIAAKxGrAAAAKsRKwAA\n",
              "wGrECgAAsBqxAgAArEasAAAAqxErAADAasQKAACwGrECAACsRqwAAACrESsAAMBqxAoAALAasQIA\n",
              "AKxGrAAAAKsRKwAAwGqOxcqpU6c0evRoRUVFKTY2ViNGjFBxcXGDdaWlpQoICFBcXJznUlJS4tRY\n",
              "AACgjWnv5MEzMjI0cuRIuVwuvf7660pLS9PGjRsbrOvUqZOKioqcHAUAALRRjr2y0qFDB91xxx1y\n",
              "uVySpKSkJJWWlp73caurq1VRUeF1qaurO+/jAgAAO7XYOSvZ2dkaNWpUo/edPHlSgwcPVkJCgmbP\n",
              "nn3W+MjKylLnzp29LgUFBU6NDQAAWlmLxMrcuXNVXFysrKysBveFhobqm2++0ZYtW7R+/Xpt2rRJ\n",
              "r7zySpPHmjFjhk6cOOF1SUxMdHJ8AADQihyPlZdfflkrV67U2rVrddlllzW4PzAwUN26dZMkdenS\n",
              "RRMmTNCmTZuaPF5gYKCCgoK8LgEBAY7NDwAAWpejsTJv3jwtWbJEH330kYKDgxtdc/ToUdXU1Eg6\n",
              "cz7KypUrFR8f7+RYAACgDXEsVsrLy/X444/r+PHjGj58uOLi4vSb3/xGkvTMM88oJydHkvTpp58q\n",
              "Pj5esbGxSkhIUPfu3fX00087NRYAAGhjHPvV5bCwMBljGr1v9uzZnj+npKQoJSXFqTEAAEAbxyfY\n",
              "AgAAqxErAADAasQKAACwGrECAACsRqwAAACrESsAAMBqxAoAALAasQIAAKxGrAAAAKsRKwAAwGrE\n",
              "CgAAsBqxAgAArEasAAAAqxErAADAasQKAACwGrECAACsRqwAAACrESsAAMBqxAoAALAasQIAAKxG\n",
              "rAAAAKsRKwAAwGrECgAAsBqxAgAArEasAAAAqxErAADAasQKAACwGrECAACsRqwAAACrESsAAMBq\n",
              "xAoAALAasQIAAKxGrAAAAKsRKwAAwGrECgAAsBqxAgAArEasAAAAqxErAADAasQKAACwGrECAACs\n",
              "RqwAAACrESsAAMBqxAoAALAasQIAAKxGrAAAAKsRKwAAwGrECgAAsBqxAgAArEasAAAAqzkWK6dO\n",
              "ndLo0aMVFRWl2NhYjRgxQsXFxY2uXbNmjfr27avIyEilpKSooqLCqbEAAEAb4+grKxkZGdq9e7e2\n",
              "b9+uUaNGKS0trcGaH3/8URMnTtTq1au1d+9e9ejRQ88//7yTYwEAgDbEsVjp0KGD7rjjDrlcLklS\n",
              "UlKSSktLG6xbu3at4uPj1bdvX0nS5MmTtWTJkiaPW11drYqKCq9LXV2dI88BAAC0vhY7ZyU7O1uj\n",
              "Ro1qcHtZWZl69erluR4eHq5Dhw6ptra20eNkZWWpc+fOXpeCggLH5gYAAK2rRWJl7ty5Ki4uVlZW\n",
              "1nkfa8aMGTpx4oTXJTEx0Q9TAgAAG7V3+gFefvllrVy5UuvXr9dll13W4H63262PPvrIc720tFSh\n",
              "oaFq377x0QIDAxUYGOh1W0BAgH+HBgAA1nD0lZV58+ZpyZIl+uijjxQcHNzomttvv12FhYX6+uuv\n",
              "JUnz589Xamqqk2MBAIA2xLFXVsrLy/X444+rd+/eGj58uKQzr4p88cUXeuaZZ9SjRw9NmjRJnTp1\n",
              "0oIFCzR69GjV1tZqwIABevvtt50aCwAAtDGOxUpYWJiMMY3eN3v2bK/rycnJSk5OdmoUAADQhvEJ\n",
              "tgAAwGrECgAAsBqxAgAArEasAAAAqxErAADAasQKAACwGrECAACsRqwAAACrESsAAMBqxAoAALAa\n",
              "sQIAAKxGrAAAAKsRKwAAwGrECgAAsBqxAgAArEasAAAAqxErAADAasQKAACwGrECAACs5nOsfPjh\n",
              "h07MAQAA0CifY2X27NmKjo5Wdna2KioqnJgJAADAw+dY+eyzz/Tuu+/q3//+t6KiojR58mTt2rXL\n",
              "idkAAACad85KfHy83njjDa1bt05r1qxRTEyMRowYoR07dvh7PgAAcJFrVqysX79eo0aNUkpKih55\n",
              "5BEdPnxYmZmZuvvuu/09HwAAuMi19/Uv/PrXv9aVV16pqVOnKiUlRQEBAZKksWPHauHChX4fEAAA\n",
              "XNx8jpXFixdr0KBBjd63du3a8x4IAADg53x+G+jLL7/UDz/84Ln+/fff64033vDrUAAAAD/xOVbm\n",
              "z5+vLl26eK6HhIRo/vz5fh0KAADgJz7HijGmwW11dXV+GQYAAOC/+RwroaGhWrp0qef6P/7xD4WG\n",
              "hvp1KAAAgJ/4fILtq6++qlGjRmn69OmSpMsuu0zvvfee3wcDAACQmhErffv21a5du7R7925JUnR0\n",
              "tOfXlwEAAPzN51iRJJfLpeDgYNXW1uqbb76RJLndbr8OBgAAIDUjVt566y1NnTpVl1xyidq1O3PK\n",
              "i8vl0tGjR/0+HAAAgM+x8vzzz2vLli2Kjo52Yh4AAAAvPv820JVXXkmoAACAFuNzrIwePVqvvvqq\n",
              "jh49qoqKCs8FAADACT6/DfT0009LkqZNmyaXyyVjjFwuFx8MBwAAHOFzrNTX1zsxBwAAQKN8fhtI\n",
              "OvNlhosWLZIkHT9+XIcOHfLrUAAAAD9p1hcZTpgwQc8995ykM9+6/Lvf/c7fcwEAAEhqRqzk5eXp\n",
              "X//6l4KCgiRJffr00Xfffef3wQAAAKRmxEpgYKA6duzodVv79s36IFwAAIBf5HOsdO3aVXv27JHL\n",
              "5ZJ05hNt+ah9AADglGZ96/K4ceP09ddfq2fPngoKCtKaNWucmA0AAMD3WImIiNAXX3yh3bt3yxjD\n",
              "ty4DAABH+RwrZWVlkqTLL79ckvjWZQAA4CifY2XQoEGeT649deqU/vd//1chISF86zIAAHCEz7Hy\n",
              "37+mvHLlSm3fvt1vAwEAAPxcsz7B9udSUlL0/vvv+2MWAACABnyOlZ9/0/KxY8e0bt26Jr91eerU\n",
              "qQoPD5fL5VJRUVGjazZu3KiOHTsqLi7Oc6mqqvJ1LAAAcIHy+W2g4OBgzzkrAQEBioyM1F//+tdG\n",
              "144dO1bTp0/X9ddff9ZjRkdHNxkzAADg4uboty7feOONvh7+F1VXV6u6utrrtrq6Or8/DgAAsMN5\n",
              "n7PiDyUlJUpISNDgwYM1f/78s67NyspS586dvS4FBQUtNCkAAGhpPsdKu3btFBAQ0ODy0+2+SkhI\n",
              "UHl5uQoLC7Vq1Srl5ORo6dKlTa6fMWOGTpw44XVJTEz0+XEBAEDb4PPbQLNnz1ZVVZUefvhhSVJO\n",
              "To46duyoRx99tFkD/PTtzZIUFhamcePGadOmTbr33nsbXR8YGKjAwECv2/gEXQAALlw+v7KyatUq\n",
              "/fnPf1ZYWJjCwsI0Z84crVy5UpdffrnnU219cejQIc95MJWVlVqzZo3i4+N9Pg4AALgw+RwrlZWV\n",
              "Xp9We/ToUVVWVja6NjMzU2FhYSovL9dtt92miIgISVJaWpry8/MlSStWrNDAgQMVGxurpKQkjRgx\n",
              "Qg899FBzngsAALgA+fw20OOPP67Y2FjdcccdkqR169bpueeea3Rtbm5uo7cvWLDA8+cpU6ZoypQp\n",
              "vo4BAAAuEj7HSmZmpoYOHaoNGzZIkqZNm6b+/fv7fTAAAACpGbEiSSEhIRo4cKBuuukm1dbW6vTp\n",
              "07r00kv9PRsAAIDv56wsX75cSUlJnvNKdu7cqdGjR/t7LgAAAEnNiJWsrCwVFhYqODhYkhQbG6sD\n",
              "Bw74ey4AAABJzYiVgIAAhYSEeN3GW0AAAMApPsdKp06ddOTIEblcLknSxx9/rC5duvh9MAAAAKkZ\n",
              "J9i++OKLGjlypPbt26frr79e+/fv1/vvv+/EbAAAAL7FSn19verq6rRhwwZt3rxZxhgNGTLEc/4K\n",
              "AACAv/kUK+3atVNGRoa2b9+ukSNHOjUTAACAh8/nrERGRqq4uNiJWQAAABrw+ZyVH374QXFxcRoy\n",
              "ZIiuuOIKz+0rV67062AAAACSD7GSkZGhvLw8Pfjgg0pOTtavfvUrJ+cCAACQ5EOsbN26VZL04IMP\n",
              "KiEhQYWFhY4NBQAA8BOfz1mRJGOMv+cAAABo1Dm/slJVVaUdO3bIGKNTp055/vyTmJgYRwYEAAAX\n",
              "N59iJTk52XP95392uVzat2+ffycDAACQD7FSWlrq4BgAAACNa9Y5KwAAAC2FWAEAAFYjVgAAgNWI\n",
              "FQAAYDViBQAAWI1YAQAAViNWAACA1YgVAABgNWIFAABYjVgBAABWI1YAAIDViBUAAGA1YgUAAFiN\n",
              "WAEAAFYjVgAAgNWIFQAAYDViBQAAWI1YAQAAViNWAACA1YgVAABgNWIFAABYjVgBAABWI1YAAIDV\n",
              "iBUAAGA1YgUAAFiNWAEAAFYjVgAAgNWIFQAAYDViBQAAWI1YAQAAViNWAACA1YgVAABgNWIFAABY\n",
              "zdFYmTp1qsLDw+VyuVRUVNTkuoULFyoyMlJ9+vRRenq6ampqnBwLAAC0IY7GytixY/Xpp5+qV69e\n",
              "Ta7Zv3+/Zs6cqU2bNqm4uFhHjhxRXl6ek2MBAIA2xNFYufHGGxUWFnbWNcuXL1dycrK6d+8ul8ul\n",
              "SZMmacmSJU2ur66uVkVFhdelrq7O36MDAABLtG/tAcrKyrxeeQkPD1dZWVmT67OysjRr1iyv25KS\n",
              "khyZLfyp9x05riSVvvA/jh0bbRs/dy2DfcaFxqmfaRt+ntvcCbYzZszQiRMnvC6JiYmtPRYAAHBI\n",
              "q7+y4na7VVJS4rleWloqt9vd5PrAwEAFBgZ63RYQEODYfAAAoHW1+isrY8aMUX5+vg4fPixjjHJy\n",
              "cpSamtraYwEAAEs4GiuZmZkKCwtTeXm5brvtNkVEREiS0tLSlJ+fL0nq3bu3Zs2apaFDhyoiIkJd\n",
              "u3ZVZmamk2MBAIA2xNG3gXJzcxu9fcGCBV7X09PTlZ6e7uQoAACgjWr1t4EAAADOhlgBAABWI1YA\n",
              "AIDViBUAAGA1YgUAAFiNWAEAAFYjVgAAgNWIFQAAYDViBQAAWI1YAQAAViNWAACA1YgVAABgNWIF\n",
              "AABYjVgBAABWI1YAAIDViBUAAGA1YgUAAFiNWAEAAFYjVgAAgNWIFQAAYDViBQAAWI1YAQAAViNW\n",
              "AACA1YgVAABgNWIFAABYjVgBAABWI1YAAIDViBUAAGA1YgUAAFiNWAEAAFYjVgAAgNWIFQAAYDVi\n",
              "BQAAWI1YAQAAViNWAACA1YgVAABgNWIFAABYjVgBAABWI1YAAIDViBUAAGA1YgUAAFiNWAEAAFYj\n",
              "VgAAgNWIFQAAYDViBQAAWI1YAQAAViNWAACA1YgVAABgNWIFAABYzdFY2bt3r4YMGaKoqCgNHjxY\n",
              "O3fubLBm48aN6tixo+Li4jyXqqoqJ8cCAABtSHsnD56ZmamMjAyNHz9ey5cv1/jx47Vly5YG66Kj\n",
              "o1VUVOTkKAAAoI1y7JWVo0ePauvWrbr//vslSWPGjNHBgwdVXFx8Xsetrq5WRUWF16Wurs4fIwMA\n",
              "AAs5FisHDx5UaGio2rc/8+KNy+WS2+1WWVlZg7UlJSVKSEjQ4MGDNX/+/LMeNysrS507d/a6FBQU\n",
              "OPIcAABA62v1E2wTEhJUXl6uwsJCrVq1Sjk5OVq6dGmT62fMmKETJ054XRITE1twYgAA0JIci5We\n",
              "PXvq0KFDqq2tlSQZY1RWVia32+21LigoSJ07d5YkhYWFady4cdq0aVOTxw0MDFRQUJDXJSAgwKmn\n",
              "AQAAWpljsdKtWzclJCRo8eLFkqQVK1YoLCxMERERXusOHTqk+vp6SVJlZaXWrFmj+Ph4p8YCAABt\n",
              "jKNvA+Xm5io3N1dRUVF64YUX9Oabb0qS0tLSlJ+fL+lMxAwcOFCxsbFKSkrSiBEj9NBDDzk5FgAA\n",
              "aEMc/dXl6Ohoff755w1uX7BggefPU6ZM0ZQpU5wcAwAAtGGtfoItAADA2RArAADAasQKAACwGrEC\n",
              "AACsRqwAAACrESsAAMBqxAoAALAasQIAAKxGrAAAAKsRKwAAwGrECgAAsBqxAgAArEasAAAAqxEr\n",
              "AADAasQKAACwGrECAACsRqwAAACrESsAAMBqxAoAALAasQIAAKxGrAAAAKsRKwAAwGrECgAAsBqx\n",
              "AgAArEasAAAAqxErAADAasQKAACwGrECAACsRqwAAACrESsAAMBqxAoAALAasQIAAKxGrAAAAKsR\n",
              "KwAAwGrECgAAsBqxAgAArEasAAAAqxErAADAasQKAACwGrECAACsRqwAAACrESsAAMBqxAoAALAa\n",
              "sQIAAKxGrAAAAKsRKwAAwGrECgAAsBqxAgAArEasAAAAqxErAADAao7Gyt69ezVkyBBFRUVp8ODB\n",
              "2rlzZ6PrFi5cqMjISPXp00fp6emqqalxciwAANCGOBormZmZysjI0J49e/Tkk09q/PjxDdbs379f\n",
              "M2fO1KZNm1RcXKwjR44oLy/PybEAAEAb4lisHD16VFu3btX9998vSRozZowOHjyo4uJir3XLly9X\n",
              "cnKyunfvLpfLpUmTJmnJkiVNHre6uloVFRVel7q6OqeeBgAAaGXtnTrwwYMHFRoaqvbtzzyEy+WS\n",
              "2+1WWVmZIiIiPOvKysrUq1cvz/Xw8HCVlZU1edysrCzNmjXL67a+fftq2rRpfn4GUorfj/j/pk37\n",
              "+BfX1NXVqaCgQImJiQoICHBwmouL7fva2j93zeXUvjq5H07x1z7b/rPaVl2o++rUvyvn+vPcnH3t\n",
              "1auX/vSnP/3iOsdixSkzZsxoECaBgYEKDAxspYmcU1FRoc6dO+vDDz9UUFBQa49zwWBfncG++h97\n",
              "6gz21RlO7qtjsdKzZ08dOnRItbW1at++vYwxKisrk9vt9lrndrtVUlLiuV5aWtpgzc9dqGECAAAa\n",
              "59g5K926dVNCQoIWL14sSVqxYoXCwsK83gKSzpzLkp+fr8OHD8sYo5ycHKWmpjo1FgAAaGMc/W2g\n",
              "3Nxc5ebmKioqSi+88ILefPNNSVJaWpry8/MlSb1799asWbM0dOhQRUREqGvXrsrMzHRyLAAA0IY4\n",
              "es5KdHS0Pv/88wa3L1iwwOt6enq60tPTnRylTQoMDNSzzz7L215+xr46g331P/bUGeyrM5zcV5cx\n",
              "xvj9qAAAAH7Cx+0DAACrESsAAMBqxAoAALAasQIAAKxGrLSCc/k26vr6ej3xxBMaMGCA+vbtq4kT\n",
              "J+r06dOSpB07dujGG29U3759NWDAAE2YMEFVVVUt/TSsc777+nPjx4+Xy+XS8ePHW2Byu/ljX8vK\n",
              "ynTXXXcpOjpa/fr102uvvdaST8FK/tjXF198Uf369VNcXJySkpJUUFDQkk/BOlOnTlV4eLhcLpeK\n",
              "ioqaXLdw4UJFRkaqT58+Sk9PV01NzTndd7E633395JNPlJiYqH79+ql///6aPn266uvrfRvCoMUN\n",
              "Hz7cvPnmm8YYY5YtW2auvfbaBmvy8vLM8OHDTXV1tamvrzdpaWnmpZdeMsYYs2fPHrN9+3ZjjDG1\n",
              "tbXm3nvvNc8++2xLjW+t893Xn6xYscKkpaUZSebYsWMtMLndzndf6+vrTUJCglm6dKln/eHDh1tk\n",
              "dpud775u27bNuN1uU1lZaYwxZtGiRWbw4MEtNr+N/vnPf5qDBw+aXr16mW3btjW6Zt++fSY0NNQc\n",
              "OnTI1NfXm7vuusu8/vrrv3jfxex897WwsNCUlJQYY4ypqqoyQ4cO9fzsnyteWWlh5/pt1Nu3b9ct\n",
              "t9yiSy+9VC6XSyNHjtSiRYskSZGRkYqJiZEkBQQEaPDgwSotLW3R52Ebf+yrJB05ckRz587VvHnz\n",
              "WnR+W/ljXz/++GMFBgbqnnvu8ay/6qqrWu5JWMgf++pyuVRTU6OTJ09Kko4fP66wsLCWfSKWufHG\n",
              "G39xD5YvX67k5GR1795dLpdLkyZN0pIlS37xvovZ+e5rfHy8evfuLUnq0KGD4uLifP5/FrHSws72\n",
              "bdQ/N2jQIOXn56uiokI1NTVaunRpo/9wT548qQULFmjUqFEtMb61/LWv6enpeumll9SpU6eWHN9a\n",
              "/tjXXbt2qWvXrkpNTVV8fLzuvvtu7du3r6WfilX8sa+xsbF67LHHdM011ygsLEx/+ctfeHvtHJSV\n",
              "lalXr16e6+Hh4Z59P9t9OLtz3bvDhw9r+fLluvPOO306PrFiqfHjx+v222/XsGHDNGzYMEVFRXn+\n",
              "w/aT06dP67777tOtt96qu+++u5UmbVvOtq8LFiyQ2+3WzTff3MpTtj1n29fa2lp98sknmjlzprZt\n",
              "26bbbrtN9957bytP3DacbV/379+vlStXqri4WOXl5Xrsscd03333tfLEQNMqKip01113afr06br2\n",
              "2mt9+rvESgv7+bdRS2ry26hdLpeee+45bdu2TZs3b/acmPSTmpoa3XfffQoNDVV2dnaLPgcb+WNf\n",
              "N2zYoPfee0/h4eEKDw+XJMXExGjbtm0t+lxs4o99dbvdio+P91z/wx/+oMLCwov6xEV/7OuKFSs0\n",
              "cOBA9ejRQ5L00EMP6bPPPmv0hHH8P7fbrQMHDniul5aWevb9bPfh7H5p7yorK3X77bdr1KhRmjZt\n",
              "mu8P0NwTbtB8w4YN8zqxbtCgQQ3WVFVVmR9++MEYY8x3331nYmNjTX5+vjHGmJqaGpOSkmImTJhg\n",
              "6uvrW2xu253vvv43cYKtMeb89/XHH38011xzjSkvLzfGGLN06VLTr1+/lhneYue7rytWrDD9+vXz\n",
              "nGD77rvvmqioqJYZ3nJnOxG0pKSkwYmgr7322i/eh+bva2VlpRkyZIiZNWtWsx+bWGkFX3/9tUlK\n",
              "SjKRkZFm0KBB5quvvjLGGDNx4kTz3nvvGWPO/LZE3759Tb9+/Uzfvn3N3/72N8/fX7x4sZFkYmJi\n",
              "TGxsrImNjTWTJ09uledik/Pd1/9GrJzhj3398MMPTWxsrImJiTE33HCD5xgXs/Pd1/r6evPUU0+Z\n",
              "6OhoExMTY6677jqzdevWVnkutsjIyDBXX321CQgIMN26dTN9+vQxxnjvqTFnfsuqd+/epnfv3mbC\n",
              "hAnm9OnT53Tfxep893XOnDmmffv2nv9fxcbGmjlz5vg0A19kCAAArMY5KwAAwGrECgAAsBqxAgAA\n",
              "rEasAAAAqxErAADAasQKAAA4J+f6Dcw/d+zYMf3+979XVFSU+vfvr6eeesrnxyVWAADAORk7dqw+\n",
              "/fRTr+8B+iUTJkxQfHy89uzZo507d+rRRx/1+XGJFQAAcE6a+gbmLVu26Oabb9a1116r+Ph4LVu2\n",
              "TJJUXFysrVu3en3Efvfu3X1+3Pa/vAQAAKBxx48fV0ZGhj744AOFhobqP//5jxISEjRkyBDt2rVL\n",
              "YWFhevjhh7V161aFhIToxRdfVHx8vE+PQawAAIBm27x5s/bt26eRI0d63b57927V1taqoKBAc+fO\n",
              "VW5urtauXas777xTpaWluuSSS875MYgVAADQbMYY9e/fX5s3b25w39atW3X11Vdr+PDhkqSRI0fq\n",
              "9OnTOnDggCIiIs75MThnBQAANNuQIUO0f/9+rV+/3nNbUVGRTp8+rUGDBikoKEhfffWVJKmgoEDG\n",
              "GPXs2dOnx+CLDAEAwDnJzMzU+++/r8OHDyskJESdOnVScXGxCgsL9cQTT+j7779XTU2N3G63Vq9e\n",
              "rQ4dOujLL7/U5MmTVVVVpcDAQL388ssaNmyYT49LrAAAAKvxNhAAALAasQIAAKxGrAAAAKsRKwAA\n",
              "wGrECgAAsBqxAgAArEasAAAAqxErAADAasQKAACwGrECAACs9n9lpL39k+OiGwAAAABJRU5ErkJg\n",
              "gg==\n",
              "\">\n",
              "      </div>\n",
              "      <script type=\"text/javascript\">\n",
              "        (() => {\n",
              "          const chartElement = document.getElementById(\"chart-0c821963-1b36-4146-9837-623b22adf446\");\n",
              "          async function getCodeForChartHandler(event) {\n",
              "            const chartCodeResponse =  await google.colab.kernel.invokeFunction(\n",
              "                'getCodeForChart', [\"chart-0c821963-1b36-4146-9837-623b22adf446\"], {});\n",
              "            const responseJson = chartCodeResponse.data['application/json'];\n",
              "            await google.colab.notebook.addCell(responseJson.code, 'code');\n",
              "          }\n",
              "          chartElement.onclick = getCodeForChartHandler;\n",
              "        })();\n",
              "      </script>\n",
              "      <style>\n",
              "        .colab-quickchart-chart-with-code  {\n",
              "            display: block;\n",
              "            float: left;\n",
              "            border: 1px solid transparent;\n",
              "        }\n",
              "\n",
              "        .colab-quickchart-chart-with-code:hover {\n",
              "            cursor: pointer;\n",
              "            border: 1px solid #aaa;\n",
              "        }\n",
              "      </style>"
            ]
          },
          "metadata": {}
        },
        {
          "output_type": "display_data",
          "data": {
            "text/plain": [
              "<google.colab._quickchart_helpers.SectionTitle at 0x7e1821c3c220>"
            ],
            "text/html": [
              "<h4 class=\"colab-quickchart-section-title\">Categorical distributions</h4>\n",
              "<style>\n",
              "  .colab-quickchart-section-title {\n",
              "      clear: both;\n",
              "  }\n",
              "</style>"
            ]
          },
          "metadata": {}
        },
        {
          "output_type": "display_data",
          "data": {
            "text/plain": [
              "from matplotlib import pyplot as plt\n",
              "import seaborn as sns\n",
              "_df_1.groupby('Day_of_Week').size().plot(kind='barh', color=sns.palettes.mpl_palette('Dark2'))\n",
              "plt.gca().spines[['top', 'right',]].set_visible(False)"
            ],
            "text/html": [
              "      <div class=\"colab-quickchart-chart-with-code\" id=\"chart-ef63d4f6-4781-4191-b048-1ce165c90912\">\n",
              "        <img style=\"width: 180px;\" src=\"data:image/png;base64,iVBORw0KGgoAAAANSUhEUgAAAjIAAAGZCAYAAACT/9vpAAAAOXRFWHRTb2Z0d2FyZQBNYXRwbG90\n",
              "bGliIHZlcnNpb24zLjcuMSwgaHR0cHM6Ly9tYXRwbG90bGliLm9yZy/bCgiHAAAACXBIWXMAAA9h\n",
              "AAAPYQGoP6dpAAAgo0lEQVR4nO3de3BU9f3/8deyweWiCYgiKZWkhEskEFZMINwJKRIRCigKMmhQ\n",
              "LqG2Fi9oh6lFuYwpWEHFVoOIlMHbCBTxfiNBsMg14VrQxAQEAvitmIDCksv5/eGYX7ckkCy7e/az\n",
              "PB8zZ4Y9e3b3nTOO+5yzZ/c4LMuyBAAAYKAGdg8AAADgK0IGAAAYi5ABAADGImQAAICxCBkAAGAs\n",
              "QgYAABiLkAEAAMYiZAAAgLEIGQAAYKywD5lnnnnG7hEAAECAhH3IHDhwwO4RAABAgIR9yAAAgPBF\n",
              "yAAAAGMRMgAAwFiEDAAAMBYhAwAAjEXIAAAAYxEyAADAWIQMAAAwFiEDAACMRcgAAABjETIAAMBY\n",
              "DsuyLLuHCKTLByer2Zg0u8cAACDsHLr7L3aPwBEZAABgLkIGAAAYi5ABAADGImQAAICxCBkAAGAs\n",
              "QgYAABiLkAEAAMYiZAAAgLECGjIzZ87UxIkTq29v2LBBDodDubm51eumTJmiP//5z3V+zlGjRmnp\n",
              "0qV+nBIAAJgqoCGTmprqFS05OTnq0aPHOesGDhwYyDEAAECYCmjIpKSk6MiRIzp06JAkKTc3VzNm\n",
              "zKgOmZKSEh08eFBJSUmaNGmSunfvrsTERE2ePFlnz56VJO3bt0+9evVSQkKCRowYobKyskCODAAA\n",
              "DBLQkLnsssvUq1cv5eTkyOPxqKioSEOGDNGhQ4d05swZ5eTkqGfPnnrooYfUt29fbd68WTt27FBV\n",
              "VZWeeeYZSdKdd96pCRMmaM+ePZo9e7bWrVtX6+t5PB6VlZV5LaoM60tJAQBwSYsI9Av8/PFSTEyM\n",
              "unfvLumnIzUbN25Ubm6uUlNTtXDhQm3cuFHz58+XJJ0+fVpOp1NlZWXKz8/X+PHjJUldunRRnz59\n",
              "an2trKwszZw502tdw7a/CMwfBgAAbBfwby2lpqYqJydHOTk5GjBggCSpf//+1esGDhwoy7K0cuVK\n",
              "5efnKz8/X/v371d2dnaNz+dwOGp9renTp6u0tNRruexX0YH4swAAQAgIeMgkJyfr+PHjeuWVV7xC\n",
              "5vXXX1dJSYm6d++uESNGaO7cuaqoqJAknThxQgUFBYqMjNT111+vZcuWSZL27NmjDRs21PpaLpdL\n",
              "kZGRXouctYcPAAAwW8BDpmHDhurTp49Onjyp+Ph4SVKHDh108uRJ9enTRw0bNtSCBQvUuHFjud1u\n",
              "JSYmKi0tTcXFxZKkZcuWadGiRercubMeffRR9evXL9AjAwAAQzgsywrrs2EvH5ysZmPS7B4DAICw\n",
              "c+juv9g9Ar/sCwAAzEXIAAAAYxEyAADAWIQMAAAwFiEDAACMRcgAAABjETIAAMBYhAwAADBWwC8a\n",
              "abfJCX01PwR+sAcAAPgfR2QAAICxCBkAAGAsQgYAABiLkAEAAMYiZAAAgLEIGQAAYCxCBgAAGIuQ\n",
              "AQAAxiJkAACAsQgZAABgLEIGAAAYi5ABAADGImQAAICxCBkAAGAsQgYAABiLkAEAAMYiZAAAgLEI\n",
              "GQAAYCxCBgAAGIuQAQAAxiJkAACAsQgZAABgLEIGAAAYi5ABAADGImQAAICxCBkAAGCsCLsHCLQf\n",
              "vlygkhXP2D0GAABhJ3pUpd0jcEQGAACYi5ABAADGImQAAICxCBkAAGAsQgYAABiLkAEAAMYiZAAA\n",
              "gLEIGQAAYKyg/yCe2+2WJJ09e1b79+9Xly5dJEkdO3bUG2+8EexxAACAwYIeMvn5+ZKk4uJiud3u\n",
              "6tsAAAD1FTIfLTkcDn3//ffVt6+66ioVFxdLkr766ivdfPPNSk5OVmJiop577jl7hgQAACEl5K+1\n",
              "VFlZqTvuuEPLly9XfHy8fvzxR6WkpKhHjx5KTk722tbj8cjj8Xg/viqY0wIAgGAKmSMytdm/f7/2\n",
              "7NmjMWPGyO12q1evXjp58qT27t17zrZZWVmKioryWvIKbBgaAAAERcgckXE6naqs/P9X0Txz5owk\n",
              "ybIsXXnllXU6l2b69Ol68MEHvdY9OCbKr3MCAIDQETJHZNq1a6dNmzZJklatWqUffvhB0k/fZoqM\n",
              "jNTLL79cvW1BQYG+++67c57D5XIpMjLSa3GGzF8IAAD8LWTe5hcsWKCpU6eqW7duysvLU4sWLSRJ\n",
              "EREReuedd7Rq1SolJiYqISFBEyZM0OnTp22eGAAA2M1hWZZl9xCBlDnUocfHh0yvAQAQNqJHVV54\n",
              "owDjHR4AABiLkAEAAMYiZAAAgLEIGQAAYCxCBgAAGIuQAQAAxiJkAACAsQgZAABgrJC51lKgNO3w\n",
              "gKJHzbd7DAAAEAAckQEAAMYiZAAAgLEIGQAAYCxCBgAAGIuQAQAAxiJkAACAsQgZAABgLEIGAAAY\n",
              "i5ABAADGImQAAICxCBkAAGAsQgYAABiLkAEAAMYiZAAAgLEIGQAAYCxCBgAAGIuQAQAAxiJkAACA\n",
              "sQgZAABgLEIGAAAYi5ABAADGImQAAICxCBkAAGAsQgYAABiLkAEAAMZyWJZl2T1EICUOiVTPO5vb\n",
              "PQYAAGEn+44Ddo/AERkAAGAuQgYAABiLkAEAAMYiZAAAgLEIGQAAYCxCBgAAGIuQAQAAxiJkAACA\n",
              "sQgZAABgrKCFjNvtltvtVqdOneR0Oqtvjx49Wrm5uXK73cEaBQAAhImIYL1Qfn6+JKm4uFhut7v6\n",
              "tiTl5uYGawwAABBGQuajpYqKCt17773q2rWrEhIStHXrVkk/hU+zZs2qtzt16pQcDodNUwIAgFAS\n",
              "MiGzb98+ZWRkaMeOHbrvvvv0pz/9qd7P4fF4VFZW5rVUVYX1NTEBALikhUzItGvXTj169JAk9ezZ\n",
              "U4WFhfV+jqysLEVFRXkt3xae9feoAAAgRIRMyDRq1Kj6306nUxUVFZKkiIgIVVZWVt935syZWp9j\n",
              "+vTpKi0t9VqujrsscEMDAABbBe1kX1+1atVKlmVp79696tSpk5YtW1brti6XSy6Xy2tdgwacTwMA\n",
              "QLgKmSMytYmIiNDChQs1dOhQJScnq7y83O6RAABAiHBYlhXWZ8MmDolUzzub2z0GAABhJ/uOA3aP\n",
              "EPpHZAAAAGpDyAAAAGMRMgAAwFiEDAAAMBYhAwAAjEXIAAAAYxEyAADAWIQMAAAwVshfouBi/Tp+\n",
              "oubfMd/uMQAAQABwRAYAABiLkAEAAMYiZAAAgLEIGQAAYCyfQuY///nPOeu+/PLLix4GAACgPnwK\n",
              "mREjRsjj8VTfLi4u1rBhw/w2FAAAQF34FDK33367xo4dK0kqKSnRkCFDtGDBAr8OBgAAcCE+/Y7M\n",
              "fffdp+LiYmVmZmrTpk2aPXu2hgwZ4u/ZAAAAzqteR2R27txZvYwbN07bt2/XoEGD1L59e+3cuTNQ\n",
              "MwIAANSoXkdkhg8ffs66FStWaMWKFXI4HPr666/9NhgAAMCF1CtkioqKAjUHAABAvfn8OzIrV67U\n",
              "E088IUk6cuSIdu3a5behAAAA6sKnkJkxY4YWL16spUuXSpIcDocyMzP9ORcAAMAF+RQyb731lt55\n",
              "5x01bdpUkhQdHa1Tp075dTAAAIAL8SlkGjduLKfT6bXOsiy/DAQAAFBXPv2OTExMjNavXy+Hw6Hy\n",
              "8nI98cQTcrvdfh4NAADg/HwKmWeffVYZGRnatWuXmjZtqtTUVL3yyiv+ng0AAOC8fAqZa665Rh98\n",
              "8IF+/PFHWZZVfa4MAABAMPl0jkxFRYWeeuopTZs2TU2bNlVhYaHWrl3r79kAAADOy6cjMr///e9V\n",
              "WVmpDRs2SJJatGih0aNHa+vWrX4dDgAA4Hx8CpkvvvhC+fn5uv766yVJzZo1U3l5uV8HAwAAuBCf\n",
              "Plpq1KiR1+3KykpVVVX5ZSAAAIC68ilkEhMTtXz5clVVVamgoEBTpkzRgAED/DwaAADA+fkUMvPn\n",
              "z9f69et19OhR9e7dWw0aNNDcuXP9PRsAAMB51escmccee0wDBw5Uz549lZ2drezs7EDNBQAAcEH1\n",
              "Cpnjx48rMzNT33zzjXr27KnU1FSlpaUpOTn5nEsWhIof/rFVRz940u4xAAAIO632Pmz3CPX7aOn5\n",
              "55/Xvn37VFBQoAkTJujgwYO666671Lx5c918882BmhEAAKBGPn39Ojo6Wrfeequio6PVqlUrvfba\n",
              "a8rPz/fzaAAAAOdXr5D57LPPlJubq5ycHB0+fFgpKSnq16+f3n33XbVv3z5QMwIAANSoXiEzYMAA\n",
              "paSkaMaMGUpPTw/UTAAAAHVSr3NkPvvsMw0ZMkR//etf1a5dO40dO1aLFi3Sl19+Gaj5AAAAauWw\n",
              "LMvy5YFnz57Vpk2blJOTo1dffVWnTp3SoUOH/D3fRcts0U8zrxlm9xgAAISdUPjWkk8n+x45ckQ5\n",
              "OTnKzc3V2rVrdfz4cfXp08ffswEAAJxXvUJm0qRJWrdunY4cOVL9OzLLly9XcnKyIiJ8aiIAAACf\n",
              "1as+rr32Wr300ktKSUlRw4YNa93O4/HI5XJd9HAAAADnU6+TfWfMmKG+ffueN2IkqWfPnjWuX7Vq\n",
              "lW644Qa53W7Fx8dr4MCBXDUbAAD4LCCfB9V0/nBJSYkmT56sbdu2KSYmRpK0fft2ORyOQIwAAAAu\n",
              "AT5d/fpCaoqTY8eOyel06sorr6xe161bNzkcDsXGxnr9MnBSUpJyc3Ml/fTbNdOmTVPfvn0VFxen\n",
              "KVOm1Pq6Ho9HZWVlXkulxREfAADCVUBCpiaJiYnq06ePYmJiNHLkSD355JM6fPhwnR5bWFionJwc\n",
              "7d69Wx9++KE2btxY43ZZWVmKioryWvJPf+PPPwMAAISQgIRMTR8tNWjQQCtXrtS//vUvpaen6/PP\n",
              "P1dCQoIKCgou+HyjR49WRESEGjduLLfbrcLCwhq3mz59ukpLS70Wd+NrL/rvAQAAoaleIZOVlSVJ\n",
              "Wrt27Xm3S0lJqfW++Ph4ZWZmavXq1UpJSdGaNWsUERGhysrK6m3OnDnj9ZhGjRpV/9vpdKqioqLG\n",
              "53a5XIqMjPRanI6gHXQCAABBVq93+TfffFOSNG3atPNu9/zzz5+z7vDhw/r888+rb584cUJFRUWK\n",
              "i4tTu3bttGnTJknS5s2btX///vqMBQAALlH1+tZSkyZNdNNNN6moqEi33HLLOfevWrWq1sdWVFRo\n",
              "1qxZKioqUpMmTVRRUaGMjAwNHz5crVu3VkZGhrKzs9WzZ08lJCTU/y8BAACXnHqFzNtvv62PPvpI\n",
              "e/fu1fDhw+v1QjExMfrwww9rvC8pKUl79uyp8b6fv730sxUrVtTrdQEAQPiqV8g0b95co0eP1lVX\n",
              "XaW0tLRAzQQAAFAnPv0gXv/+/fXkk0/q448/liQNHjxYU6dO5XpLAAAgqHwqj4ceekgFBQW69957\n",
              "5XA4tHjxYh04cEDPPvusv+cDAAColU8hk5OTo/z8fDVo8NOXnm6++WZ169bNr4MBAABciE8/smJZ\n",
              "ltfFHi3LqvFH8AAAAALJpyMy6enpuvHGGzV+/HhJ0rJly3TTTTf5cy4AAIAL8ilk5s6dq0WLFmnN\n",
              "mjWSpFGjRmny5Ml+HQwAAOBCHFYAPhP64x//qLlz5/r7aX2S2aKfZl4zzO4xAAAIO632Pmz3CL4d\n",
              "kbmQjz/+OGRCpmlGklrNt39HAwAA/wva1a8BAAD8LSAh43A4AvG0AAAAXgISMgAAAMHAR0sAAMBY\n",
              "PoVMdna2fvzxx1rv/+ijj3weCAAAoK58CpnPPvtMbdu21QMPPKCCgoJz7r/66qsvejAAAIAL8Slk\n",
              "XnnlFe3YsUMtWrRQWlqabrrpJr333nv+ng0AAOC8fD5H5pprrtGjjz6qf/zjH9qzZ4/GjRun+Ph4\n",
              "ffrpp/6cDwAAoFY+/SDemTNntHz5cv3tb39TkyZN9OSTT2rUqFHKy8vTqFGjVFxc7OcxAQAAzuVT\n",
              "yMTGxmrQoEFatGiRkpOTq9cnJSVp0KBBfhsOAADgfHwKmby8PEVHR9d434svvnhRAwEAANSVTyET\n",
              "HR2tI0eOaPfu3Tpz5kz1+t/85jd+GwwAAOBCfAqZJUuWaNasWfruu+/Uvn177dixQykpKYQMAAAI\n",
              "Kp++tbRgwQLl5eUpLi5O27Zt09q1a9WhQwd/zwYAAHBePoXMZZddpubNm6uiokKS1K9fP+Xn5/tz\n",
              "LgAAgAvy6aMll8sly7LUoUMHPf3004qJidGpU6f8PRsAAMB5+RQyc+bMUVlZmebNm6cpU6bo+++/\n",
              "19///nd/zwYAAHBe9Q6ZLVu26IUXXtDevXslSZ07d9YTTzzh9XsyAAAAwVCvc2Q2btyoG2+8UXFx\n",
              "cZozZ45mz56ttm3bavDgwdq0aVOgZgQAAKhRvY7IzJs3T0uWLNHIkSOr140cOVI9evRQVlaWVq9e\n",
              "7e/5AAAAalWvIzJ79uzxipifDR8+vPqjJgAAgGCpV8g0adKk1vuaNm160cMAAADUR70+WvJ4PNq1\n",
              "a5csyzrnvv++VAEAAEAw1CtkTp8+XetlCBwOh18GAgAAqKt6hUxxcXGAxgAAAKg/h1XT50RhJKnb\n",
              "CA3sP9HuMQAACDvzFgy1ewTfrrUEAAAQCggZAABgLEIGAAAYi5ABAADGImQAAICxCBkAAGAsQgYA\n",
              "ABiLkAEAAMYiZAAAgLFsC5lVq1bphhtukNvtVnx8vAYOHKiqqqrzPubxxx/n4pQAAKBava615C8l\n",
              "JSWaPHmytm3bppiYGEnS9u3bL3jhyZkzZ+r+++9Xo0aNgjEmAAAIcbaEzLFjx+R0OnXllVdWr+vW\n",
              "rZskadq0aVq3bp3Ky8sVGRmpF198UR07dtSUKVMkSX379pXT6dRHH32kli1bej2vx+ORx+PxWmdd\n",
              "4CgPAAAwly0XjayqqtJtt92mnJwc9e/fX7169dLYsWPVunVrffvtt7r66qslSa+//rqWLl2qDz74\n",
              "4KdhHQ6dOHFCzZo1q/F5H3/8cc2cOdNrXXSrjho35q8B/XsAALgUhcJFI229+vW+ffu0bt06vf/+\n",
              "+8rNzdXWrVu1efNmLVy4UCdPnlRVVZW+++47HT169KdhLxAyNR2RSe03TmmpkwP9pwAAcMkJhZCx\n",
              "5aOln8XHxys+Pl6ZmZlKT0/Xq6++qqefflpbtmxRXFycdu7cqX79+tX5+Vwul1wul9c6RwO+mAUA\n",
              "QLiy5V3+8OHD+vzzz6tvnzhxQkVFRYqKilLDhg0VHR0ty7L03HPPeT3uiiuuUGlpabDHBQAAIcqW\n",
              "IzIVFRWaNWuWioqK1KRJE1VUVCgjI0NTp07V119/rYSEBLVo0UIjRozwetxDDz2kQYMGqUmTJjWe\n",
              "7AsAAC4ttp4jEwxJ3UZoYP+Jdo8BAEDYCYVzZDiBBAAAGIuQAQAAxiJkAACAsQgZAABgLEIGAAAY\n",
              "i5ABAADGImQAAICxbL1EQTD0G9BW8+bb/z13AADgfxyRAQAAxiJkAACAsQgZAABgLEIGAAAYi5AB\n",
              "AADGImQAAICxCBkAAGAsQgYAABiLkAEAAMYiZAAAgLEIGQAAYCxCBgAAGIuQAQAAxiJkAACAsQgZ\n",
              "AABgLEIGAAAYi5ABAADGImQAAICxCBkAAGAsQgYAABiLkAEAAMYiZAAAgLEIGQAAYCxCBgAAGIuQ\n",
              "AQAAxiJkAACAsRyWZVl2DxFIdyc4ND2ZXgMAwN86LK20ewSOyAAAAHMRMgAAwFiEDAAAMBYhAwAA\n",
              "jEXIAAAAYxEyAADAWIQMAAAwFiEDAACMFfCQiY2NVcuWLVVeXl69LicnRw6HQ/fff3+gXx4AAISx\n",
              "oByRadOmjdasWVN9+6WXXlJSUlIwXhoAAISxoITM3XffrSVLlkiSSktL9cUXXyg9PV2SVFlZqYcf\n",
              "flidO3dW586ddd999+ns2bOSpPHjxyszM1NpaWnq0KGDbrnllur7AAAAghIyvXv3VnFxsY4cOaLX\n",
              "XntNt912m5xOpyRp0aJF2rJli7Zt26b8/HwVFhZqwYIF1Y/Nz8/X22+/rX//+986duyYVq5cWevr\n",
              "eDwelZWVeS2VVQH/8wAAgE2CdrLvnXfeqaVLl2rJkiW65557qtd/8sknGj9+vFwulyIiIjRp0iR9\n",
              "/PHH1fePHDlSTZo0kdPpVPfu3VVYWFjra2RlZSkqKspr2fl/Af2zAACAjYIWMnfddZeeffZZNWrU\n",
              "SO3bt691O4fD4XW7UaNG1f92Op2qqKio9bHTp09XaWmp15J41cXPDgAAQlNEsF7oF7/4hbKyshQf\n",
              "H++1/te//rWWLVumsWPHqkGDBlq8eLFuvPFGn17D5XLJ5XJ5rXPyBXMAAMJW0EJG+umk3/81efJk\n",
              "FRYWqlu3bpKkAQMG8LVsAABQJw7Lsiy7hwikuxMcmp7MYRkAAPytw9JKu0fgl30BAIC5CBkAAGAs\n",
              "QgYAABiLkAEAAMYiZAAAgLEIGQAAYCxCBgAAGIuQAQAAxgrqL/vaofngB9Rh/ny7xwAAAAHAERkA\n",
              "AGAsQgYAABiLkAEAAMYiZAAAgLEIGQAAYCxCBgAAGIuQAQAAxiJkAACAsQgZAABgLEIGAAAYi5AB\n",
              "AADGImQAAICxCBkAAGAsQgYAABiLkAEAAMYiZAAAgLEIGQAAYCxCBgAAGIuQAQAAxiJkAACAsQgZ\n",
              "AABgLEIGAAAYi5ABAADGImQAAICxCBkAAGAsQgYAABjLYVmWZfcQgXT54GQ1G5Nm9xgAAISdQ3f/\n",
              "xe4ROCIDAADMRcgAAABjETIAAMBYhAwAADAWIQMAAIxFyAAAAGMRMgAAwFiEDAAAMFbIhExsbKw6\n",
              "duwot9stt9utiRMnnrPNxIkTlZOTY8N0AAAgFEXYPcB/e+ONN+R2u2u8r7KyUosXLw7uQAAAIKSF\n",
              "zBGZ/7V06VKlpqbq1ltvVZcuXbR582YNGDBAq1evtns0AAAQIkLqiMzo0aPVuHFjSVJGRoY2bdqk\n",
              "vLw8dezYsU6P93g88ng83isrw/pSUgAAXNJC6ojMG2+8ofz8fOXn56t58+bq1atXnSNGkrKyshQV\n",
              "FeW1nC0qCeDEAADATiEVMv/r8ssvr9f206dPV2lpqddy2a+iAzQdAACwW0h9tHSxXC6XXC6X90qn\n",
              "w55hAABAwIX0ERkAAIDzcViWFdZnw14+OFnNxqTZPQYAAGHn0N1/sXsEjsgAAABzETIAAMBYhAwA\n",
              "ADAWIQMAAIxFyAAAAGMRMgAAwFiEDAAAMBYhAwAAjBVWlyioyeSEvpofAj/YAwAA/I8jMgAAwFiE\n",
              "DAAAMBYhAwAAjEXIAAAAYxEyAADAWIQMAAAwFiEDAACMRcgAAABjETIAAMBYhAwAADAWIQMAAIxF\n",
              "yAAAAGOF9UUjPR6P3n//fVVWVsrpdNo9ziWlsrJSmzdvVvfu3dn3QcR+tw/73h7sd/sEet/HxMRo\n",
              "6tSpF9zOYVmW5fdXDxFlZWWKiopSaWmpIiMj7R7nksK+twf73T7se3uw3+0TKvuej5YAAICxCBkA\n",
              "AGAsQgYAABgrrEPG5XLpsccek8vlsnuUSw773h7sd/uw7+3BfrdPqOz7sD7ZFwAAhLewPiIDAADC\n",
              "GyEDAACMRcgAAABjhUXIfPXVV+rVq5c6dOig5ORk7dmzp8btXnrpJbVv315xcXGaNGmSysvLgzxp\n",
              "+KnLvl+7dq26d++uTp06KSEhQY888oiqqqpsmDZ81PW/eUmyLEsDBw5Us2bNgjdgGKvrvt+1a5cG\n",
              "DBig6667Ttddd51WrVoV5EnDS132e1VVlR588EF16tRJiYmJSk1NVUFBgQ3Tho8//OEPio2NlcPh\n",
              "UH5+fq3b2fr+aoWB1NRU6+WXX7Ysy7LefPNNKykp6Zxtvv76ays6OtoqKSmxqqqqrGHDhlnPPfdc\n",
              "kCcNP3XZ99u3b7cKCwsty7Ks06dPW717965+DHxTl/3+s6eeesqaOHGiFRUVFZzhwlxd9v0PP/xg\n",
              "/epXv7LWr19vWZZlVVRUWMePHw/mmGGnLvv9n//8p9W9e3fr7NmzlmVZ1uzZs63bbrstmGOGnXXr\n",
              "1lnffPONFRMTY+Xl5dW4jd3vr8aHzLFjx6wrrrjCKi8vtyzLsqqqqqxrrrnG+uqrr7y2mzdvnpWZ\n",
              "mVl9+91337V69+4d1FnDTV33/f/63e9+Zz322GNBmDA81We/79692+rbt69VUFBAyPhBXff9iy++\n",
              "aN1xxx12jBiW6rrfV69ebXXt2tUqKyuzqqqqrIcffth64IEH7Bg57JwvZOx+fzX+o6VvvvlG0dHR\n",
              "ioj46fqXDodDbdq00cGDB722O3jwoGJiYqpvx8bGnrMN6qeu+/6/HT16VCtWrNDQoUODNWbYqet+\n",
              "Ly8v16RJk5Sdnc3F9Pykrvt+7969crlcGjp0qNxut+666y59++23dowcFuq634cNG6YBAwaoVatW\n",
              "io6O1qeffqpZs2bZMfIlxe73V+NDBuYoKyvTsGHD9MgjjygpKcnuccLezJkzdcstt+i6666ze5RL\n",
              "TkVFhT755BNlZ2crLy9PrVu31m9/+1u7xwp7W7du1e7du3X48GEdOXJEaWlpmjJlit1jIcCMD5lr\n",
              "r71WJSUlqqiokPTTiY0HDx5UmzZtvLZr06aNDhw4UH27uLj4nG1QP3Xd95J08uRJpaena/jw4Xrw\n",
              "wQeDPWpYqet+X7dunRYuXKjY2Fj16dNHZWVlio2N5cjARajP/29SU1PVunVrORwOjRs3Tl988YUd\n",
              "I4eFuu73ZcuWVZ/Y3qBBA2VkZCgnJ8eOkS8pdr+/Gh8yLVu2VLdu3bR8+XJJ0sqVK/XLX/5S7dq1\n",
              "89ru1ltv1Zo1a3T06FFZlqUXXnhBY8aMsWPksFHXfX/q1Cmlp6crPT1djz76qB2jhpW67vf169fr\n",
              "wIEDKi4u1oYNGxQZGani4mJdffXVdowdFuq672+//XZt2bJFZWVlkqT33ntPXbt2Dfq84aKu+71t\n",
              "27Zau3atzp49K0l655131Llz56DPe6mx/f01aGfjBNC+ffuslJQUq3379tYNN9xg7dy507Isy5ow\n",
              "YYL11ltvVW+3aNEiq23btlbbtm2te+65p/rMdviuLvt+zpw5VkREhNW1a9fqZc6cOXaObby6/jf/\n",
              "s6KiIk729ZO67vtly5ZZCQkJVpcuXaz09HTr4MGDdo0cFuqy38+cOWNNnDjRio+Pt7p06WINGjSo\n",
              "+huT8M3kyZOt1q1bW06n02rZsqUVFxdnWVZovb9yrSUAAGAs4z9aAgAAly5CBgAAGIuQAQAAxiJk\n",
              "AACAsQgZAABgLEIGAAAYi5ABAADGImQAAICxCBkAAGAsQgYAABiLkAEAAMb6f0ALfWqnZoeXAAAA\n",
              "AElFTkSuQmCC\n",
              "\">\n",
              "      </div>\n",
              "      <script type=\"text/javascript\">\n",
              "        (() => {\n",
              "          const chartElement = document.getElementById(\"chart-ef63d4f6-4781-4191-b048-1ce165c90912\");\n",
              "          async function getCodeForChartHandler(event) {\n",
              "            const chartCodeResponse =  await google.colab.kernel.invokeFunction(\n",
              "                'getCodeForChart', [\"chart-ef63d4f6-4781-4191-b048-1ce165c90912\"], {});\n",
              "            const responseJson = chartCodeResponse.data['application/json'];\n",
              "            await google.colab.notebook.addCell(responseJson.code, 'code');\n",
              "          }\n",
              "          chartElement.onclick = getCodeForChartHandler;\n",
              "        })();\n",
              "      </script>\n",
              "      <style>\n",
              "        .colab-quickchart-chart-with-code  {\n",
              "            display: block;\n",
              "            float: left;\n",
              "            border: 1px solid transparent;\n",
              "        }\n",
              "\n",
              "        .colab-quickchart-chart-with-code:hover {\n",
              "            cursor: pointer;\n",
              "            border: 1px solid #aaa;\n",
              "        }\n",
              "      </style>"
            ]
          },
          "metadata": {}
        },
        {
          "output_type": "display_data",
          "data": {
            "text/plain": [
              "<google.colab._quickchart_helpers.SectionTitle at 0x7e1821c3d960>"
            ],
            "text/html": [
              "<h4 class=\"colab-quickchart-section-title\">Values</h4>\n",
              "<style>\n",
              "  .colab-quickchart-section-title {\n",
              "      clear: both;\n",
              "  }\n",
              "</style>"
            ]
          },
          "metadata": {}
        },
        {
          "output_type": "display_data",
          "data": {
            "text/plain": [
              "from matplotlib import pyplot as plt\n",
              "_df_2['Count'].plot(kind='line', figsize=(8, 4), title='Count')\n",
              "plt.gca().spines[['top', 'right']].set_visible(False)"
            ],
            "text/html": [
              "      <div class=\"colab-quickchart-chart-with-code\" id=\"chart-e727c2b0-d0b8-4929-9cbc-0db80bf8216f\">\n",
              "        <img style=\"width: 180px;\" src=\"data:image/png;base64,iVBORw0KGgoAAAANSUhEUgAAAqIAAAFuCAYAAABaw3qhAAAAOXRFWHRTb2Z0d2FyZQBNYXRwbG90\n",
              "bGliIHZlcnNpb24zLjcuMSwgaHR0cHM6Ly9tYXRwbG90bGliLm9yZy/bCgiHAAAACXBIWXMAAA9h\n",
              "AAAPYQGoP6dpAABDJ0lEQVR4nO3df3zNdf/H8cc5Z79Y25gxY2aYJWbGWC4q/VCR6CqEqy6tiH5S\n",
              "KtX3qqu6ui7qukrpJ0qELhKS6PevK6WamW1+xthsmM3Mfpj9POfz/WNarSjjbJ9ztuf9djs3OZ/P\n",
              "Oef5OcjT55zP+2UxDMNARERERKSBWc0OICIiIiJNk4qoiIiIiJhCRVRERERETKEiKiIiIiKmUBEV\n",
              "EREREVOoiIqIiIiIKVRERURERMQUKqIiIiIiYgoVURERERExhYqoiIiIiJhCRVRE5Cxs2bKFsWPH\n",
              "EhISwjnnnEN4eDjjxo0jKSmpQV4/IyMDi8VCWlpag7yeiIgzqYiKiJyhr776iri4OIKDg/nuu+8o\n",
              "Li4mOTmZyy+/nHfeecfseCIiLk9FVETkDE2ePJlRo0Yxe/ZswsPDsVgstGjRgltuuYWZM2cCsHDh\n",
              "QqKiovD39ycqKoo333yz5vFfffUVFouFqqqqmvsWLlxIaGhozc/j4+MZO3Ysd911F61atSI4OJhH\n",
              "H320ZnuPHj0A6NWrF+eccw633XZbfR+2iIjTqIiKiJyB3bt3s2vXLsaPH3/KfVauXMmUKVOYPXs2\n",
              "R48e5fnnn+fOO+9k9erVdXqtd999lwsuuIDc3FxWr17NU089xZdffgnAtm3bAEhJSeHYsWPMmTPn\n",
              "jI9JRKShqYiKiJyB3NxcgFpnL39t3rx5TJgwgcsuuwybzcbgwYOZMGFCncviwIEDGTt2LDabjT/9\n",
              "6U/ExMSQkJBwVvlFRFyB2xbRKVOm1HwUlpycfFqPOXr0KDfccAORkZH06NGDhx56qH5Dikij1aZN\n",
              "GwD2799/yn2ysrLo0qVLrfsiIiLIzMys02u1a9eu1s99fX0pLi6u03OIiLgity2io0aN4ptvvqFj\n",
              "x46n/ZhbbrmF3r17s2vXLrZt28Y999xTfwFFpFHr2rUrkZGRLF68+JT7dOjQgT179tS6b8+ePYSF\n",
              "hQHg5+cHQElJSc32gwcP1imH1eq2/xsXEXHfInrRRRed9COxjRs3cumll9K3b1969+5dc+VqWloa\n",
              "iYmJTJs2rWbftm3bNlheEWl85s6dyzvvvMO0adPYt28fhmFQVFTEokWL+Nvf/sbEiRN54403+Oqr\n",
              "r7Db7XzxxRfMnz+fSZMmARAZGYmfnx9z587F4XCQnJzMvHnz6pShdevWWK1Wfvzxx/o4RBGReuW2\n",
              "RfRkCgoKmDRpEm+99RaJiYl8+umn3HfffRw4cIDt27cTGhrK7bffTmxsLFdccQWbN282O7KIuLGL\n",
              "L76YH374gQMHDhAXF4efnx/R0dF89NFHjBo1itGjR/Pss89yxx130KJFC+6++25mz57NddddB1Sf\n",
              "EX3zzTeZN28e/v7+PPzwwzUl9XQ1a9aMGTNmMHHiRFq0aMEdd9xRH4cqIlIvLIZhGGaHOBvh4eGs\n",
              "Xr2amJgYPvjgA8aNG0enTp1qtufn57Nw4UIKCgoYPXo0n332GZdccgkffvghEydOJCMjA09PTxOP\n",
              "QERERKRp8jA7gDMZhkGPHj3YsGHDb7YlJibSvn17LrnkEgCGDh1KRUUF+/btIyIioqGjioiIiDR5\n",
              "jeqj+QEDBpCens5nn31Wc19ycjIVFRXExsbi7+9PamoqAAkJCRiGQYcOHcyKKyIiItKkue1H85Mn\n",
              "T2bdunUcOnSIVq1a4efnR1paGklJSdx///0cOXKEyspKwsLCWL16NT4+PmzatIk77riD0tJSvL29\n",
              "eeaZZxg0aJDZhyIiIiLSJLltERURERER99aoPpoXEREREfehIioiIiIiplARFRERERFTuGURnT17\n",
              "ttkRREREROQsuWUR3bdvn9kRREREROQsuWURFRERERH3pyIqIiIiIqaoUxGdMmUK4eHhWCwWkpOT\n",
              "T7nf/Pnz6dq1K126dOHWW2+lsrISgC+++IK4uDi6d+9Ojx49mD59Og6H46wOQERERETcU52K6KhR\n",
              "o/jmm2/o2LHjKfdJT0/n0UcfZf369aSlpZGTk8O8efMAaNmyJcuWLWP79u1s2rSJDRs2sGjRorM7\n",
              "AhERERFxS3UqohdddBGhoaG/u8+KFSsYMWIEbdu2xWKxcNttt7F06VIAevfuTefOnQHw8fEhJiaG\n",
              "jIyMM0suIiIiIm7Nw9lPmJmZWeuMaXh4OJmZmb/Z79ChQ6xYsYK1a9f+7vOVl5dTXl5e6z673e6c\n",
              "sCIiIiJiGlMuVioqKmL48OFMnz6dvn37/u6+M2fOJCAgoNYtISGhgZKKiIiISH1xehENCwurtc5n\n",
              "RkYGYWFhNT8vLi5myJAhXHPNNUybNu0Pn+/hhx+msLCw1i0uLs7ZsUVERESkgTm9iI4cOZI1a9Zw\n",
              "6NAhDMNgzpw5jB07FoBjx44xZMgQhgwZwiOPPHJaz+ft7Y2/v3+tm81mc3ZsEREREWlgdSqikydP\n",
              "JjQ0lP3793PllVcSEREBwMSJE1mzZg0AnTt35oknnmDgwIFERETQunVrJk+eDFSP5kxISGDVqlXE\n",
              "xMQQExPDv/71LycfkoiIiIi4A4thGIbZIepq2rRpzJo1y+wYIiIiInIWNFlJREREGsTmzKNMXbaZ\n",
              "nYeKzI4iLsLpyzeJiIiI/FrmkePcvHAjBccrSco8ygdTLsTPx9PsWGIynREVERGRenWsvIqJi6pL\n",
              "KEBWfil/f2+byanEFaiIioiISL1xOAzufTuZXTnHaOPnzct/6YPVAu9uPsC7m/ebHU9MpiIqIiIi\n",
              "9ea5z3bx6fYcvDyszP1rLMOiQ5h6WSQAj67exr4jJSYnFDOpiIqIiEi9WJeazYtfpAEw89qe9A5r\n",
              "CcCdl3ShX3hLjpVXMXVZMpV2h5kxxUQqoiIiIuJ0Ww8Uct87yQBMvKATI2NDa7Z52Kw8P7Y3fj4e\n",
              "JGcV8Pxnu0xKKWZTERURERGnyjtWzqRFiZRVOrgosjUPDe32m33at2jGzOt6AvDKV3v4bs+Rho4p\n",
              "LkBFVERERJymosrB7Us2cbCwjE5Bvrw4tjcetpPXjauj23F931AMA+59O5mC4xUNnFbMpiIqIiIi\n",
              "TmEYBo+t2cbGjKP4eXvw2vi+BDT//bVCHxveg85BvhwqKuPBlam44cBHOQsqoiIiIuIUS77fx9KE\n",
              "TCwWeGFcbyLanPOHj/H19mD22N542ix8vC2HpQlZDZBUXIWKqIiIiJy1DXvyePz97QA8OKQbl3Rr\n",
              "c9qP7RkawANXngvAP9ZuIy23uF4yiutRERUREZGzkpV/nDvfSsLuMPhzTDsmX9S5zs8x8YLOXNg1\n",
              "iLJKB3cvTaas0l4PScXVqIiKiIjIGTtWXsXENxM5eryS6NAAnhoZjcViqfPzWK0Wnh3di0BfL3Zk\n",
              "F/Hvj36sh7TialRERURE5Iw4HAbT3k7mx5xiWvt5M/evsfh42s74+dr4+/CfUdEAvPFtOl/+mOus\n",
              "qOKiVERFRETkjDz/+W4+2Z6Dl616fGdIQLOzfs7LzgsmfkA4AA+8k8Lh4vKzfk5xXSqiIiIiUmcf\n",
              "bMnmhc93A/Cva6Poc2J8pzM8NLQb5wb7kXesgvvfScHh0JJOjZWKqIiIiNTJtoOF3Lc8BYAJF3Ri\n",
              "dN8OTn1+H08bL/6lN94eVv636zBvfJvu1OcX16EiKiIiIqftyLFyJi3aRGmlnQu7BvHwScZ3OkNk\n",
              "sB+PXN0dgKc/2snWA4X18jpiLhVREREROS0VVQ5ufyuJAwWlhLdqzkvj+pxyfKcz3Hh+GIPPC6bS\n",
              "bjB12WaOV1TV22uJOVRERURE5LQ8/v42EtLzOcfbg9dv+uPxnWfLYrHw71HRBPt7s+dwCU+u3V6v\n",
              "rycNT0VURERE/tDi7/fx3x9+Gt8ZQ0QbvwZ53UBfL2ZdH4PFAksTsvhwS3aDvK40DBVRERER+V3f\n",
              "7TnCE2u2AfDAledyabfgBn39gRFBTL6oCwAPrdrCwYLSBn19qT8qoiIiInJKWfnHueOtTVQ5DEb0\n",
              "asftg7qYkuO+KyLpFRpAYWkl976djF1LOjUKKqIiIiJyUiXlVdy6qHp8Z8/2Afx71JmN73QGT5uV\n",
              "2WN709zLxg/p+bz6VZopOcS5VERFRETkNxwOg2nLk9l5qJigc7yZN/7sxnc6Q3iQL/+4JgqA5z7b\n",
              "TVLmUVPzyNlTERUREZHfmP35bj7e5tzxnc4wsk97RvRqh91RvaRTUVml2ZHkLKiIioiISC0fbslm\n",
              "9onxnf+8NorYjs4b33m2LBYL/7w2itCWzcjKL+Xvq7eaHUnOgoqoiIiI1NiRXcS0E+M7bx4YzvVO\n",
              "Ht/pDP4+nsweG4PNamF18kHe3bzf7EhyhlRERUREBKge3znxzURKK+1cEBHE3646z+xIpxTbMZCp\n",
              "l3UF4JF3t7LvSInJieRMqIiKiIgIlXYHd5wY39mxVXNe+kvveh3f6Qx3XhJBXHggJRV2pixLptLu\n",
              "MDuS1JFr/w4TERGRBvHE+9v44afxneP70qK5l9mR/pDNauG5sTH4+3iQklXA85/tMjuS1JGKqIiI\n",
              "SBO35Pt9LPm+enzn82Ni6BrcMOM7naF9i2Y8NTIagFe+2sOGPXkmJ5K6UBEVERFpwr7fe4THT4zv\n",
              "vP+KcxncvWHHdzrDVT1DGNO3A4YB095O4WhJhdmR5DSpiIqIiDRR1eM7k6hyGAzv1Y47LjZnfKcz\n",
              "PDaiO52DfDlUVMZDq1IxDI0AdQcqoiIiIk3QT+M780sqiGrvz79Hmje+0xmae3nwwrjeeNosfLwt\n",
              "h/8mZJodSU6DiqiIiEgT43AY3P9OyonxnV7M+2tfmnmZO77TGaLaBzD9ym4APLl2O7tzik1OJH9E\n",
              "RVRERKSJefGLND7ceghPm4U5N8bSroVrjO90hgkXdOLCrkGUVTqYsiyZskq72ZHkd6iIioiINCEf\n",
              "bT3EcyeWOfrnn6PoGx5ociLnslotPHt9L1r5erEju4inP9ppdiT5HSqiIiIiTcTOQ0VMW54MQPyA\n",
              "cMb0CzM3UD1p4+fDf0ZXL+m04NsMvtyZa3IiORUVURERkSYgv6SCiW8mcrzCzsCIVjwyzHXHdzrD\n",
              "pd2CiR8QDsADK1I4XFxubiA5KRVRERGRRq56fOcm9h8tJSywOS+N6+Py4zud4aGh3ejW1o+8YxXc\n",
              "904KDoeWdHI1jf93oYiISBP3j/e38/3efHy9bLx+U19a+rr++E5n8PG08cK43nh7WPl612He+Dbd\n",
              "7EjyKyqiIiIijdh/f8hk8ff7qsd3ju1NpBuN73SGyGA/Hrm6OwBPf7STrQcKTU4kv1SnIjplyhTC\n",
              "w8OxWCwkJyefcr/58+fTtWtXunTpwq233kplZeVpbRMRERHn+WHvEf7+3lYA7rs8ksvdcHynM9x4\n",
              "fhiXdw+m0m4wZdlmjldUmR1JTqhTER01ahTffPMNHTt2POU+6enpPProo6xfv560tDRycnKYN2/e\n",
              "H24TERER59l/9Di3nxjfeXV0CHdeEmF2JNNYLBaeHhlNsL83ew+X8OTa7WZHkhPqVEQvuugiQkND\n",
              "f3efFStWMGLECNq2bYvFYuG2225j6dKlf7hNREREnON4RRW3LtpEfkkFPdr5859Rvdx6fKczBPp6\n",
              "8dz1MVgssDQhiw+3ZJsdSaiH74hmZmbWOmMaHh5OZmbmH247lfLycoqKimrd7HZNSRARETkZwzB4\n",
              "4J1UdmQXVY/vHN84xnc6w4CIIG4b1AWAh1Zt4WBBqcmJxOUvVpo5cyYBAQG1bgkJCWbHEhERcUkv\n",
              "fZHGui3ZeNosvHpjLO0b0fhOZ5h2eSS9QgMoLK3knreTsWtJJ1M5vYiGhYWxb9++mp9nZGQQFhb2\n",
              "h9tO5eGHH6awsLDWLS4uztmxRURE3N7H2w7x7KfV4zufvCaKfo1sfKczeNqszB7bG18vGwnp+bz6\n",
              "VZrZkZo0pxfRkSNHsmbNGg4dOoRhGMyZM4exY8f+4bZT8fb2xt/fv9bNZtNHDCIiIr/046Fipr2d\n",
              "DMBNf+rI2LjGOb7TGcKDfPnHNVEAPPfZbjbtO2pyoqarTkV08uTJhIaGsn//fq688koiIqqvwJs4\n",
              "cSJr1qwBoHPnzjzxxBMMHDiQiIgIWrduzeTJk/9wm4iIiJyZoyUVTFy0kZIKOwO6tKpZN1NO7bo+\n",
              "7RnRqx12h8HUZZspKtNykmawGIbhdl+OmDZtGrNmzTI7hoiIiOkq7Q7Gz0/gu71HCAtsznt3Dmwy\n",
              "k5POVlFZJVfNXs/+o6VcE9OO58fENPnVBRqay1+sJCIiIqf2z7Xb+W7vEXy9bLw2vumM73QGfx9P\n",
              "Zo/tjc1q4b3kg7y7+YDZkZocFVERERE3tTQhkze/q74I+LkxMZzbtmmN73SG2I4tmXpZVwAeXb2V\n",
              "fUdKTE7UtKiIioiIuKGNGfm1xnde0aOtyYnc152XRBAXHkhJhZ0py5KptDvMjtRkqIiKiIi4mQMF\n",
              "pdy2eBOVdoNhPUO469KmO77TGWxWC8+NjcHfx4OUrAKeO7EEltQ/FVERERE3cryiilvfTORISQXd\n",
              "Q/z5z+hoXWDjBO1bNOOpkdEAvPq/PWzYk2dyoqZBRVRERMRN/DS+c3t2Ea18vZg3PpbmXh5mx2o0\n",
              "ruoZwth+HTAMmPZ2CkdLKsyO1OipiIqIiLiJl7+sPb4ztGVzsyM1On8f3p3OQb4cKirjwZWpuOEq\n",
              "l25FRVRERMQNfLLtEM98Uv3dxSdGRBHXSeM760NzLw9eGNcbT5uFT7bn8N+ETLMjNWoqoiIiIi7u\n",
              "x0PF3HtifOf4P3XkL+drfGd9imofwINDugHw5Nrt7M4pNjlR46UiKiIi4sKOllRw66JESirs/Klz\n",
              "Kx7V+M4GccvATlzYNYiySgd3L91MWaXd7EiNkoqoiIiIi6q0O7jzv0lk5h8ntGUzXr6hD542/dXd\n",
              "EKxWC89e34tWvl7sPFTM0x/tNDtSo6TfzSIiIi7qX+t2sGHPEZp72Xj9pr4Eanxng2rj58Mzo3sB\n",
              "sODbDL7cmWtyosZHRVRERMQFvb0xk4UbMgCYdX0M3dr6mxuoibqkWxviB4QDcP87KeQWl5kbqJFR\n",
              "ERUREXExiRn5PLK6enznvYMjGRKl8Z1memhoN7q19eNISQX3LU/B4dCSTs6iIioiIuJCDhSUctuS\n",
              "6vGdV/Vsy90a32k6H08bL47rjbeHlfW783jj23SzIzUaKqIiIiIuorTCzqRFieQdq+C8EH+eGd0L\n",
              "q1XjO11B12C/mhULnv5oJ1sPFJqcqHFQERUREXEBhmHwwIoUth0sItDXi9c0vtPl3HB+GFd0D6bS\n",
              "bjBl2WaOV1SZHcntqYiKiIi4gFe+2sPa1Gw8rBZevaGPxne6IIvFwtMjown292bv4RL+8f52syO5\n",
              "PRVRERERk322PYdnPvkRgCeu6cH5nVuZnEhOpaWvF89dH4PFAss2ZvHBlmyzI7k1FVERERET7c4p\n",
              "5p63kzEMuLF/GDec39HsSPIHBkQEcdugLgA8tDKVgwWlJidyXyqiIiIiJik4XsHERYkcK6+if+dA\n",
              "Hhvew+xIcpqmXR5Jr9AAisqquOftZOxa0umMqIiKiIiYoMru4K7/bmbfkerxna/cEKvxnW7E02Zl\n",
              "9tje+HrZSEjP55Uv08yO5Jb0O15ERMQE//pgB9+k5dHcy8Zr4zW+0x2FB/nyj2uiAHj+891s2nfU\n",
              "5ETuR0VURESkgS3fmMWCbzMAmHV9L84L0fhOd3Vdn/ZcE9MOu8Ng6rLNFJVVmh3JraiIioiINKBN\n",
              "+/L52+otANwzuCtDokJMTiRnw2Kx8OSfowht2Yz9R0t55N2tGIa+L3q6VERFREQayMGCUiYvTqLS\n",
              "bjA0qi1TLu1qdiRxAn8fT2aP7Y3NamFNykHe3XzA7EhuQ0VURESkAZRW2Jm8eBN5x8rp1tZP4zsb\n",
              "mdiOLbnnsup/WDy6eisZeSUmJ3IPKqIiIiL1zDAMpq9MZcuBwhPjO/vi663xnY3NHZdEEBceSEmF\n",
              "nanLNlNpd5gdyeWpiIqIiNSzV/+3h/dTDuJhtfDKDX3oEKjxnY2RzWrhubEx+Pt4kLK/kOc+3WV2\n",
              "JJenIioiIlKPPt+Rw38+rh7f+diIHvTX+M5GrX2LZjw1Mhqo/gfIhrQ8kxO5NhVRERGRerI7p5ip\n",
              "y6rHd95wfhh/7a/xnU3BVT1DGNuvA4YB9y5P5mhJhdmRXJaKqIiISD0oPF7JrSfGd8Z10vjOpubv\n",
              "w7vTubUvOUXlPLgyVUs6nYKKqIiIiJNV2R3ctTSJjCPHad+iGa/e0AcvD/2V25Q09/LghbG98bRZ\n",
              "+GR7Dm/9kGl2JJekPxUiIiJONvPDnazfnUczz+rxna3O8TY7kpggqn0ADw7pBsCTa7ezO6fY5ESu\n",
              "R0VURETEid5JzGL+N+lA9fjO7u00vrMpu2VgJy7sGkR5lYO7l26mrNJudiSXoiIqIiLiJJv2HeVv\n",
              "724FYMplXRnaU+M7mzqr1cKz1/eila8XOw8V89SHO82O5FJUREVERJwgu7CU25ZsosLu4MoewTVT\n",
              "dkTa+PnwzOheACzckMEXO3NMTuQ6VERFRETOUlmlnUmLNnG4uHp856zrYzS+U2q5pFsb4geEA/DA\n",
              "O6nkFpWZG8hFqIiKiIicBcMwePDE+M6WzT01vlNO6aGh3ejW1o8jJRXc904KDoeWdFIRFREROQtz\n",
              "v97Le8k/je+M1fhOOSUfTxsvjuuNj6eV9bvzeOPbdLMjmU5FVERE5Ax9sTOHpz+qvvjkseHd+VMX\n",
              "je+U39c12I9Hr+4OwNMf7WTrgUKTE5lLRVREROQMpOUWM3Vp9fjOcXFh3KjxnXKa/hIXxhXdg6m0\n",
              "G0xZupnjFVVmRzKNiqiIiEgdVY/v3ERxeRVx4YE8MaIHFosuTpLTY7FYeHpkNG39fdibV8I/3t9u\n",
              "diTTqIiKiIjUwU/jO9PzSmjfohmv3KjxnVJ3LX29mDWmFxYLLNuYxQdbss2OZIo6/8nZvXs3AwYM\n",
              "IDIykn79+rFt27bf7ONwOLj//vuJioqiW7duTJgwgYqKiprtTz/9NN27dycmJob+/fuTkJBwdkch\n",
              "IiLSQJ76xfjOeeNjCdL4TjlDA7oEcfugLgA8tDKVAwWlJidqeHUuopMnT2bSpEns2rWLBx98kPj4\n",
              "+N/sM3/+fJKSkkhKSmLHjh1YrVZmz54NQHJyMq+88goJCQkkJydz1113cdddd531gYiIiNS3FZv2\n",
              "8/qJ8Z3PjO5Fj3YBJicSd3fv5ZH06tCCorIq7l2WjL2JLelUpyKam5tLYmIiN954IwAjR44kKyuL\n",
              "tLS0WvulpKQwePBgvLy8sFgsDB06lMWLFwPV34uorKykpKQEgIKCAkJDQ51xLCIiIvUmKfMo/7dq\n",
              "CwBTLo1gWLTGd8rZ87RZeWFsDL5eNhIy8nn5y7Q/flAjUqcimpWVRUhICB4e1Qv1WiwWwsLCyMzM\n",
              "rLVfbGwsa9asoaioiMrKSpYvX05GRgYAvXr14t5776VTp06Ehoby3HPP8eKLL57yNcvLyykqKqp1\n",
              "s9vtdTxMERGRM3eosIzJi6vHd17RPZh7BkeaHUkakY6tfHnyz1EAzP58N5v25ZucqOHUy7er4+Pj\n",
              "GTJkCIMGDWLQoEFERkbWlNf09HRWrVpFWloa+/fv595772XMmDGnfK6ZM2cSEBBQ66bvlIqISEMp\n",
              "q7QzeXEih4vLOTfYj1ljNL5TnO/a3u25JqYddofB1GXJFJVVmh2pQdSpiHbo0IHs7GyqqqrXuzIM\n",
              "g8zMTMLCwmrtZ7FYePzxx9m8eTMbNmyge/fu9OjRA4CVK1fSs2dP2rVrB8DNN9/Mt99+W+tipl96\n",
              "+OGHKSwsrHWLi4ur84GKiIjUlWEYPLQylZT9hbQ4Mb7zHI3vlHpgsVh48s9RdAhsxv6jpTzy7lYM\n",
              "o/F/X7RORbRNmzb06dOHJUuWANWlMjQ0lIiIiFr7lZWVcfToUQDy8vJ46qmnmD59OgCdO3fm22+/\n",
              "5dixYwCsXbuWyMhIvLy8Tvqa3t7e+Pv717rZbLa6HaWIiMgZmPf1XlYnH8RmtfDKX/oQ1krjO6X+\n",
              "+Pt48vyY3tisFtakHGRV0gGzI9W7Ov+zbu7cucTHxzNjxgz8/f1ZsGABABMnTmTEiBGMGDGCwsJC\n",
              "Lr74YqxWKw6Hg6lTpzJ8+HAArr32WjZu3Ejfvn3x9vbG19eX//73v849KhERkbP05Y+5PHVifOff\n",
              "r+7OgIggkxNJUxDbsSX3XNaVZz/dxd/f20psx5aEB/maHaveWAw3PO87bdo0Zs2aZXYMERFppNJy\n",
              "j3Hty99SXF7FuLgOzLi2pyYnSYOxOwzGvfY9Cen59AoN4J3bBjTaoQmN86hERETOUGFpJZMWJVJc\n",
              "XkW/8JY8MSJKJVQalM1q4fkxMfj7eJCyv5DnPttldqR6oyIqIiJygt1hMGXpZvbmldAuwIdXb4xt\n",
              "tGeixLW1a9GMp0dGAzDnf3vYkJZncqL6oT9dIiIiJzz90U7+t+swPp5W5o3vq/GdYqqhPUMYF9cB\n",
              "w4B7lyeTX3LyFYbcmYqoiIgIsHLTfuZ9vReoHt8Z1V7jO8V8j17dnc6tfckpKufBlamNbkknFVER\n",
              "EWnykrMKePjd6vGdd10SwdXR7UxOJFKtuZcHL4ztjZfNyqfbc3jrh8w/fpAbUREVEZEmLaeojEmL\n",
              "EqmocnB592CmXa7xneJaotoHMH3IuQA8uXY7u3KKTU7kPCqiIiLSZJVV2pm0eBO5xeVEBp/Dcxrf\n",
              "KS7qloGduCiyNeVVDqYs3UxZpd3sSE6hIioiIk2SYRj836otpGQVaHynuDyr1cIzo6MJOseLnYeK\n",
              "eerDnWZHcgoVURERaZJeX5/Oqs0HsFktvPyXPnRs1Xin10jj0MbPh/+M6gXAwg0ZfLEzx+REZ09F\n",
              "VEREmgTDMNhz+Bhv/bCPu5duZuaHOwB4dNh5DNT4TnETl3Rrw80DwwG4/51UcovKzA10lvQZhIiI\n",
              "NErVxbOE7/ce4Yf0fL7fe4TDxeW19hkXF8ZNA8LNCShyhh4c0o3v9+azI7uI+95J4c2b49z2u80q\n",
              "oiIi0ij8snhW3/LJO1a7eHp5WOkT1oL+nVvxp86tiOsUqPGd4nZ8PG28MDaG4S99w/rdecz/Jp1b\n",
              "L+psdqwzoiIqIiJu6aeP2r/bm88Pv1M8Y8Na0r9zK/p3DqRXhxb4eNpMSiziPF2D/Xj06u787d2t\n",
              "/PvjnfypSyu3HMKgIioiIm7hl8Xz+71H+GHvEfKO1R556O1hpY+KpzQRf4kL438/HuaT7TlMWbqZ\n",
              "tVMuoLmXe1U790orIiJNhmEYpOUeq/mY/Yf0kxfP2I4/Fc9W9OoQgLeHiqc0DRaLhadHRpO6fz17\n",
              "80p4Ys12nh4VbXasOlERFRERl/Dr4vn93iMcKVHxFPk9LX29mDWmFze8/gNvJ2ZxUWRrhkWHmB3r\n",
              "tKmIioiIKQzDYHdN8TzCD3vzf1M8fTxPFM9OrejfpRXRoSqeIr82oEsQtw/qwitf7eHhVanEhLWg\n",
              "fYtmZsc6LSqiIiLSIE63ePbtGMj5nQJVPEXq4N7LI/l2zxFSsgq4d1kySyf1x+YGSzqpiIqISL1w\n",
              "OH5VPNPzyT9F8ezfOZD+nVsRHdoCLw/NWhGpK0+blRfGxnDV7PUkZOTz8pdpTLmsq9mx/pCKqIiI\n",
              "OMXpFM9mnjb6hresPuOp4iniVB1b+fLkn6OYtjyF2Z/vZmBEK2I7Bpod63epiIqIyBlxOAx25Rbz\n",
              "/Z6fr2o/eryy1j4/Fc+fllPq2V7FU6Q+XdcnlK93HWZ18kGmLkvmg6kX4u/jaXasU1IRFRGR06Li\n",
              "KeIenvxzFJsyj5KVX8rf3t3KC2NjXHaCmIqoiIiclMNh8GNOca2P2gt+t3i2omf7ABVPEZP5+Xgy\n",
              "e2xvRs/5jvdTDjIosjWjYkPNjnVSKqIiIgJUF8+dh4pPlM6TF8/mXjb6hgf+4jueAXjaVDxFXE2f\n",
              "sJbcO7grz3yyi7+/t5W+HVsSHuRrdqzfUBEVEWmiflk8v997hISMUxfPn65q79lexVPEXdx+cQTr\n",
              "d+fxQ3o+U5ZtZsVtA1zuEwsVURGRJsLhMNhxqKj6+50nPmovLP1t8ewXHsj5Kp4ibs9mtfDcmBiG\n",
              "zl5P6v5CZn26i4eGdjM7Vi0qoiIijdQvi+f3e4+QcJLi6VtzxrP64qIoFU+RRqVdi2Y8dV1Pnnh/\n",
              "O4MiW5sd5zdUREVEGgm7w2BHdlHNhUWnKp79OgXWXFwU1c4fDxVPkUZtaM8QLj63Dc28XG9KmYqo\n",
              "iIib+mXx/H5vPgnpRygqq6q1j4qniAAuWUJBRVRExG2cTvE8x9uDfr9YTqmHiqeIuDAVURERF1W7\n",
              "eFZ/3F6s4ikijYiKqIiIi7A7DLYfLKq1jufJimdcp5+XU+oeouIpIu5LRVREmjzDMKhyGNgdBo4T\n",
              "/+1w1P7R/tPN+MV/n7hV/fQ4+28fX/txDuwOfvWjQUmFnaR9R0nI+G3x9PP2OPEdTxVPEWl8VERF\n",
              "pMaBglKOlVWdtDxVORw4fvrxV6Xr18XslGXtl6XtVGXN/gdlr+ZxP+exG78td6d6vpPlMAyz3/mf\n",
              "+dWc8az+qL17O39sVtecES0icrZUREWauD2Hj7E2JZt1Ww6yK+eY2XFcjs1qqb5ZLHhYLVitv/rR\n",
              "YsHDVr29Zt9f3k5y/y8fZ7VY8LJZOS/EX8VTRJocFVGRJig9r4R1qQdZm5rNzkPFNfd7WC0ENPN0\n",
              "asn6ZWmr/TgrNiu1fzzF42oe/3s5bL8ti6fMZrVitVLrx18+x0/7Wy1gsagUiojUFxVRkSZi35ES\n",
              "1m3JZl1qNtsOFtXc72G1cEHXIIb1DOGKHm0JaOZpYkoREWlKVERFGrGs/ON8sCWbtanZbDlQWHO/\n",
              "zWphQJdWDI9uxxU9gmnR3MvElCIi0lSpiIo0MgcKSvkgNZu1W7JJySqoud9qgQFdghgWHcKVPdoS\n",
              "6KvyKSIi5lIRFWkEsgtL+WDLIdalHiQps6DmfqsFzu/UimHRIQyJakvQOd7mhRQREfkVFVERN5VT\n",
              "VMYHJ77zmbjvaM39FgvEhQdydXQIV0a1pY2fj4kpRURETk1FVMSN5BaX8dHWQ6xNzWZjRn6t9S/7\n",
              "hbdkWM8QhvYMIdhf5VNERFyfiqiIi8s7Vn6ifB7kh/Ta5bNPWAuujm7H0J5tCQloZl5IERGRM6Ai\n",
              "KuKC8ksq+GjrIdZtOch3e47g+EX5jOnQgqujq898tm+h8ikiIu5LRVTERRQcr+DjbdUfu2/YcwT7\n",
              "L9pndGgAw3qGcFXPEDoENjcxpYiIiPPUuYju3r2bm266iby8PAICAli4cCE9evSotY/D4WD69Ol8\n",
              "9NFHVFVVMXDgQF599VW8vKqXi8nMzOTOO+9k165d2Gw2br/9du6++27nHJGIGyk8Xskn26vL57dp\n",
              "eVT9onxGtfdnWM92DOsZQlgrlU8REWl86lxEJ0+ezKRJk4iPj2fFihXEx8ezcePGWvvMnz+fpKQk\n",
              "kpKS8PT0ZNKkScyePZsHHngAwzC49tpreeihhxg9ejQAOTk5zjkaETdQVFbJp9tyWLclm/W7D1Np\n",
              "/7l8nhfiz9XR1Wc+OwX5mphSRESk/tWpiObm5pKYmMgnn3wCwMiRI7nrrrtIS0sjIiKiZr+UlBQG\n",
              "Dx5ccwZ06NChPP744zzwwAN8/vnneHt715RQgODgYGcci4jLKi6r5PMduaxNzebrXYepsDtqtp0b\n",
              "7Mew6BCGRYfQpfU5JqYUERFpWHUqollZWYSEhODhUf0wi8VCWFgYmZmZtYpobGwsc+fO5a677qJZ\n",
              "s2YsX76cjIwMALZv307r1q0ZO3YsP/74I+Hh4Tz77LN07tz5pK9ZXl5OeXl5rfvsdntdYouYoqS8\n",
              "is925LAuNZuvdh2mourn8hnR5hyujg5hWM8Qugb7mZhSRETEPPVysVJ8fDz79u1j0KBBNGvWjMGD\n",
              "B9ecRa2qquKLL77g+++/p0ePHsyZM4frr7+exMTEkz7XzJkzeeKJJ2rd179///qILXLWjldU8cXO\n",
              "XNalZvPFzlzKf1E+Owf5VpfP6HZEBp+DxWIxMamIiIj5LIbxy1UJf19ubi4RERHk5+fj4eGBYRiE\n",
              "hITwzTff1Doj+mvLli3j5ZdfZv369axYsYIXXniBr7/+GoCSkhL8/PwoLy/H09PzN4892RnRRx99\n",
              "lNmzZ59ubJF6VVph56sfc1m7JZsvduRSWvnzGfvwVs25Orodw6JD6NbWT+VTRETkF+p0RrRNmzb0\n",
              "6dOHJUuWEB8fz8qVKwkNDf1NCS0rK6O0tJSWLVuSl5fHU089xZNPPglUf190+vTpHDhwgPbt2/PB\n",
              "Bx9w3nnnnbSEAnh7e+PtXXs+ts1mq0tsEacrq7Tzv12HWZuazec7cjhe8XP5DAtsXv2dz54h9Gjn\n",
              "r/IpIiJyCnX+aH7u3LnEx8czY8YM/P39WbBgAQATJ05kxIgRjBgxgsLCQi6++GKsVisOh4OpU6cy\n",
              "fPhwAHx9fZkzZw7Dhg3DMAwCAgJYtmyZc49KpB6UV9n5elce61IP8tmOXI6VV9Vsa9+iGVdHh3B1\n",
              "dDui2qt8ioiInI46fTTvKqZNm8asWbPMjiFNQEWVg2/Sqs98froth+JflM92AT4nrnZvR6/QAJVP\n",
              "ERGROtJkJZFfqbQ7+DYtj7Wp2Xyy7RBFZT+Xz7b+PlzVs3qppd4dWmC1qnyKiIicKRVREarL53d7\n",
              "jrAuNZuPtx+i4HhlzbY2ft5c1TOEq6ND6BPWUuVTRETESVREpcmqsjv4IT2ftakH+WjrIY7+onwG\n",
              "nePNVT3bMqxnCH3DA7GpfIqIiDidiqg0KXaHwQ/p1Wc+P9p6iCMlFTXbWvl6MSSqLcOiQzi/UyuV\n",
              "TxERkXqmIiqNnt1hkJiRz7ot2Xyw5RB5x35el7Zlc0+GRLXl6uh2nN8pEA+b1cSkIiIiTYuKqDRK\n",
              "DodBUuZR1qZm88GWbHKLfy6fAc08GdKj+sznn7q0wlPlU0RExBQqotJoGIZBUmYB606Uz0NFZTXb\n",
              "/Hw8uPJE+RzYJQgvD5VPERERs6mIilszDIOU/YWsSz3IB1sOcaCgtGabn7cHl/cI5uroEC6IaK3y\n",
              "KSIi4mJURMXtGIbB1gNFrN1ykHWp2ew/+nP59PWycXn3YIZFt+PCrkH4eGocrIiIiKtSERW3YBgG\n",
              "2w4WsW5LNutSs8nMP16zrbmXjcvOqz7zOSiytcqniIiIm1ARFZdlGAY7DxWzLjWbdVuySc8rqdnW\n",
              "zNPGpee14eqeIVx8bhuaeal8ioiIuBsVUXE55VV2Xvt6L6s2H2Dv4Z/Lp7eHlUu7tWFYdAiXdmtD\n",
              "cy/99hUREXFn+ptcXIphGExfkcp7yQcB8PKwcsm5rRkW3Y7LurXB11u/ZUVERBoL/a0uLuW5T3fx\n",
              "XvJBPKwWnrimByN6tcPPx9PsWCIiIlIPVETFZbyTmMULX6QB8K9roxjTL8zkRCIiIlKftLCiuIQN\n",
              "aXk8vGoLAHdc3EUlVEREpAlQERXT7c4pZvKSTVQ5DIb3asf9V5xrdiQRERFpACqiYqrc4jLiF2yk\n",
              "uKyKvh1b8p9R0VitFrNjiYiISANQERXTlFbYufXNRA4UlBLeqjnzxvfVYvQiIiJNiIqomMLuMJi6\n",
              "bDMp+wtp2dyTBTfHEejrZXYsERERaUAqomKKGR/s4JPtOXjZrMwb35dOQb5mRxIREZEGpiIqDW7R\n",
              "dxnM/yYdgGeu70W/8ECTE4mIiIgZVESlQX2+I4fH12wD4IErz2VEr3YmJxIRERGzqIhKg9l6oJC7\n",
              "l27GYcCYvh244+IuZkcSERERE6mISoM4WFDKLQs3crzCzgURQfzz2igsFi3TJCIi0pSpiEq9Ky6r\n",
              "5JaFG8ktLufcYD9eubEPnjb91hMREWnq1AakXlXaHdzxVhI7DxXT2s+bN27uh7+Pp9mxRERExAWo\n",
              "iEq9MQyDv7+3lfW782jmaeONm/rRvkUzs2OJiIiIi1ARlXoz5397WZqQhcUCL4zrTc/QALMjiYiI\n",
              "iAtREZV6sTb1IE9/tBOAv1/dncu7B5ucSERERFyNiqg43aZ9+UxbngJA/IBwbh7YyeREIiIi4opU\n",
              "RMWp9h0p4dZFm6iocjD4vGAevbq72ZFERETERamIitMcLang5gUbyS+poGf7AF4YF4PNqrVCRURE\n",
              "5ORURMUpyqvsTF68ib15JbRv0Yz58X1p7uVhdiwRERFxYSqictYMw2D6ilQSMvLx8/Zgwc39aOPn\n",
              "Y3YsERERcXEqonLWZn26i/eSD+JhtfDqjbFEBvuZHUlERETcgIqonJXliVm8+EUaADOu7ckFXYNM\n",
              "TiQiIiLuQkVUzti3aXn836otANx5SReu79fB5EQiIiLiTlRE5YzszinmtiWbqHIYDO/VjvsuP9fs\n",
              "SCIiIuJmVESlznKLy4hfsJHisir6dmzJf0ZFY9UyTSIiIlJHKqJSJ6UVdm59M5EDBaV0CvJl3vi+\n",
              "+HjazI4lIiIibkhFVE6b3WEwddlmUvYX0rK5Jwvi+xHo62V2LBEREXFTKqJy2v61bgefbM/By8PK\n",
              "a+P7Eh7ka3YkERERcWMqonJa3tyQwRvfpgPw7Ohe9A0PNDmRiIiIuLs6F9Hdu3czYMAAIiMj6dev\n",
              "H9u2bfvNPg6Hg/vvv5+oqCi6devGhAkTqKio+M1+8fHxWCwWCgoKzii8NIzPd+TwxPvVv84PXHku\n",
              "w3u1MzmRiIiINAZ1LqKTJ09m0qRJ7Nq1iwcffJD4+Pjf7DN//nySkpJISkpix44dWK1WZs+eXWuf\n",
              "VatW4enpecbBpWFsPVDIXf/djMOAMX07cMfFXcyOJCIiIo1EnYpobm4uiYmJ3HjjjQCMHDmSrKws\n",
              "0tLSau2XkpLC4MGD8fLywmKxMHToUBYvXlyzPScnhxkzZjBr1iwnHILUl4MFpdyycCOllXYu7BrE\n",
              "P6+NwmLRMk0iIiLiHHUqollZWYSEhODh4QGAxWIhLCyMzMzMWvvFxsayZs0aioqKqKysZPny5WRk\n",
              "ZNRsv/XWW/n3v/+Nn98fzyQvLy+nqKio1s1ut9cltpyB4rJKblm4kdzics4N9uPlG/rgadNXikVE\n",
              "RMR56qVZxMfHM2TIEAYNGsSgQYOIjIysKa+vv/46YWFhXHrppaf1XDNnziQgIKDWLSEhoT5iywmV\n",
              "dgd3vJXEzkPFtPbz5o2b++Hvo69RiIiIiHPVqYh26NCB7OxsqqqqADAMg8zMTMLCwmrtZ7FYePzx\n",
              "x9m8eTMbNmyge/fu9OjRA4Avv/yS9957j/DwcMLDwwGIjo5m8+bNJ33Nhx9+mMLCwlq3uLi4uh6n\n",
              "nCbDMPj7e1tZvzuPZp423ripH+1bNDM7loiIiDRCHnXZuU2bNvTp04clS5YQHx/PypUrCQ0NJSIi\n",
              "otZ+ZWVllJaW0rJlS/Ly8njqqad48sknAXjrrbdq7WuxWEhNTaVFixYnfU1vb2+8vb1r3WezaZJP\n",
              "fZnzv70sTcjCaoEXx/WmZ2iA2ZFERESkkapTEQWYO3cu8fHxzJgxA39/fxYsWADAxIkTGTFiBCNG\n",
              "jKCwsJCLL74Yq9WKw+Fg6tSpDB8+3OnhxbneTznI0x/tBODvV3dncPdgkxOJiIhIY2YxDMMwO0Rd\n",
              "TZs2TVfcO1liRj5/ef0HKqoc3DwwnMeG9zA7koiIiDRyugxayMgr4dZFiVRUObi8ezCPDOtudiQR\n",
              "ERFpAlREm7ijJRXcvHAjR49XEh0awOyxMdisWitURERE6p+KaBNWXmVn8uJNpOeV0L5FM16/qS/N\n",
              "ver8tWERERGRM6Ii2kQZhsH0FakkZOTj5+3Bgpv70cbPx+xYIiIi0oSoiDZRsz7dxXvJB/GwWpjz\n",
              "11gig/94ypWIiIiIM6mINkHLE7N48Ys0AGZc15OBEUEmJxIREZGmSEW0iflmdx7/t2oLAHddEsH1\n",
              "fTuYnEhERESaKhXRJmRXTjG3L9lElcNgRK923HdFpNmRREREpAlTEW0icovLuHnBRorLq+gX3pL/\n",
              "jI7GYtEyTSIiImIeFdEm4HhFFRPfTORAQSmdgnyZ99e+eHvYzI4lIiIiTZyKaCNndxhMXZZM6v5C\n",
              "Wjb3ZEF8P1r6epkdS0RERERFtLH717odfLo9By8PK6+N70t4kK/ZkUREREQAFdFG7c0NGbzxbToA\n",
              "z47uRd/wQJMTiYiIiPxMRbSR+mx7Dk+8vw2A6UPOZXivdiYnEhEREalNRbQR2rK/kLuXbsZhwNh+\n",
              "Hbh9UBezI4mIiIj8hopoI3OgoJRb3txIaaWdC7sG8eSfo7RMk4iIiLgkFdFGpKisklsWbORwcTnn\n",
              "Bvvx8g198LTpl1hERERck1pKI1Fpd3DnW0n8mFNMaz9v3ri5H/4+nmbHEhERETklFdFGwDAMHl29\n",
              "lfW782jmaeONm/rRvkUzs2OJiIiI/C4V0Ubg1f/tYdnGLKwWeHFcb3qGBpgdSUREROQPqYi6ufdT\n",
              "DvLvj34E4LHhPRjcPdjkRCIiIiKnR0XUjSVm5HPfOykA3DKwEzcNCDc3kIiIiEgdqIi6qYy8Em5d\n",
              "lEhFlYPLuwfzt2HnmR1JREREpE5URN3Q0ZIKbl64kaPHK4kODWD22BhsVq0VKiIiIu5FRdTNlFXa\n",
              "mbQ4kfS8Etq3aMbrN/WluZeH2bFERERE6kxF1I04HAbTV6SyMeMofj4eLLi5H238fMyOJSIiInJG\n",
              "VETdyKxPd7Em5SAeVgtzbowlMtjP7EgiIiIiZ0xF1E0s35jFS1+mATDjup4MjAgyOZGIiIjI2VER\n",
              "dQPf7M7j/97dAsDdl0Zwfd8OJicSEREROXsqoi5uV04xty/ZRJXD4JqYdky7PNLsSCIiIiJOoSLq\n",
              "wnKLy7h5wUaKy6uICw/k36OisVi0TJOIiIg0DiqiLup4RRUTFiZyoKCUTkG+zP1rLN4eNrNjiYiI\n",
              "iDiNiqgLsjsMpixNZsuBQgJ9vVgQ34+Wvl5mxxIRERFxKhVRF/TPddv5bEcOXh5WXhsfS3iQr9mR\n",
              "RERERJxORdTFLPw2nQXfZgAw6/pexHYMNDeQiIiISD1REXUhn23P4R9rtwMwfci5XB3dzuREIiIi\n",
              "IvVHRdRFbNlfyN1LN+MwYFxcB24f1MXsSCIiIiL1SkXUBRwoKOWWNzdSWmnnwq5B/OOaKC3TJCIi\n",
              "Io2eiqjJisoquWXBRg4Xl9OtrR+v3NAHT5t+WURERKTxU+MxUaXdwR1Lkvgxp5g2ft68Ed8PPx9P\n",
              "s2OJiIiINAgVUZMYhsEj727lm7Q8mnvZeCO+H+1aNDM7loiIiEiDURE1yStf7eHtxCysFnhxXG+i\n",
              "2geYHUlERESkQamImmBNykH+8/GPADw2vAeXnRdsciIRERGRhqci2sASM/K5/50UAG4Z2ImbBoSb\n",
              "G0hERETEJHUuort372bAgAFERkbSr18/tm3b9pt9HA4H999/P1FRUXTr1o0JEyZQUVEBwJYtW7jo\n",
              "oovo1q0bUVFR3HLLLZSWlp79kbiBjLwSbl2USEWVgyu6B/O3YeeZHUlERETENHUuopMnT2bSpEns\n",
              "2rWLBx98kPj4+N/sM3/+fJKSkkhKSmLHjh1YrVZmz54NgI+PDy+99BI7d+4kJSWFkpISnn766bM+\n",
              "EFd3tKSCmxdu5OjxSnqFBjB7bG9sVq0VKiIiIk1XnYpobm4uiYmJ3HjjjQCMHDmSrKws0tLSau2X\n",
              "kpLC4MGD8fLywmKxMHToUBYvXgxA165diY6OBsBms9GvXz8yMjKccCiuq6zSzqTFiaTnldC+RTNe\n",
              "v6kfzbxsZscSERERMVWdimhWVhYhISF4eHgAYLFYCAsLIzMzs9Z+sbGxrFmzhqKiIiorK1m+fPlJ\n",
              "y2ZJSQmvv/4611xzzSlfs7y8nKKiolo3u91el9imcjgMHliRysaMo/j5eLDw5n609vM2O5aIiIiI\n",
              "6erlYqX4+HiGDBnCoEGDGDRoEJGRkTXl9ScVFRWMGTOGK664gmuvvfaUzzVz5kwCAgJq3RISEuoj\n",
              "dr149tMfeT/lIB5WC3NujKVrsJ/ZkURERERcQp2KaIcOHcjOzqaqqgqoXpQ9MzOTsLCwWvtZLBYe\n",
              "f/xxNm/ezIYNG+jevTs9evSo2V5ZWcmYMWMICQmp+e7oqTz88MMUFhbWusXFxdUltmmWb8zi5S/3\n",
              "ADDzup4MjAgyOZGIiIiI66hTEW3Tpg19+vRhyZIlAKxcuZLQ0FAiIiJq7VdWVsbRo0cByMvL46mn\n",
              "nmL69OkAVFVVMXbsWAIDA5k3bx4Wy+9fsOPt7Y2/v3+tm83m+t+v/GZ3Hv/37hYA7r40gtF9O5ic\n",
              "SERERMS1ePzxLrXNnTuX+Ph4ZsyYgb+/PwsWLABg4sSJjBgxghEjRlBYWMjFF1+M1WrF4XAwdepU\n",
              "hg8fDsDbb7/NqlWriI6Opnfv3gAMHDiQl19+2YmHZa4fDxVz+5JNVDkMrolpx7TLI82OJCIiIuJy\n",
              "LIZhGGaHqKtp06Yxa9Yss2OcVG5RGde+soEDBaXEhQeyeGIc3h6ufwZXREREpKFpspITHa+oYsKb\n",
              "iRwoKKVzkC/zxseqhIqIiIicgoqok9gdBlOWJrPlQCGBvl4suLkfLZp7mR1LRERExGWpiDrJP9dt\n",
              "57MdOXh5WHltfCwdW/maHUlERETEpamIOsGCb9NZ8G0GAM9dH0Nsx0BzA4mIiIi4ARXRs/Tp9hz+\n",
              "sXY7AA8O6caw6BCTE4mIiIi4BxXRs7BlfyFTlm7GMGBcXAduG9TZ7EgiIiIibkNF9AztP3qcW97c\n",
              "SGmlnQu7BvGPa6L+cHF+EREREfmZiugZKCqr5JaFGzlcXE63tn68ckMfPG16K0VERETqQu2pjirt\n",
              "Du5YksSunGME+3vzRnw//Hw8zY4lIiIi4nZUROvAMAweeXcr36Tl0dzLxvyb+tGuRTOzY4mIiIi4\n",
              "JRXROnjlqz28nZiF1QIv/aU3Ue0DzI4kIiIi4rZURE/Te8kH+M/HPwLw+IgeXNot2OREIiIiIu5N\n",
              "RfQ0bMzI54F3UgGYcEEnxv8p3NxAIiIiIo2AiugfSM8r4dZFiVTYHVzZI5j/u+o8syOJiIiINAoq\n",
              "or8jv6SCmxckUHC8kl6hATw/pjc2q9YKFREREXEGFdHfsW5LNhlHjhPashmv39SPZl42syOJiIiI\n",
              "NBoeZgdwZX/t3xGrBeLCA2nt5212HBEREZFGRUX0D9xwfkezI4iIiIg0SvpoXkRERERMoSIqIiIi\n",
              "IqZQERURERERU6iIioiIiIgpVERFRERExBQqoiIiIiJiChVRERERETGFiqiIiIiImEJFVERERERM\n",
              "oSIqIiIiIqZQERURERERU1gMwzDMDlFX1113HeHh4Q3yWna7nYSEBOLi4rDZbA3ymqL33Sx6382h\n",
              "990cet8bnt5zc5j1vnfs2JGpU6f+7j5uWUQbUlFREQEBARQWFuLv7292nCZD77s59L6bQ++7OfS+\n",
              "Nzy95+Zw5fddH82LiIiIiClUREVERETEFCqiIiIiImIKFdE/4O3tzWOPPYa3t7fZUZoUve/m0Ptu\n",
              "Dr3v5tD73vD0npvDld93XawkIiIiIqbQGVERERERMYWKqIiIiIiYQkVUREREREyhIvo7du/ezYAB\n",
              "A4iMjKRfv35s27bN7EiN3pQpUwgPD8disZCcnGx2nCajrKyMP//5z0RGRtKrVy8uv/xy0tLSzI7V\n",
              "JFxxxRVER0cTExPDhRdeyObNm82O1KQsWLAAi8XC6tWrzY7SJISHh3PuuecSExNDTEwMb7/9ttmR\n",
              "moTy8nLuuusuunbtSs+ePbnxxhvNjlTDw+wArmzy5MlMmjSJ+Ph4VqxYQXx8PBs3bjQ7VqM2atQo\n",
              "pk+fzgUXXGB2lCZn0qRJDB06FIvFwksvvcTEiRP56quvzI7V6C1fvpwWLVoA8O677xIfH09KSoq5\n",
              "oZqIjIwMXnvtNfr37292lCbl7bffJiYmxuwYTcpDDz2ExWJh165dWCwWDh06ZHakGjojegq5ubkk\n",
              "JibW/Kth5MiRZGVl6SxRPbvooosIDQ01O0aT4+Pjw1VXXYXFYgGgf//+ZGRkmBuqifiphAIUFhbW\n",
              "/BpI/XI4HEycOJEXX3zRJZe0EXGWkpIS5s+fz7/+9a+a/7+0bdvW5FQ/UxE9haysLEJCQvDwqD5p\n",
              "bLFYCAsLIzMz0+RkIvVv9uzZXHPNNWbHaDLGjx9Phw4dePTRR1m8eLHZcZqEWbNmMXDgQGJjY82O\n",
              "0uSMHz+enj17MmHCBA4fPmx2nEZvz549BAYGMmPGDPr27cuFF17I559/bnasGiqiIlLLjBkzSEtL\n",
              "Y+bMmWZHaTIWLVpEVlYW//znP3nwwQfNjtPobd26lZUrV/LII4+YHaXJ+frrr0lNTSUpKYmgoCBu\n",
              "uukmsyM1elVVVezbt4/u3buTmJjICy+8wJgxY8jJyTE7GqAiekodOnQgOzubqqoqAAzDIDMzk7Cw\n",
              "MJOTidSfZ555hlWrVvHhhx/SvHlzs+M0OTfddBNffvklR44cMTtKo7Z+/XoyMjLo2rUr4eHhfP/9\n",
              "90yaNIlXX33V7GiN3k9/h3p6enLPPfewfv16kxM1fmFhYVitVm644QYAevfuTadOndiyZYvJyaqp\n",
              "iJ5CmzZt6NOnD0uWLAFg5cqVhIaGEhERYXIykfoxa9Ysli5dyqefflrre4tSfwoKCjh48GDNz1ev\n",
              "Xk2rVq0IDAw0MVXjd/vtt5OdnU1GRgYZGRn079+fefPmcfvtt5sdrVErKSmhoKCg5udLly6ld+/e\n",
              "5gVqIoKCgrjsssv4+OOPAUhPTyc9PZ3zzjvP5GTVdNX875g7dy7x8fHMmDEDf39/FixYYHakRm/y\n",
              "5MmsW7eOQ4cOceWVV+Ln56cLxBrA/v37ue++++jcuTOXXHIJUD2b+IcffjA5WeNWWFjI6NGjKS0t\n",
              "xWq10rp1a9auXasLlqRRysnJYeTIkdjtdgzDoHPnzixatMjsWE3CnDlzmDBhAg8++CBWq5W5c+fS\n",
              "vn17s2MBmjUvIiIiIibRR/MiIiIiYgoVURERERExhYqoiIiIiJhCRVRERERETKEiKiIiIiKmUBEV\n",
              "EREREVOoiIqIiIiIKVRERURERMQUKqIiIiIiYgoVURERERExhYqoiIiIiJji/wHJa+2cf+Po1AAA\n",
              "AABJRU5ErkJggg==\n",
              "\">\n",
              "      </div>\n",
              "      <script type=\"text/javascript\">\n",
              "        (() => {\n",
              "          const chartElement = document.getElementById(\"chart-e727c2b0-d0b8-4929-9cbc-0db80bf8216f\");\n",
              "          async function getCodeForChartHandler(event) {\n",
              "            const chartCodeResponse =  await google.colab.kernel.invokeFunction(\n",
              "                'getCodeForChart', [\"chart-e727c2b0-d0b8-4929-9cbc-0db80bf8216f\"], {});\n",
              "            const responseJson = chartCodeResponse.data['application/json'];\n",
              "            await google.colab.notebook.addCell(responseJson.code, 'code');\n",
              "          }\n",
              "          chartElement.onclick = getCodeForChartHandler;\n",
              "        })();\n",
              "      </script>\n",
              "      <style>\n",
              "        .colab-quickchart-chart-with-code  {\n",
              "            display: block;\n",
              "            float: left;\n",
              "            border: 1px solid transparent;\n",
              "        }\n",
              "\n",
              "        .colab-quickchart-chart-with-code:hover {\n",
              "            cursor: pointer;\n",
              "            border: 1px solid #aaa;\n",
              "        }\n",
              "      </style>"
            ]
          },
          "metadata": {}
        },
        {
          "output_type": "display_data",
          "data": {
            "text/plain": [
              "<google.colab._quickchart_helpers.SectionTitle at 0x7e1821c3d990>"
            ],
            "text/html": [
              "<h4 class=\"colab-quickchart-section-title\">Faceted distributions</h4>\n",
              "<style>\n",
              "  .colab-quickchart-section-title {\n",
              "      clear: both;\n",
              "  }\n",
              "</style>"
            ]
          },
          "metadata": {}
        },
        {
          "output_type": "display_data",
          "data": {
            "text/plain": [
              "from matplotlib import pyplot as plt\n",
              "import seaborn as sns\n",
              "figsize = (12, 1.2 * len(_df_3['Day_of_Week'].unique()))\n",
              "plt.figure(figsize=figsize)\n",
              "sns.violinplot(_df_3, x='Count', y='Day_of_Week', inner='stick', palette='Dark2')\n",
              "sns.despine(top=True, right=True, bottom=True, left=True)"
            ],
            "text/html": [
              "      <div class=\"colab-quickchart-chart-with-code\" id=\"chart-5c0de96a-5c39-431d-bc44-bfbfa83096f1\">\n",
              "        <img style=\"width: 180px;\" src=\"data:image/png;base64,iVBORw0KGgoAAAANSUhEUgAAA+QAAAK8CAYAAABm93U/AAAAOXRFWHRTb2Z0d2FyZQBNYXRwbG90\n",
              "bGliIHZlcnNpb24zLjcuMSwgaHR0cHM6Ly9tYXRwbG90bGliLm9yZy/bCgiHAAAACXBIWXMAAA9h\n",
              "AAAPYQGoP6dpAAAwFUlEQVR4nO3deZBV9Z3//9eV1m50FJeYSDRAUJAIYoOiQBRtt6BZjNEEx0mi\n",
              "0YjGyqpOEmqyGGPsIZtZnEQZdRhHJyuWMetEY5PEXYRWI1EDQoj7TCLiQjc0nN8f/uzvMIpC092f\n",
              "pn08qm5V33PPvfd9qj5V+PSce2+tqqoqAAAAQK/aovQAAAAA8GokyAEAAKAAQQ4AAAAFCHIAAAAo\n",
              "QJADAABAAYIcAAAAChDkAAAAUIAgBwAAgAIEOQAAABQgyAEAAKAAQQ4AAAAFCHIAAAAoQJADAABA\n",
              "AYIcAAAAChDkAAAAUIAgBwAAgALqSg9AUlVV2trakiQNDQ2p1WqFJwIAAKCnOUPeB7S1taWpqSlN\n",
              "TU2dYQ4AAED/JsgBAACgAEEOAAAABQhyAAAAKECQAwAAQAGCHAAAAAoQ5AAAAFCAIAcAAIACBDkA\n",
              "AAAUIMgBAACgAEEOAAAABQhyAAAAKECQAwAAQAGCHAAAAAoQ5AAAAFCAIAcAAIACBDkAAAAUIMgB\n",
              "AACgAEEOAAAABQhyAAAAKECQAwAAQAGCHAAAAAoQ5AAAAFCAIAcAAIACBDkAAAAUIMgBAACgAEEO\n",
              "AAAABQhyAAAAKECQAwAAQAGCHAAAAAoQ5AAAAFCAIAcAAIACBDkAAAAUIMgBAACggF4N8quvvjr7\n",
              "7rtvGhsbM2rUqBx66KFZu3Ztb44AAAAAfUJdb73Ro48+munTp+fOO+/M0KFDkyTz589PrVbrrREA\n",
              "AACgz+i1M+SPP/54BgwYkB133LFz2/jx41Or1TJs2LC0trZ2bt9vv/0yd+7cJMkhhxySc845Jwcd\n",
              "dFB23333nHHGGb01MgAAAPSYXjtDPnbs2Bx44IEZOnRoDj744EyePDknnnhidt1111d87uLFi9PS\n",
              "0pLVq1dnr732yi233JJJkya9aL/29va0t7evs62+vj719fXddhwAAADQHXrtDPkWW2yROXPm5Oab\n",
              "b87UqVNz0003ZfTo0Vm0aNErPnfatGmpq6vLwIED09jYmMWLF7/kfs3NzRk0aNA6t+bm5u4+FAAA\n",
              "ANhkvXaG/AWjRo3KqFGjcvrpp2fq1Km59tprU1dXlzVr1nTu09bWts5zGhoaOv8eMGBAOjo6XvK1\n",
              "Z8yYkbPOOmudbc6OAwAA0Bf12hnyhx9+ODfddFPn/SeffDJLlizJ7rvvnj322CO33XZbkuT222/P\n",
              "/fff36X3qK+vz3bbbbfOTZADAADQF/XaGfKOjo6cd955WbJkSbbeeut0dHTkpJNOyjHHHJNdd901\n",
              "J510Ui655JJMmjQpo0eP7q2xAAAAoIhaVVVV6SFe7VauXJmmpqYkSUtLSwYOHFh4IgAAAHpar12y\n",
              "DgAAAPw/ghwAAAAKEOQAAABQgCAHAACAAgQ5AAAAFCDIAQAAoABBDgAAAAUIcgAAAChAkAMAAEAB\n",
              "ghwAAAAKEOQAAABQgCAHAACAAgQ5AAAAFCDIAQAAoABBDgAAAAUIcgAAAChAkAMAAEABghwAAAAK\n",
              "EOQAAABQgCAHAACAAgQ5AAAAFCDIAQAAoABBDgAAAAUIcgAAAChAkAMAAEABghwAAAAKEOQAAABQ\n",
              "gCAHAACAAgQ5AAAAFCDIAQAAoABBDgAAAAUIcgAAACigVlVVVXqIV7uqqtLW1pYkaWhoSK1WKzwR\n",
              "AAAAPU2QAwAAQAEuWQcAAIACBDkAAAAUIMgBAACgAEEOAAAABQhyAAAAKECQAwAAQAGCHAAAAAoQ\n",
              "5AAAAFCAIAcAAIACBDkAAAAUIMgBAACgAEEOAAAABQhyAAAAKECQAwAAQAF1pQcAgPWpqiptbW1J\n",
              "koaGhtRqtcITAQB0H2fIAeiz2tra0tTUlKamps4wBwDoLwQ5AAAAFCDIAQAAoABBDgAAAAUIcgAA\n",
              "AChAkAMAAEABghwAAAAKEOQAAABQgCAHAACAAgQ5AAAAFCDIAQAAoABBDgAAAAUIcgAAAChAkAMA\n",
              "AEABghwAAAAKEOQAAABQgCAHAACAAgQ5AAAAFCDIAQAAoABBDgAAAAUIcgAAAChAkAMAAEABghwA\n",
              "AAAKEOQAAABQgCAHAACAAgQ5AAAAFCDIAQAAoABBDgAAAAUIcgAAAChAkAMAAEABghwAAAAKEOQA\n",
              "AABQgCAHAACAAgQ5AAAAFCDIAQAAoIAeD/Jhw4blta99bVavXt25raWlJbVaLR//+Md7+u0BAACg\n",
              "T+qVM+RDhgzJtdde23n/sssuy3777dcbbw0AAAB9Uq8E+Qc+8IFcfvnlSZKnnnoqt956a6ZOnZok\n",
              "WbNmTf7xH/8xY8aMyZgxY/KRj3wkq1atSpKcfPLJOf3003PYYYdl5MiRede73tX52Etpb2/PihUr\n",
              "1rm1t7f3/AECAADARuqVIH/zm9+cpUuX5pFHHsn3vve9vPvd786AAQOSJLNmzcodd9yRO++8M62t\n",
              "rVm8eHEuvPDCzue2trbmpz/9af74xz/m8ccfz5w5c9b7Ps3NzRk0aNA6t+bm5h4/PgAAANhYvfal\n",
              "bu973/sye/bsXH755TnllFM6t19//fU5+eSTU19fn7q6upx22mm57rrrOh8/9thjs/XWW2fAgAHZ\n",
              "f//9s3jx4vW+x4wZM/LUU0+tc5sxY0aPHhcAAAB0RV1vvdH73//+jB8/PiNHjsyIESPWu1+tVlvn\n",
              "fkNDQ+ffAwYMSEdHx3qfW19fn/r6+k0fFgAAAHpYr50hf/3rX5/m5ubMnDlzne2HH354rrjiiqxa\n",
              "tSodHR259NJLc+SRR/bWWAAAAFBEr50hT57/crf/a/r06Vm8eHHGjx+fJDnkkEP8HBoAAAD9Xq2q\n",
              "qqr0EADwUlauXJmmpqYkSUtLSwYOHFh4IgCA7tNrl6wDAAAA/48gBwAAgAIEOQAAABQgyAEAAKAA\n",
              "QQ4AAAAFCHIAAAAoQJADAABAAYIcAAAAChDkAAAAUIAgBwAAgAIEOQAAABQgyAEAAKAAQQ4AAAAF\n",
              "CHIAAAAoQJADAABAAYIcAAAAChDkAAAAUIAgBwAAgAIEOQAAABQgyAEAAKAAQQ4AAAAFCHIAAAAo\n",
              "QJADAABAAYIcAAAAChDkAAAAUIAgBwAAgAIEOQAAABQgyAEAAKAAQQ4AAAAFCHIAAAAoQJADAABA\n",
              "AYIcAAAACqhVVVWVHgIAXkpVVWlra0uSNDQ0pFarFZ4IAKD7CHIAAAAowCXrAAAAUIAgBwAAgAIE\n",
              "OQAAABQgyAEAAKAAQQ4AAAAFCHIAAAAoQJADAABAAYIcAAAAChDkAAAAUIAgBwAAgAIEOQAAABQg\n",
              "yAEAAKAAQQ4AAAAF1JUeAADom6qqSltbW5KkoaEhtVqt8EQA0L84Qw4AvKS2trY0NTWlqampM8wB\n",
              "gO4jyAEAAKAAQQ4AAAAFCHIAAAAoQJADAABAAYIcAAAAChDkAAAAUIAgBwAAgAIEOQAAABQgyAEA\n",
              "AKAAQQ4AAAAFCHIAAAAoQJADAABAAYIcAAAAChDkAAAAUIAgBwAAgAIEOQAAABQgyAEAAKAAQQ4A\n",
              "AAAFCHIAAAAoQJADAABAAYIcAAAAChDkAAAAUIAgBwAAgAIEOQAAABQgyAEAAKAAQQ4AAAAFCHIA\n",
              "AAAoQJADAABAAYIcAAAAChDkAAAAUIAgBwAAgAIEOQAAABQgyAEAAKAAQQ4AAAAF9FqQNzY2prGx\n",
              "MXvttVcGDBjQeX/atGmZO3duGhsbe2sUAAAAKK6ut96otbU1SbJ06dI0NjZ23k+SuXPn9tYYAAAA\n",
              "0Cf0mUvWOzo6cuaZZ2afffbJ6NGjM2/evCTPB/z222/fud8zzzyTWq32kq/R3t6eFStWrHNrb2/v\n",
              "jfEBAABgo/SZIL/vvvty0kkn5a677spHPvKR/NM//dNGv0Zzc3MGDRq0zq25ubkHpgUAAIBN02eC\n",
              "fI899sgBBxyQJJk0aVIWL1680a8xY8aMPPXUU+vcZsyY0d2jAgAAwCbrtc+Qv5KGhobOvwcMGJCO\n",
              "jo4kSV1dXdasWdP5WFtb23pfo76+PvX19T03JAAAAHSTPnOGfH122WWXVFWVhQsXJkmuuOKKwhMB\n",
              "AADApuvzQV5XV5dvf/vbedvb3pYJEyZk9erVpUcCAACATVarqqoqPQQA0PesXLkyTU1NSZKWlpYM\n",
              "HDiw8EQA0L/0+TPkAAAA0B8JcgAAAChAkAMAAEABghwAAAAKEOQAAABQgCAHAACAAgQ5AAAAFCDI\n",
              "AQAAoABBDgAAAAUIcgAAAChAkAMAAEABghwAAAAKEOQAAABQgCAHAACAAgQ5AAAAFCDIAQAAoABB\n",
              "DgAAAAUIcgAAAChAkAMAAEABghwAAAAKEOQAAABQgCAHAACAAgQ5AAAAFCDIAQAAoABBDgAAAAUI\n",
              "cgAAAChAkAMAAEABghwAAAAKEOQAAABQgCAHAACAAgQ5AAAAFCDIAQAAoIBaVVVV6SEAgL6nqqq0\n",
              "tbUlSRoaGlKr1QpPBAD9iyAHAACAAlyyDgAAAAUIcgAAAChAkAMAAEABghwAAAAKEOQAAABQgCAH\n",
              "AACAAgQ5AAAAFCDIAQAAoABBDgAAAAUIcgAAAChAkAMAAEABghwAAAAKEOQAAABQgCAHAACAAupK\n",
              "DwAA9H1VVaWtrS1J0tDQkFqtVngiANj8OUMOALyitra2NDU1pampqTPMAYBNI8gBAACgAEEOAAAA\n",
              "BQhyAAAAKKBLQf7Xv/71RdseeOCBTR4GAAAAXi26FOTvfOc7097e3nl/6dKlefvb395tQwEAAEB/\n",
              "16Ugf8973pMTTzwxSfLoo4/m6KOPzoUXXtitgwEAAEB/1qXfIf/IRz6SpUuX5vTTT89tt92WL37x\n",
              "izn66KO7ezYAAADotzbqDPndd9/deXvve9+b+fPn54gjjsiIESNy991399SMAAAA0O/UqqqqNnTn\n",
              "N77xjet/oVotDz74YLcMBQD0LStXrkxTU1OSpKWlJQMHDiw8EQBs/jbqkvUlS5b01BwAAADwqtLl\n",
              "3yGfM2dOLrjggiTJI488knvuuafbhgIAAID+rktB/rnPfS6XXnppZs+eneT5y9VPP/307pwLAAAA\n",
              "+rUuBflPfvKT/OxnP8s222yTJBk8eHCeeeaZbh0MAAAA+rMuBfnAgQMzYMCAdbZtxHfDAQAAwKte\n",
              "l36HfOjQofn973+fWq2W1atX54ILLkhjY2M3jwYAAAD9V5eC/Fvf+lZOOumk3HPPPdlmm23S1NSU\n",
              "q666qrtnAwAAgH6rS0H+ute9Lr/61a/y3HPPpaqqzs+SAwAAABumS58h7+joyNe+9rWcc8452Wab\n",
              "bbJ48eLccMMN3T0bAAAA9FtdOkP+4Q9/OGvWrMmNN96YJNlpp50ybdq0zJs3r1uHAwAAgP6qS0F+\n",
              "6623prW1NePGjUuSbL/99lm9enW3DgYAAAD9WZcuWW9oaFjn/po1a7J27dpuGQgAAABeDboU5GPH\n",
              "js2VV16ZtWvXZtGiRTnjjDNyyCGHdPNoAAAA0H91Kci//vWv5/e//30ee+yxvPnNb84WW2yRmTNn\n",
              "dvdsAAAA0G/VqqqqNnTnz3/+8zn00EMzadKkbLXVVj05FwDQh6xcuTJNTU1JkpaWlgwcOLDwRACw\n",
              "+duoM+RPPPFETj/99Oywww45/PDD86UvfSm33npr1qxZ01PzAQAAQL+0UUH+3e9+N/fdd18WLVqU\n",
              "U089NcuWLcv73//+7LDDDnnrW9/aUzMCAABAv9Olnz0bPHhwjjvuuAwePDi77LJLvve976W1tbWb\n",
              "RwMAAID+a6OC/He/+13mzp2blpaWPPzww5k4cWKmTJmSn//85xkxYkRPzQgAAAD9zkYF+SGHHJKJ\n",
              "Eyfmc5/7XKZOndpTMwEAAEC/t1GfIf/d736Xo48+Ol/96lezxx575MQTT8ysWbPywAMP9NR8AAAA\n",
              "0C9t1M+e/W+rVq3KbbfdlpaWlvznf/5nnnnmmTz00EPdPR8A0Af42TMA6H5d+lK3Rx55JC0tLZk7\n",
              "d25uuOGGPPHEEznwwAO7ezYAAADotzYqyE877bT89re/zSOPPJJJkyalqakpV155ZSZMmJC6ui61\n",
              "PQAAALwqbVRFv+ENb8hll12WiRMnZsstt1zvfu3t7amvr3/Z17r66qvzpS99KWvWrElbW1te//rX\n",
              "5/rrr88WW6z/Y+3nnntuPv3pT6ehoWFjxgYAAIA+p8ufIX8548ePz/z589f7+KOPPpq99947d955\n",
              "Z4YOHZokmT9/fsaNG5darbb+YWu1PPnkk9l+++27e2QA4GX4DDkAdL+N+pb1DfVKjf/4449nwIAB\n",
              "2XHHHTu3jR8/PrVaLeecc04mTJiQxsbGTJkyJffff3+S5IwzzkiSHHTQQWlsbMwTTzzRE6MDAABA\n",
              "ryhyhnzt2rV597vfnZaWlhx88MGZPHlyTjzxxOy666757//+7+y8885Jku9///uZPXt2fvWrXz0/\n",
              "7CucIW9vb097e/s62+rr61/x8nkA4OU5Qw4A3a9HzpC/4ptusUXmzJmTm2++OVOnTs1NN92U0aNH\n",
              "Z9GiRbnuuusyadKkjBkzJuedd15aW1s3+HWbm5szaNCgdW7Nzc09dyAAAADQRT1yhnzcuHFZsGDB\n",
              "Rj1n6tSpmTx5cr7xjW/kjjvuyO6775677747U6ZMyfLly58f1hlyACjCGXIA6H4bdYb8hbPNN9xw\n",
              "w8vuN3HixJd9/OGHH85NN93Uef/JJ5/MkiVLMmjQoGy55ZYZPHhwqqrKRRddtM7ztt122zz11FPr\n",
              "fd36+vpst91269zEOAAAAH3RRgX5j370oyTJOeec87L7ffe7333Zxzs6OnLeeedl5MiRaWxszEEH\n",
              "HZSTTjopH/vYx3LCCSdk9OjRmTBhQoYMGbLO884+++wcccQRvtQNAACAzd5GXbJ+4IEHZtttt82t\n",
              "t97aedna/3b11Vd363AAQN/gknUA6H51G7PzT3/60/z617/OwoULc8wxx/TUTAAAANDvbVSQ77DD\n",
              "Dpk2bVpe85rX5LDDDuupmQAAAKDf26ggf8HBBx+cr3zlK7nuuuuSJG95y1vysY99LHV1XXo5AAAA\n",
              "eNXpUkGfffbZWbRoUc4888zUarVceuml+fOf/5xvfetb3T0fAAAA9EtdCvKWlpa0trZmiy2e/5L2\n",
              "t771rRk/fny3DgYAAAD92Ub97NkLqqrK2rVr17m/EV/WDgAAAK96XTpDPnXq1Bx55JE5+eSTkyRX\n",
              "XHFFjjrqqO6cCwAAAPq1LgX5zJkzM2vWrFx77bVJkuOPPz7Tp0/v1sEAAACgP6tVPXCt+ac+9anM\n",
              "nDmzu18WAChk5cqVaWpqSvL8d8kMHDiw8EQAsPnr0mfIX8kLP4cGAAAAvLQeCXJf8AYAAAAvr0eC\n",
              "vFar9cTLAgAAQL/RI0EOAAAAvDyXrAMAAEABXQrySy65JM8999x6H//1r3/d5YEAAADg1aBLQf67\n",
              "3/0uw4cPzyc+8YksWrToRY/vvPPOmzwYAAAA9GddCvKrrroqd911V3baaaccdthhOeqoo/KLX/yi\n",
              "u2cDAACAfqvLnyF/3etel8985jP593//99x7771573vfm1GjRuU3v/lNd84HAAAA/VJdV57U1taW\n",
              "K6+8Mv/yL/+SrbfeOl/5yldy/PHHZ8GCBTn++OOzdOnSbh4TAAAA+pcuBfmwYcNyxBFHZNasWZkw\n",
              "YULn9v322y9HHHFEtw0HAAAA/VWXgnzBggUZPHjwSz72r//6r5s0EAAAALwadCnIBw8enEceeSR/\n",
              "+MMf0tbW1rn9He94R7cNBgAAAP1Zl4L88ssvz3nnnZe//e1vGTFiRO66665MnDhRkAMAAMAG6tK3\n",
              "rF944YVZsGBBdt9999x555254YYbMnLkyO6eDQAAAPqtLgX5VlttlR122CEdHR1JkilTpqS1tbU7\n",
              "5wIAAIB+rUuXrNfX16eqqowcOTLf+MY3MnTo0DzzzDPdPRsAAAD0W10K8vPPPz8rVqzIl7/85Zxx\n",
              "xhlZvnx5vvOd73T3bAAAANBvbXSQ33HHHbn44ouzcOHCJMmYMWNywQUXrPN75AAAAMDL26jPkN9y\n",
              "yy058sgjs/vuu+f888/PF7/4xQwfPjxvectbctttt/XUjAAAANDvbNQZ8i9/+cu5/PLLc+yxx3Zu\n",
              "O/bYY3PAAQekubk511xzTXfPBwAAAP3SRp0hv/fee9eJ8Rccc8wxnZewAwAAAK9so4J86623Xu9j\n",
              "22yzzSYPAwAAAK8WG3XJent7e+65555UVfWix9ra2rptKAAAAOjvatVL1fV6DBs2LLVa7aVfqFbL\n",
              "gw8+2G2DAQB9R1VVnf/zvaGhYb3/PQAAbLiNCnIAAACge2zUZ8gBAACA7iHIAQAAoABBDgAAAAUI\n",
              "cgAAAChAkAMAAEABghwAAAAKEOQAAABQgCAHAACAAgQ5AAAAFCDIAQAAoABBDgAAAAUIcgAAAChA\n",
              "kAMAAEABdaUHAADYnFVVlba2tiRJQ0NDarVa4YkA2Fw4Qw4AsAna2trS1NSUpqamzjAHgA0hyAEA\n",
              "AKAAQQ4AAAAFCHIAAAAoQJADAABAAYIcAAAAChDkAAAAUIAgBwAAgAIEOQAAABQgyAEAAKAAQQ4A\n",
              "AAAFCHIAAAAoQJADAABAAYIcAAAAChDkAAAAUIAgBwAAgAIEOQAAABQgyAEAAKAAQQ4AAAAFCHIA\n",
              "AAAoQJADAABAAYIcAAAAChDkAAAAUIAgBwAAgAIEOQAAABQgyAEAAKAAQQ4AAAAFCHIAAAAoQJAD\n",
              "AABAAYIcAAAAChDkAAAAUIAgBwAAgAIEOQAAABQgyAEAAKAAQQ4AAAAF9GiQf+ELX8gHP/jBzvs3\n",
              "3nhjarVa5s6d27ntjDPOyGc/+9kNfs3jjz8+s2fP7sYpAQAAoPf1aJA3NTWtE98tLS054IADXrTt\n",
              "0EMP7ckxAAAAoM/p0SCfOHFiHnnkkTz00ENJkrlz5+Zzn/tcZ5A/+uijWbZsWfbbb7+cdtpp2X//\n",
              "/TN27NhMnz49q1atSpLcd999mTx5ckaPHp13vvOdWbFixXrfr729PStWrFjn1t7e3pOHCAAAAF3S\n",
              "o0G+1VZbZfLkyWlpaUl7e3uWLFmSo48+Og899FDa2trS0tKSSZMm5eyzz85BBx2U22+/PXfddVfW\n",
              "rl2bb37zm0mS973vfTn11FNz77335otf/GJ++9vfrvf9mpubM2jQoHVuzc3NPXmIAAAA0CV1Pf0G\n",
              "L1y2PnTo0Oy///5Jnj9zfsstt2Tu3LlpamrKt7/97dxyyy35+te/niRZuXJlBgwYkBUrVqS1tTUn\n",
              "n3xykmTvvffOgQceuN73mjFjRs4666x1ttXX1/fMgQEAAMAm6JUgv+yyyzJkyJAccsghSZKDDz44\n",
              "LS0taWlpyezZs/Otb30rc+bMyciRI9d57ktdnl6r1db7XvX19QIcAACAzUKP/+zZhAkT8sQTT+Sq\n",
              "q65aJ8i///3v59FHH83++++fd77znZk5c2Y6OjqSJE8++WQWLVqU7bbbLuPGjcsVV1yRJLn33ntz\n",
              "44039vTIAAAA0ON6PMi33HLLHHjggXn66aczatSoJMnIkSPz9NNP58ADD8yWW26ZCy+8MAMHDkxj\n",
              "Y2PGjh2bww47LEuXLk2SXHHFFZk1a1bGjBmTz3zmM5kyZUpPjwwAAAA9rlZVVVV6CACAzdXKlSvT\n",
              "1NSU5Pmfcx04cGDhiQDYXPT4GXIAAADgxQQ5AAAAFCDIAQAAoABBDgAAAAUIcgAAAChAkAMAAEAB\n",
              "ghwAAAAKEOQAAABQgCAHAACAAgQ5AAAAFCDIAQAAoABBDgAAAAUIcgAAAChAkAMAAEABghwAAAAK\n",
              "EOQAAABQgCAHAACAAgQ5AAAAFCDIAQAAoABBDgAAAAUIcgAAAChAkAMAAEABghwAAAAKEOQAAABQ\n",
              "gCAHAACAAgQ5AAAAFCDIAQAAoABBDgAAAAUIcgAAAChAkAMAAEABghwAAAAKEOQAAABQQK2qqqr0\n",
              "EAAAm6uqqtLW1pYkaWhoSK1WKzwRAJsLQQ4AAAAFuGQdAAAAChDkAAAAUIAgBwAAgAIEOQAAABQg\n",
              "yAEAAKAAQQ4AAAAFCHIAAAAoQJADAABAAYIcAAAAChDkAAAAUIAgBwAAgAIEOQAAABQgyAEAAKAA\n",
              "QQ4AAAAF1JUeAAAAAF5OVVVpa2tLkjQ0NKRWqxWeqHs4Qw4AAECf1tbWlqampjQ1NXWGeX8gyAEA\n",
              "AKAAQQ4AAAAFCHIAAAAoQJADAABAAYIcAAAAChDkAAAAUIAgBwAAgAIEOQAAABQgyAEAAKAAQQ4A\n",
              "AAAFCHIAAAAoQJADAABAAYIcAAAAChDkAAAAUIAgBwAAgAIEOQAAABQgyAEAAKAAQQ4AAAAFCHIA\n",
              "AAAoQJADAABAAYIcAAAAChDkAAAAUIAgBwAAgAIEOQAAABQgyAEAAKAAQQ4AAAAFCHIAAAAoQJAD\n",
              "AABAAYIcAAAAChDkAAAAUIAgBwAAgAIEOQAAABQgyAEAAKCAPhPkw4YNy5577pnGxsY0Njbmgx/8\n",
              "4Iv2+eAHP5iWlpYC0wEAAED3qis9wP/2gx/8II2NjS/52Jo1a3LppZf27kAAAADQQ/rMGfL/a/bs\n",
              "2Wlqaspxxx2XvffeO7fffnsOOeSQXHPNNaVHAwAAgE3Wp86QT5s2LQMHDkySnHTSSbntttuyYMGC\n",
              "7Lnnnhv0/Pb29rS3t6+zrb6+PvX19d0+KwAAAGyKPnWG/Ac/+EFaW1vT2tqaHXbYIZMnT97gGE+S\n",
              "5ubmDBo0aJ1bc3NzD04MAAAAXdOnzpD/X3/3d3+3UfvPmDEjZ5111jrbnB0HAACgL+rTQb6xXJ4O\n",
              "AADA5qJPXbIOAAAArxa1qqqq0kMAAADA+qxcuTJNTU1JkpaWls4vA9/cOUMOAAAABQhyAAAAKECQ\n",
              "AwAAQAGCHAAAAAoQ5AAAAFCAIAcAAIACBDkAAAAUIMgBAACgAEEOAAAABQhyAAAAKECQAwAAQAGC\n",
              "HAAAAAoQ5AAAAFCAIAcAAIACBDkAAAAUIMgBAACgAEEOAAAABQhyAAAAKECQAwAAQAGCHAAAAAoQ\n",
              "5AAAAFCAIAcAAIACBDkAAAAUIMgBAACgAEEOAAAABQhyAAAAKECQAwAAQAGCHAAAAAoQ5AAAAFCA\n",
              "IAcAAIACBDkAAAAUIMgBAACggFpVVVXpIQAAAGB9qqpKW1tbkqShoSG1Wq3wRN1DkAMAAEABLlkH\n",
              "AACAAgQ5AAAAFCDIAQAAoABBDgAAAAUIcgAAAChAkAMAAEABghwAAAAKEOQAAABQgCAHAACAAgQ5\n",
              "AAAAFCDIAQAAoABBDgAAAAUIcgAAAChAkAMAAEABdaUHAACoqiptbW1JkoaGhtRqtcITAUDPc4Yc\n",
              "ACiura0tTU1NaWpq6gxzAOjvBDkAAAAUIMgBAACgAEEOAAAABQhyAAAAKECQAwAAQAGCHAAAAAoQ\n",
              "5AAAAFCAIAcAAIACBDkAAAAUIMgBAACgAEEOAAAABQhyAAAAKECQAwAAQAGCHAAAAAoQ5AAAAFCA\n",
              "IAcAAIACBDkAAAAUIMgBAACgAEEOAAAABQhyAAAAKECQAwAAQAGCHAAAAAoQ5AAAAFCAIAcAAIAC\n",
              "BDkAAAAUIMgBAACgAEEOAAAABQhyAAAAKECQAwAAQAGCHAAAAAoQ5AAAAFCAIAcAAIACBDkAAAAU\n",
              "IMgBAACggLrefsPGxsYkyapVq3L//fdn7733TpLsueee+cEPftDb4wAAAEARvR7kra2tSZKlS5em\n",
              "sbGx8z4AAAC8mvSZS9ZrtVqWL1/eef81r3lNli5dmiT505/+lLe+9a2ZMGFCxo4dm4suuuglX6O9\n",
              "vT0rVqxY59be3t4L0wMAAMDG6TNBvj5r1qzJ3//93+drX/ta7rjjjtx6662ZNWtW7rjjjhft29zc\n",
              "nEGDBq1za25uLjA1AAAAvLxev2R9Y91///259957c8IJJ3Rue/rpp7Nw4cJMmDBhnX1nzJiRs846\n",
              "a51t9fX1vTInAAAAbIw+E+QDBgzImjVrOu+3tbUlSaqqyo477rhBnzWvr68X4AAAAGwW+swl63vs\n",
              "sUduu+22JMnVV1+dZ599Nsnz376+3Xbb5d/+7d869120aFH+9re/FZkTAAAAukOfCfILL7wwH/vY\n",
              "xzJ+/PgsWLAgO+20U5Kkrq4uP/vZz3L11Vdn7NixGT16dE499dSsXLmy8MQAAADQdbWqqqrSQwAA\n",
              "r24rV65MU1NTkqSlpSUDBw4sPBEA9Lw+c4YcAAAAXk0EOQAAABQgyAEAAKAAQQ4AAAAFCHIAAAAo\n",
              "QJADAABAAYIcAAAAChDkAAAAUIAgBwAAgAIEOQAAABQgyAEAAKAAQQ4AAAAFCHIAAAAoQJADAABA\n",
              "AYIcAAAAChDkAAAAUIAgBwAAgAIEOQAAABQgyAEAAKAAQQ4AAAAFCHIAAAAoQJADAABAAYIcAAAA\n",
              "ChDkAAAAUIAgBwAAgAIEOQAAABQgyAEAAKAAQQ4AAAAFCHIAAAAoQJADAABAAYIcAAAAChDkAAAA\n",
              "UECtqqqq9BAAwKtbVVVpa2tLkjQ0NKRWqxWeCAB6niAHAACAAlyyDgAAAAUIcgAAAChAkAMAAEAB\n",
              "ghwAAAAKEOQAAABQgCAHAACAAgQ5RbS3t+fcc89Ne3t76VF4lbIGKc0apDRrkNKsQUrrC2vQ75BT\n",
              "xIoVKzJo0KA89dRT2W677UqPw6uQNUhp1iClWYOUZg1SWl9Yg86QAwAAQAGCHAAAAAoQ5AAAAFCA\n",
              "IKeI+vr6fP7zn099fX3pUXiVsgYpzRqkNGuQ0qxBSusLa9CXugEAAEABzpADAABAAYIcAAAAChDk\n",
              "AAAAUIAgBwAAgAIEOd3uT3/6UyZPnpyRI0dmwoQJuffee1+0z9q1a3POOedkzJgxGTVqVE499dSs\n",
              "WrUqSXLPPfdkypQpGTVqVMaMGZNTTjklK1eu7O3DYDO2qWvwfzv55JNTq9WyfPnyXpic/qI71uCy\n",
              "Zcvy9re/PXvuuWf22muvfPvb3+7NQ2Az1x1rcObMmdlrr73S2NiYiRMn5vbbb+/NQ2Az9tGPfjTD\n",
              "hg1LrVZLa2vreve77LLLMmLEiOy+++457bTTsnr16g16DF7Jpq7BG264Ifvvv3/22muvjB49Op/8\n",
              "5Cezdu3aHplVkNPtTj/99EyfPj0PPPBAPvWpT+Xkk09+0T6XXXZZ5s+fn/nz5+ePf/xjtthii3zz\n",
              "m99MkjQ0NOSiiy7Kfffdl7vuuivPPvtsZs6c2ctHweZsU9fgC66++upsueWWvTQ1/cmmrsGqqnLs\n",
              "scfm/e9/f+6///4sXLgw73nPe3r5KNicbeoabG1tzXe+853cfvvtaW1tzYc//OF8+MMf7uWjYHN1\n",
              "/PHH58Ybb8zQoUPXu8+SJUvy2c9+Nr///e+zaNGiPP7445k1a9YrPgYbYlPX4A477JDvf//7Wbhw\n",
              "Ye68887cfPPNueKKK3pkVkFOt3riiScyb968vPe9702SHHfccfnLX/6SRYsWrbPfXXfdlcMPPzxb\n",
              "bbVVarVajjrqqPzHf/xHkmTEiBEZO3ZskmTAgAGZMGFCli5d2qvHwearO9Zgkjz++OO54IIL8vWv\n",
              "f71X52fz1x1r8De/+U3q6+vz7ne/u3P/173udb13EGzWumMN1mq1rF69Os8++2ySZPny5dltt916\n",
              "90DYbE2ZMuUV18uPf/zjvOMd78guu+ySWq2WM844I9/73vde8THYEJu6BseNG5fhw4cnef5kYWNj\n",
              "Y4/1iCCnW/3lL3/J4MGDU1dXl+T5f9CHDBmSZcuWrbPfvvvum2uvvTYrVqzI6tWr88Mf/vAlF/mz\n",
              "zz6bSy+9NMccc0xvjE8/0F1r8LTTTsuXv/zlbLvttr05Pv1Ad6zBhQsXZuedd84JJ5yQcePG5dhj\n",
              "j82DDz7Y24fCZqo71uA+++yTT3ziE3njG9+Y3XbbLRdeeKGPTdCtli1bts7Zy2HDhnWu0Zd7DLrL\n",
              "hq6zxx57LD/+8Y/ztre9rUfmEOQUcfLJJ2fq1Kk5+OCDc/DBB2fkyJGd/+HwglWrVmXatGk58sgj\n",
              "c+yxxxaalP7q5dbgpZdemiFDhuTQQw8tPCX92cutwY6Ojtxwww357Gc/mwULFuQtb3mLS9bpdi+3\n",
              "BpcsWZKrr746ixYtykMPPZRPfOITmTZtWuGJAXrXihUr8va3vz2f/OQns99++/XIewhyutUb3vCG\n",
              "PProo+no6Ejy/Ocgly1bliFDhqyzX61Wy7nnnpsFCxbk5ptv7vzChBesXr0606ZNy+DBg1/0uV54\n",
              "Od2xBltaWvKTn/wkw4YNy7Bhw5IkY8eOzYIFC3r1WNg8dccaHDJkSMaNG9d5/33ve1/mz5/vS43Y\n",
              "IN2xBufMmZO99947r3/965MkH/jAB3LTTTe95JdfQlcMGTIkf/7znzvvL126tHONvtxj0F1eaZ09\n",
              "/fTTmTp1ao455picddZZPTaHIKdbvfa1r8348eNz5ZVXJnn+H/Tddtste+yxxzr7tbW15cknn0yS\n",
              "/M///E/++Z//OZ/85CeTPH9m6IQTTsiOO+6YWbNmpVar9e5BsFnrjjV41VVX5S9/+UuWLl3aefnm\n",
              "3XffnXHjxvXegbDZ6o41eNRRR+Whhx7Kww8/nCT5xS9+kTe96U2+ZJAN0h1rcPjw4bnpppvyzDPP\n",
              "JEl+9rOfZeTIkdlqq6168Ujoz4477rhce+21eeyxx1JVVS6++OKccMIJr/gYdJeXW2fPPPNMpk6d\n",
              "mqlTp+Yzn/lMzw5SQTe77777qokTJ1YjRoyo9t133+ruu++uqqqqTj311OonP/lJVVVV9dhjj1Wj\n",
              "Ro2q9tprr2rUqFHVd7/73c7nX3nllVWSauzYsdU+++xT7bPPPtWZZ55Z5FjYPG3qGvy/klRPPvlk\n",
              "b4xOP9Eda/C//uu/qn322acaO3ZsddBBB3W+BmyITV2Da9eurT796U9Xe+65ZzV27Nhq0qRJ1bx5\n",
              "84ocC5uf6dOnV7vuums1YMCA6rWvfW21++67V1W17vqrqqqaNWtWNXz48Gr48OHVKaecUq1atWqD\n",
              "HoNXsqlr8Pzzz6/q6uo6W2Sfffapzj///B6ZtVZVVdWzyQ8AAAD8Xy5ZBwAAgAIEOQAAABQgyAGg\n",
              "H+vo6MgXvvCFjBo1KmPGjEljY2OmT5+e5cuXd/t7LV26NBdffHG3vy4A9FeCHAD6sVNPPTXz5s3L\n",
              "Lbfckj/84Q9ZsGBBjjjiiPztb3/r9vcS5ACwcXypGwD0U4sWLcrYsWOzbNmyvOY1r3nR41/5ylcy\n",
              "e/bsbLHFFhk7dmy+853vZNCgQTn33HOzfPnyfOMb30iSXHTRRZk3b15mz56d2bNn58orr8zOO++c\n",
              "P/zhD6mvr88Pf/jDDB8+PKNGjcqf//zn7LnnnhkyZEiuvfbaXj5iANi8OEMOAP3U/PnzM2LEiJeM\n",
              "8V/+8pe5/PLLc9NNN+Wee+7JNttsk09/+tMb9Lp33HFHLrjggtxzzz05/PDDM3PmzCTJxRdfnD33\n",
              "3DOtra1iHIDNzkc/+tEMGzYstVotra2tG/ScJ598Mv/wD/+QkSNHZvTo0Rv8b+kLBDkAvApdf/31\n",
              "mTZtWrbffvskyYc+9KFcd911G/TcSZMm5Y1vfGPn34sXL+6pMQGg1xx//PG58cYbM3To0A1+zimn\n",
              "nJJx48blgQceyL333puPf/zjG/WeghwA+qnx48fnT3/6U/7617++4r61Wq3z77q6uqxZs6bzfltb\n",
              "2zr7NjQ0dP49YMCAdHR0dMO0AFDWlClTsttuu71o+x133JFDDz00++23X8aNG5cf/ehHSZ7/aNi8\n",
              "efNy1llnde67yy67bNR7CnIA6Kf22GOPHHfccTn11FM7v1W9qqrMmTMnw4cPzw9/+MOsWLEiSXLJ\n",
              "JZfkyCOP7HzevHnzsmbNmjz33HOZM2fOBr3fdtttl6eeeqpHjgUASli+fHmmT5+eq666KvPmzct1\n",
              "112Xs88+Ow8//HAWLlyY3XbbLR/60Iey77775sgjj8yCBQs26vXremhuAKAPuPzyy3P++efngAMO\n",
              "SF1dXdauXZspU6Zk5syZee655zJp0qR1vtQtSd71rnflRz/6Ud70pjdlt912y7hx4/Lcc8+94nuN\n",
              "HTs2o0ePzpgxYzJ8+HCfIwdgs3fzzTfnwQcfzFFHHbXO9vvvvz8dHR25/fbbc8EFF+SSSy7JL3/5\n",
              "y7ztbW/L0qVLs+WWW27Q6/uWdQAAAPj/DRs2LNdcc00aGxvz85//PF/60pdy8803v2i/efPm5V3v\n",
              "eleWLVvWuW3nnXfOLbfckj322GOD3ssl6wAAAPASJk+enCVLluT666/v3Nba2ppVq1Zl3333zXbb\n",
              "bZe77747SXL77benqqq84Q1v2ODXd4YcAACAV73TTz89P//5z/PYY49lp512yrbbbptFixZl/vz5\n",
              "Oeecc/LXv/41q1evzpAhQ3LNNdekoaEhd955Z84888ysXLky9fX1+epXv5qDDz54g99TkAMAAEAB\n",
              "LlkHAACAAgQ5AAAAFCDIAQAAoABBDgAAAAUIcgAAAChAkAMAAEABghwAAAAKEOQAAABQgCAHAACA\n",
              "AgQ5AAAAFPD/Aef646yiljeIAAAAAElFTkSuQmCC\n",
              "\">\n",
              "      </div>\n",
              "      <script type=\"text/javascript\">\n",
              "        (() => {\n",
              "          const chartElement = document.getElementById(\"chart-5c0de96a-5c39-431d-bc44-bfbfa83096f1\");\n",
              "          async function getCodeForChartHandler(event) {\n",
              "            const chartCodeResponse =  await google.colab.kernel.invokeFunction(\n",
              "                'getCodeForChart', [\"chart-5c0de96a-5c39-431d-bc44-bfbfa83096f1\"], {});\n",
              "            const responseJson = chartCodeResponse.data['application/json'];\n",
              "            await google.colab.notebook.addCell(responseJson.code, 'code');\n",
              "          }\n",
              "          chartElement.onclick = getCodeForChartHandler;\n",
              "        })();\n",
              "      </script>\n",
              "      <style>\n",
              "        .colab-quickchart-chart-with-code  {\n",
              "            display: block;\n",
              "            float: left;\n",
              "            border: 1px solid transparent;\n",
              "        }\n",
              "\n",
              "        .colab-quickchart-chart-with-code:hover {\n",
              "            cursor: pointer;\n",
              "            border: 1px solid #aaa;\n",
              "        }\n",
              "      </style>"
            ]
          },
          "metadata": {}
        }
      ]
    },
    {
      "cell_type": "code",
      "source": [
        "cp.sort_values('Count',ascending=False).plot(kind='bar', x='Day_of_Week', y= 'Count')\n",
        "plt.xlabel('Day of the week')\n",
        "plt.ylabel('Number reported crimes')\n",
        "plt. title('Number reported crimes/day of the week from 2001 to present')"
      ],
      "metadata": {
        "colab": {
          "base_uri": "https://localhost:8080/",
          "height": 521
        },
        "id": "42_fWZ6j6lhF",
        "outputId": "f016b908-8f23-4980-fac5-70dfc69b3b14"
      },
      "execution_count": 143,
      "outputs": [
        {
          "output_type": "execute_result",
          "data": {
            "text/plain": [
              "Text(0.5, 1.0, 'Number reported crimes/day of the week from 2001 to present')"
            ]
          },
          "metadata": {},
          "execution_count": 143
        },
        {
          "output_type": "display_data",
          "data": {
            "text/plain": [
              "<Figure size 640x480 with 1 Axes>"
            ],
            "image/png": "[encoded data removed]"
          },
          "metadata": {}
        }
      ]
    },
    {
      "cell_type": "markdown",
      "source": [
        "## RDDs"
      ],
      "metadata": {
        "id": "2KZE7XqT-BZO"
      }
    },
    {
      "cell_type": "code",
      "source": [
        "data2rdd = sc.textFile('police-station.csv')\n",
        "data2rdd.first()"
      ],
      "metadata": {
        "colab": {
          "base_uri": "https://localhost:8080/",
          "height": 54
        },
        "id": "REEu4jr--Hb0",
        "outputId": "0b4d53ba-cad3-452a-dfad-7fb358de75da"
      },
      "execution_count": 146,
      "outputs": [
        {
          "output_type": "execute_result",
          "data": {
            "text/plain": [
              "'DISTRICT,DISTRICT NAME,ADDRESS,CITY,STATE,ZIP,WEBSITE,PHONE,FAX,TTY,X COORDINATE,Y COORDINATE,LATITUDE,LONGITUDE,LOCATION'"
            ],
            "application/vnd.google.colaboratory.intrinsic+json": {
              "type": "string"
            }
          },
          "metadata": {},
          "execution_count": 146
        }
      ]
    },
    {
      "cell_type": "code",
      "source": [
        "data2_header = data2rdd.first()"
      ],
      "metadata": {
        "id": "K4Pa8zRk-fVd"
      },
      "execution_count": 147,
      "outputs": []
    },
    {
      "cell_type": "code",
      "source": [
        "data2_rest = data2rdd.filter(lambda line: line!= data2_header)\n",
        "data2_rest.first()"
      ],
      "metadata": {
        "colab": {
          "base_uri": "https://localhost:8080/",
          "height": 54
        },
        "id": "mfu1pabz-j4g",
        "outputId": "8237b6ff-7257-4585-9a8b-729f3d0bd73e"
      },
      "execution_count": 149,
      "outputs": [
        {
          "output_type": "execute_result",
          "data": {
            "text/plain": [
              "'Headquarters,Headquarters,3510 S Michigan Ave,Chicago,IL,60653,http://home.chicagopolice.org,,,,1177731.401,1881697.404,41.83070169,-87.62339535,\"(41.8307016873, -87.6233953459)\"'"
            ],
            "application/vnd.google.colaboratory.intrinsic+json": {
              "type": "string"
            }
          },
          "metadata": {},
          "execution_count": 149
        }
      ]
    },
    {
      "cell_type": "code",
      "source": [
        "#how many police stations are there?\n",
        "data2_rest.map(lambda line: line.split(',')).collect()"
      ],
      "metadata": {
        "colab": {
          "base_uri": "https://localhost:8080/"
        },
        "id": "hVKRX95G_MCC",
        "outputId": "54ad0e1c-aaf6-44d6-b5d7-f6ab726d2178"
      },
      "execution_count": 151,
      "outputs": [
        {
          "output_type": "execute_result",
          "data": {
            "text/plain": [
              "[['Headquarters',\n",
              "  'Headquarters',\n",
              "  '3510 S Michigan Ave',\n",
              "  'Chicago',\n",
              "  'IL',\n",
              "  '60653',\n",
              "  'http://home.chicagopolice.org',\n",
              "  '',\n",
              "  '',\n",
              "  '',\n",
              "  '1177731.401',\n",
              "  '1881697.404',\n",
              "  '41.83070169',\n",
              "  '-87.62339535',\n",
              "  '\"(41.8307016873',\n",
              "  ' -87.6233953459)\"'],\n",
              " ['18',\n",
              "  'Near North',\n",
              "  '1160 N Larrabee St',\n",
              "  'Chicago',\n",
              "  'IL',\n",
              "  '60610',\n",
              "  'http://home.chicagopolice.org/community/districts/18th-district-near-north/',\n",
              "  '312-742-5870',\n",
              "  '312-742-5771',\n",
              "  '312-742-5773',\n",
              "  '1172080.029',\n",
              "  '1908086.527',\n",
              "  '41.90324165',\n",
              "  '-87.64335214',\n",
              "  '\"(41.9032416531',\n",
              "  ' -87.6433521393)\"'],\n",
              " ['19',\n",
              "  'Town Hall',\n",
              "  '850 W Addison St',\n",
              "  'Chicago',\n",
              "  'IL',\n",
              "  '60613',\n",
              "  'http://home.chicagopolice.org/community/districts/19th-district-town-hall/',\n",
              "  '312-744-8320',\n",
              "  '312-744-4481',\n",
              "  '312-744-8011',\n",
              "  '1169730.744',\n",
              "  '1924160.317',\n",
              "  '41.94740046',\n",
              "  '-87.65151202',\n",
              "  '\"(41.9474004564',\n",
              "  ' -87.651512018)\"'],\n",
              " ['20',\n",
              "  'Lincoln',\n",
              "  '5400 N Lincoln Ave',\n",
              "  'Chicago',\n",
              "  'IL',\n",
              "  '60625',\n",
              "  'http://home.chicagopolice.org/community/districts/20th-district-lincoln/',\n",
              "  '312-742-8714',\n",
              "  '312-742-8803',\n",
              "  '312-742-8841',\n",
              "  '1158399.146',\n",
              "  '1935788.826',\n",
              "  '41.97954951',\n",
              "  '-87.69284451',\n",
              "  '\"(41.9795495131',\n",
              "  ' -87.6928445094)\"'],\n",
              " ['22',\n",
              "  'Morgan Park',\n",
              "  '1900 W Monterey Ave',\n",
              "  'Chicago',\n",
              "  'IL',\n",
              "  '60643',\n",
              "  'http://home.chicagopolice.org/community/districts/22nd-district-morgan-park/',\n",
              "  '312-745-0710',\n",
              "  '312-745-0814',\n",
              "  '312-745-0569',\n",
              "  '1165825.476',\n",
              "  '1830851.333',\n",
              "  '41.69143478',\n",
              "  '-87.66852039',\n",
              "  '\"(41.6914347795',\n",
              "  ' -87.6685203937)\"'],\n",
              " ['24',\n",
              "  'Rogers Park',\n",
              "  '6464 N Clark St',\n",
              "  'Chicago',\n",
              "  'IL',\n",
              "  '60626',\n",
              "  'http://home.chicagopolice.org/community/districts/24th-district-rogers-park/',\n",
              "  '312-744-5907',\n",
              "  '312-744-6928',\n",
              "  '312-744-7603',\n",
              "  '1164193.588',\n",
              "  '1943199.401',\n",
              "  '41.99976348',\n",
              "  '-87.67132429',\n",
              "  '\"(41.9997634842',\n",
              "  ' -87.6713242922)\"'],\n",
              " ['25',\n",
              "  'Grand Central',\n",
              "  '5555 W Grand Ave',\n",
              "  'Chicago',\n",
              "  'IL',\n",
              "  '60639',\n",
              "  'http://home.chicagopolice.org/community/districts/25th-district-grand-central/',\n",
              "  '312-746-8605',\n",
              "  '312-746-4353',\n",
              "  '312-746-8383',\n",
              "  '1138770.871',\n",
              "  '1913442.439',\n",
              "  '41.91860889',\n",
              "  '-87.76557448',\n",
              "  '\"(41.9186088912',\n",
              "  ' -87.765574479)\"'],\n",
              " ['1',\n",
              "  'Central',\n",
              "  '1718 S State St',\n",
              "  'Chicago',\n",
              "  'IL',\n",
              "  '60616',\n",
              "  'http://home.chicagopolice.org/community/districts/1st-district-central/',\n",
              "  '312-745-4290',\n",
              "  '312-745-3694',\n",
              "  '312-745-3693',\n",
              "  '1176569.052',\n",
              "  '1891771.704',\n",
              "  '41.85837259',\n",
              "  '-87.62735617',\n",
              "  '\"(41.8583725929',\n",
              "  ' -87.627356171)\"'],\n",
              " ['2',\n",
              "  'Wentworth',\n",
              "  '5101 S Wentworth Ave',\n",
              "  'Chicago',\n",
              "  'IL',\n",
              "  '60609',\n",
              "  'http://home.chicagopolice.org/community/districts/2nd-district-wentworth/',\n",
              "  '312-747-8366',\n",
              "  '312-747-5396',\n",
              "  '312-747-6656',\n",
              "  '1175864.837',\n",
              "  '1871153.753',\n",
              "  '41.80181109',\n",
              "  '-87.63056018',\n",
              "  '\"(41.8018110912',\n",
              "  ' -87.6305601801)\"'],\n",
              " ['3',\n",
              "  'Grand Crossing',\n",
              "  '7040 S Cottage Grove Ave',\n",
              "  'Chicago',\n",
              "  'IL',\n",
              "  '60637',\n",
              "  'http://home.chicagopolice.org/community/districts/3rd-district-grand-crossing/',\n",
              "  '312-747-8201',\n",
              "  '312-747-5479',\n",
              "  '312-747-9168',\n",
              "  '1182739.183',\n",
              "  '1858317.732',\n",
              "  '41.76643089',\n",
              "  '-87.60574786',\n",
              "  '\"(41.7664308925',\n",
              "  ' -87.6057478606)\"'],\n",
              " ['4',\n",
              "  'South Chicago',\n",
              "  '2255 E 103rd St',\n",
              "  'Chicago',\n",
              "  'IL',\n",
              "  '60617',\n",
              "  'http://home.chicagopolice.org/community/districts/4th-district-south-chicago/',\n",
              "  '312-747-7581',\n",
              "  '312-747-5276',\n",
              "  '312-747-9169',\n",
              "  '1193131.299',\n",
              "  '1837090.265',\n",
              "  '41.70793329',\n",
              "  '-87.56834912',\n",
              "  '\"(41.7079332906',\n",
              "  ' -87.5683491228)\"'],\n",
              " ['5',\n",
              "  'Calumet',\n",
              "  '727 E 111th St',\n",
              "  'Chicago',\n",
              "  'IL',\n",
              "  '60628',\n",
              "  'http://home.chicagopolice.org/community/districts/5th-district-calumet/',\n",
              "  '312-747-8210',\n",
              "  '312-747-5935',\n",
              "  '312-747-9170',\n",
              "  '1183305.427',\n",
              "  '1831462.313',\n",
              "  '41.69272336',\n",
              "  '-87.60450587',\n",
              "  '\"(41.6927233639',\n",
              "  ' -87.6045058667)\"'],\n",
              " ['6',\n",
              "  'Gresham',\n",
              "  '7808 S Halsted St',\n",
              "  'Chicago',\n",
              "  'IL',\n",
              "  '60620',\n",
              "  'http://home.chicagopolice.org/community/districts/6th-district-gresham/',\n",
              "  '312-745-3617',\n",
              "  '312-745-3649',\n",
              "  '312-745-3639',\n",
              "  '1172283.013',\n",
              "  '1853022.646',\n",
              "  '41.75213684',\n",
              "  '-87.64422891',\n",
              "  '\"(41.7521368378',\n",
              "  ' -87.6442289066)\"'],\n",
              " ['7',\n",
              "  'Englewood',\n",
              "  '1438 W 63rd St',\n",
              "  'Chicago',\n",
              "  'IL',\n",
              "  '60636',\n",
              "  'http://home.chicagopolice.org/community/districts/7th-district-englewood/',\n",
              "  '312-747-8223',\n",
              "  '312-747-6558',\n",
              "  '312-747-6652',\n",
              "  '1167659.235',\n",
              "  '1863005.522',\n",
              "  '41.77963154',\n",
              "  '-87.66088702',\n",
              "  '\"(41.7796315359',\n",
              "  ' -87.6608870173)\"'],\n",
              " ['8',\n",
              "  'Chicago Lawn',\n",
              "  '3420 W 63rd St',\n",
              "  'Chicago',\n",
              "  'IL',\n",
              "  '60629',\n",
              "  'http://home.chicagopolice.org/community/districts/8th-district-chicago-lawn/',\n",
              "  '312-747-8730',\n",
              "  '312-747-8545',\n",
              "  '312-747-8116',\n",
              "  '1154575.242',\n",
              "  '1862672.049',\n",
              "  '41.77898719',\n",
              "  '-87.70886382',\n",
              "  '\"(41.778987189',\n",
              "  ' -87.7088638153)\"'],\n",
              " ['9',\n",
              "  'Deering',\n",
              "  '3120 S Halsted St',\n",
              "  'Chicago',\n",
              "  'IL',\n",
              "  '60608',\n",
              "  'http://home.chicagopolice.org/community/districts/9th-district-deering/',\n",
              "  '312-747-8227',\n",
              "  '312-747-5329',\n",
              "  '312-747-9172',\n",
              "  '1171440.24',\n",
              "  '1884085.224',\n",
              "  '41.83739443',\n",
              "  '-87.64640771',\n",
              "  '\"(41.8373944311',\n",
              "  ' -87.6464077068)\"'],\n",
              " ['10',\n",
              "  'Ogden',\n",
              "  '3315 W Ogden Ave',\n",
              "  'Chicago',\n",
              "  'IL',\n",
              "  '60623',\n",
              "  'http://home.chicagopolice.org/community/districts/10th-district-ogden/',\n",
              "  '312-747-7511',\n",
              "  '312-747-7429',\n",
              "  '312-747-7471',\n",
              "  '1154500.753',\n",
              "  '1890985.501',\n",
              "  '41.85668453',\n",
              "  '-87.70838196',\n",
              "  '\"(41.8566845327',\n",
              "  ' -87.708381958)\"'],\n",
              " ['11',\n",
              "  'Harrison',\n",
              "  '3151 W Harrison St',\n",
              "  'Chicago',\n",
              "  'IL',\n",
              "  '60612',\n",
              "  'http://home.chicagopolice.org/community/districts/11th-district-harrison/',\n",
              "  '312-746-8386',\n",
              "  '312-746-4281',\n",
              "  '312-746-5151',\n",
              "  '1155244.069',\n",
              "  '1897148.755',\n",
              "  '41.87358229',\n",
              "  '-87.70548813',\n",
              "  '\"(41.8735822883',\n",
              "  ' -87.705488126)\"'],\n",
              " ['12', 'Near West', '\"1412 S Blue Island Ave'],\n",
              " ['\"',\n",
              "  'Chicago',\n",
              "  'IL',\n",
              "  '60608',\n",
              "  'http://home.chicagopolice.org/community/districts/12th-district-near-west/',\n",
              "  '312-746-8396',\n",
              "  '312-746-4248',\n",
              "  '312-746-9868',\n",
              "  '1168487.845',\n",
              "  '1893384.455',\n",
              "  '41.86297662',\n",
              "  '-87.65697251',\n",
              "  '\"(41.8629766244',\n",
              "  ' -87.6569725149)\"'],\n",
              " ['14',\n",
              "  'Shakespeare',\n",
              "  '2150 N California Ave',\n",
              "  'Chicago',\n",
              "  'IL',\n",
              "  '60647',\n",
              "  'http://home.chicagopolice.org/community/districts/14th-district-shakespeare/',\n",
              "  '312-744-8250',\n",
              "  '312-744-2422',\n",
              "  '312-744-8260',\n",
              "  '1157304.426',\n",
              "  '1914481.521',\n",
              "  '41.92110332',\n",
              "  '-87.69745182',\n",
              "  '\"(41.9211033246',\n",
              "  ' -87.6974518223)\"'],\n",
              " ['15',\n",
              "  'Austin',\n",
              "  '5701 W Madison St',\n",
              "  'Chicago',\n",
              "  'IL',\n",
              "  '60644',\n",
              "  'http://home.chicagopolice.org/community/districts/15th-district-austin/',\n",
              "  '312-743-1440',\n",
              "  '312-743-1366',\n",
              "  '312-743-1485',\n",
              "  '1138148.815',\n",
              "  '1899399.078',\n",
              "  '41.88008346',\n",
              "  '-87.76819989',\n",
              "  '\"(41.8800834614',\n",
              "  ' -87.768199889)\"'],\n",
              " ['16',\n",
              "  'Jefferson Park',\n",
              "  '5151 N Milwaukee Ave',\n",
              "  'Chicago',\n",
              "  'IL',\n",
              "  '60630',\n",
              "  'http://home.chicagopolice.org/community/districts/16th-district-jefferson-park/',\n",
              "  '312-742-4480',\n",
              "  '312-742-4421',\n",
              "  '312-742-4423',\n",
              "  '1138480.758',\n",
              "  '1933660.473',\n",
              "  '41.97409445',\n",
              "  '-87.76614884',\n",
              "  '\"(41.9740944511',\n",
              "  ' -87.7661488432)\"'],\n",
              " ['17',\n",
              "  'Albany Park',\n",
              "  '4650 N Pulaski Rd',\n",
              "  'Chicago',\n",
              "  'IL',\n",
              "  '60630',\n",
              "  'http://home.chicagopolice.org/community/districts/17th-district-albany-park/',\n",
              "  '312-742-4410',\n",
              "  '312-742-5411',\n",
              "  '312-742-5451',\n",
              "  '1148843.91',\n",
              "  '1930801.058',\n",
              "  '41.96605342',\n",
              "  '-87.72811456',\n",
              "  '\"(41.9660534171',\n",
              "  ' -87.728114561)\"']]"
            ]
          },
          "metadata": {},
          "execution_count": 151
        }
      ]
    },
    {
      "cell_type": "code",
      "source": [
        "data2_rest.map(lambda line: line.split(',')).count()"
      ],
      "metadata": {
        "colab": {
          "base_uri": "https://localhost:8080/"
        },
        "id": "MKfX_KOH_S_w",
        "outputId": "aa1e330a-93dd-44f8-903b-0f37eaf26bb7"
      },
      "execution_count": 152,
      "outputs": [
        {
          "output_type": "execute_result",
          "data": {
            "text/plain": [
              "24"
            ]
          },
          "metadata": {},
          "execution_count": 152
        }
      ]
    },
    {
      "cell_type": "code",
      "source": [
        "data2.columns"
      ],
      "metadata": {
        "colab": {
          "base_uri": "https://localhost:8080/"
        },
        "id": "KOipA8Tf_lou",
        "outputId": "5d9ee871-92b1-4c1b-ec13-cb61f38c4302"
      },
      "execution_count": 153,
      "outputs": [
        {
          "output_type": "execute_result",
          "data": {
            "text/plain": [
              "['DISTRICT',\n",
              " 'DISTRICT NAME',\n",
              " 'ADDRESS',\n",
              " 'CITY',\n",
              " 'STATE',\n",
              " 'ZIP',\n",
              " 'WEBSITE',\n",
              " 'PHONE',\n",
              " 'FAX',\n",
              " 'TTY',\n",
              " 'X COORDINATE',\n",
              " 'Y COORDINATE',\n",
              " 'LATITUDE',\n",
              " 'LONGITUDE',\n",
              " 'LOCATION',\n",
              " 'Format_district']"
            ]
          },
          "metadata": {},
          "execution_count": 153
        }
      ]
    },
    {
      "cell_type": "code",
      "source": [
        "#display district-Zip WITH id 7\n",
        "\n",
        "(data2_rest.filter(lambda line: line.split(',')[0] == '7').\n",
        "  map(lambda line: (line.split(',')[0],\n",
        "                   line.split(',')[1],\n",
        "                   line.split(',')[2],\n",
        "                   line.split(',')[3],\n",
        "                   line.split(',')[4],\n",
        "                   line.split(',')[5],\n",
        "                   )).collect())\n",
        ""
      ],
      "metadata": {
        "colab": {
          "base_uri": "https://localhost:8080/"
        },
        "id": "m6FsvNKJ_5LK",
        "outputId": "0ff6809a-1d18-46b8-c669-96158cd04ff7"
      },
      "execution_count": 159,
      "outputs": [
        {
          "output_type": "execute_result",
          "data": {
            "text/plain": [
              "[('7', 'Englewood', '1438 W 63rd St', 'Chicago', 'IL', '60636')]"
            ]
          },
          "metadata": {},
          "execution_count": 159
        }
      ]
    },
    {
      "cell_type": "code",
      "source": [
        "#police station 10 and 11 are geograph close to each other. display the district ID, District name, address and zip code\n",
        "\n",
        "(data2_rest.filter(lambda line: line.split(',')[0] in ['10','11']).\n",
        "  map(lambda line : (line.split(',')[1],\n",
        "                     line.split(',')[2],\n",
        "                     line.split(',')[5]\n",
        "                     )).collect())"
      ],
      "metadata": {
        "colab": {
          "base_uri": "https://localhost:8080/"
        },
        "id": "30IWURv8BUCo",
        "outputId": "1e85b7b9-c640-44c6-f2a7-abe1adeefbc0"
      },
      "execution_count": 160,
      "outputs": [
        {
          "output_type": "execute_result",
          "data": {
            "text/plain": [
              "[('Ogden', '3315 W Ogden Ave', '60623'),\n",
              " ('Harrison', '3151 W Harrison St', '60612')]"
            ]
          },
          "metadata": {},
          "execution_count": 160
        }
      ]
    }
  ]
}